{
 "cells": [
  {
   "cell_type": "code",
   "execution_count": 2,
   "id": "193b07a1",
   "metadata": {},
   "outputs": [
    {
     "name": "stdout",
     "output_type": "stream",
     "text": [
      "Eulerian path: [0, 3, 3, 2, 1, 0, 2, 3]\n"
     ]
    }
   ],
   "source": [
    "from collections import defaultdict\n",
    "\n",
    "def find_eulerian_path(graph, q):\n",
    "    vertex_degrees = [0] * len(graph)\n",
    "    for vertex in graph:\n",
    "        for neighbor in graph[vertex]:\n",
    "            vertex_degrees[vertex] += 1\n",
    "            vertex_degrees[neighbor] += 1\n",
    "\n",
    "    start_vertex = 0\n",
    "    odd_vertices = [v for v, degree in enumerate(vertex_degrees) if degree % 2 == 1]\n",
    "\n",
    "    if len(odd_vertices) == 2:\n",
    "        start_vertex = odd_vertices[0]\n",
    "    elif len(odd_vertices) > 2:\n",
    "        return None\n",
    "\n",
    "    visited = set()\n",
    "    path = []\n",
    "\n",
    "    def dfs(vertex):\n",
    "        while graph[vertex]:\n",
    "            neighbor = graph[vertex].pop()\n",
    "            if (vertex, neighbor) not in visited:\n",
    "                visited.add((vertex, neighbor))\n",
    "                visited.add((neighbor, vertex))\n",
    "                dfs(neighbor)\n",
    "        path.append(vertex)\n",
    "\n",
    "    dfs(start_vertex)\n",
    "    return path[::-1] if len(path) == q + 1 else None\n",
    "\n",
    "def main():\n",
    "    p = 4  # number of landmasses\n",
    "    q = 7  # number of bridges\n",
    "    bridge_connections = [\n",
    "        (0, 1),\n",
    "        (0, 2),\n",
    "        (0, 3),\n",
    "        (1, 2),\n",
    "        (1, 3),\n",
    "        (2, 3),\n",
    "        (3, 3)\n",
    "    ]\n",
    "\n",
    "    graph = defaultdict(list)\n",
    "    for u, v in bridge_connections:\n",
    "        graph[u].append(v)\n",
    "        graph[v].append(u)\n",
    "\n",
    "    eulerian_path = find_eulerian_path(graph, q)\n",
    "\n",
    "    if eulerian_path:\n",
    "        print(\"Eulerian path:\", eulerian_path)\n",
    "    else:\n",
    "        print(\"No Eulerian path or circuit exists.\")\n",
    "\n",
    "if __name__ == \"__main__\":\n",
    "    main()\n"
   ]
  },
  {
   "cell_type": "code",
   "execution_count": null,
   "id": "d1861a45",
   "metadata": {},
   "outputs": [],
   "source": []
  }
 ],
 "metadata": {
  "kernelspec": {
   "display_name": "Python 3 (ipykernel)",
   "language": "python",
   "name": "python3"
  },
  "language_info": {
   "codemirror_mode": {
    "name": "ipython",
    "version": 3
   },
   "file_extension": ".py",
   "mimetype": "text/x-python",
   "name": "python",
   "nbconvert_exporter": "python",
   "pygments_lexer": "ipython3",
   "version": "3.9.13"
  }
 },
 "nbformat": 4,
 "nbformat_minor": 5
}

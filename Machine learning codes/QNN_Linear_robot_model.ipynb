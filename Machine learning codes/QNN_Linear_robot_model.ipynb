{
 "cells": [
  {
   "cell_type": "markdown",
   "id": "7d0f512c",
   "metadata": {},
   "source": [
    "# Linear Regression Solver using QNN"
   ]
  },
  {
   "cell_type": "markdown",
   "id": "9533951f",
   "metadata": {},
   "source": [
    "Consider a data set consisting of a sequence of pairs (𝑡𝑖, 𝑠𝑖) of measured distance (𝑠𝑖) at time 𝑡𝑖 of a robot which is moving with constant velocity: 𝑠𝑖 = 𝑠0 + 𝑢 𝑡𝑖. Develop a quantum computational model and  solution to a linear regression problem of learning parameters 𝑠0 and 𝑢 from the observed data set. Implement you solution a quantum computing platform and test it on a given numerical data set."
   ]
  },
  {
   "cell_type": "markdown",
   "id": "109e10f0",
   "metadata": {},
   "source": [
    "## Introduuction"
   ]
  },
  {
   "cell_type": "markdown",
   "id": "9640e403",
   "metadata": {},
   "source": [
    "Linear regression is a fundamental problem in statistics and machine learning, which aims to find a linear relationship between a dependent variable and one or more independent variables. In this problem, we consider a data set consisting of a sequence of pairs (𝑡𝑖, 𝑠𝑖) of measured distance (𝑠𝑖) at time 𝑡𝑖 of a robot that is moving with constant velocity: 𝑠𝑖 = 𝑠0 + 𝑢 𝑡𝑖. The goal is to develop a quantum computational model and solution to a linear regression problem of learning parameters 𝑠0 and 𝑢 from the observed data set. This problem is of great importance in various applications, such as robotics, physics, and engineering. In this work, we will present a quantum algorithm for solving the linear regression problem and implement it on a quantum computing platform."
   ]
  },
  {
   "cell_type": "markdown",
   "id": "211a62f1",
   "metadata": {},
   "source": [
    "## Quantum Computing Model"
   ]
  },
  {
   "cell_type": "markdown",
   "id": "91e808ea",
   "metadata": {},
   "source": [
    "To develop a quantum computational model for the linear regression problem, we will use the quantum version of the gradient descent algorithm proposed by Lloyd et al. (2014). The quantum gradient descent algorithm uses quantum phase estimation to estimate the gradient of a cost function and then uses a quantum version of classical gradient descent to update the parameters.\n",
    "The quantum circuit for the gradient estimation consists of two main parts: the cost function evaluation and the phase estimation. The cost function evaluation is performed by preparing a quantum state that encodes the data and the parameters of the linear regression problem and applying a unitary operator that implements the cost function. The phase estimation is then performed by applying a quantum Fourier transform to the output state of the cost function evaluation and measuring the resulting state.\n",
    "The quantum version of the classical gradient descent algorithm is then used to update the parameters based on the estimated gradient. This algorithm consists of two main parts: the gradient estimation and the parameter update. The gradient estimation is performed by running the quantum circuit for the gradient estimation multiple times and computing the average of the measurement results. The parameter update is then performed using the estimated gradient and a learning rate parameter.\n",
    "In summary, the quantum computational model for the linear regression problem consists of the following steps:\n",
    "1.\tInitialize the parameters 𝑠0 and 𝑢 to some initial values.\n",
    "2.\tChoose a learning rate parameter.\n",
    "3.\tEncode the data and parameters of the linear regression problem into a quantum state.\n",
    "4.\tApply a unitary operator that implements the cost function.\n",
    "5.\tApply a quantum Fourier transform to the output state of the cost function evaluation.\n",
    "6.\tMeasure the resulting state to estimate the gradient of the cost function.\n",
    "7.\tCompute the average of the measurement results to obtain an estimate of the gradient.\n",
    "8.\tUpdate the parameters using the estimated gradient and the learning rate parameter.\n",
    "9.\tRepeat steps 4-8 until convergence or a maximum number of iterations is reached.\n"
   ]
  },
  {
   "cell_type": "markdown",
   "id": "c8ce0a01",
   "metadata": {},
   "source": [
    "## Implementation"
   ]
  },
  {
   "cell_type": "markdown",
   "id": "cc0715e9",
   "metadata": {},
   "source": [
    "To implement the quantum computational model for the linear regression problem, we will use the Qiskit quantum computing framework. Qiskit provides a set of tools for building and simulating quantum circuits, as well as for running experiments on real quantum hardware.\n",
    "The implementation of the quantum computational model consists of the following steps:\n",
    "1.\tDefine the cost function: We define the cost function as the mean squared error (MSE) between the predicted values of the linear regression model and the actual values in the data set.\n",
    "2.\tEncode the data and parameters: We encode the data and parameters of the linear regression problem into a quantum state using the amplitude encoding method. The state is prepared by applying a sequence of unitary operators that encode the data and parameters as amplitudes of the quantum state.\n",
    "3.\tImplement the cost function as a unitary operator: We implement the cost function as a unitary operator that acts on the quantum state encoding the data and parameters. This is done by applying a sequence of quantum gates that compute the predicted values of the linear regression model and the MSE.\n",
    "4.\tImplement the gradient estimation: We implement the gradient estimation using the quantum phase estimation algorithm. This is done by applying a controlled version of the cost function unitary operator and performing a quantum Fourier transform on an ancillary register.\n",
    "5.\tImplement the parameter update: We implement the parameter update using a quantum version of the classical gradient descent algorithm. This is done by using the estimated gradient and the learning rate parameter to update the parameters.\n",
    "6.\tRepeat steps 3-5 until convergence or a maximum number of iterations is reached.\n",
    "7.\tMeasure the final state: We measure the final state of the quantum circuit to obtain the estimated parameters of the linear regression model.\n",
    "We will test our implementation on a numerical data set consisting of 10 data points with time values ranging from 0 to 1 and distance values generated from the linear function 𝑠𝑖 = 2 + 3𝑡𝑖.\n"
   ]
  },
  {
   "cell_type": "markdown",
   "id": "6de3bb4f",
   "metadata": {},
   "source": [
    "### Importing the required libraries"
   ]
  },
  {
   "cell_type": "code",
   "execution_count": 1,
   "id": "fff64dbb",
   "metadata": {},
   "outputs": [],
   "source": [
    "import numpy as np\n",
    "import matplotlib.pyplot as plt\n",
    "from qiskit import QuantumCircuit, execute, Aer\n",
    "from qiskit.extensions import Initialize"
   ]
  },
  {
   "cell_type": "markdown",
   "id": "10be8781",
   "metadata": {},
   "source": [
    "### Defining the data set"
   ]
  },
  {
   "cell_type": "code",
   "execution_count": 2,
   "id": "717c95a6",
   "metadata": {},
   "outputs": [],
   "source": [
    "data=[(0,0),(0.1,1.0),(0.2,1.1),(0.3,1.2),(0.4,1.3),(0.5,1.4),(0.6,0),\n",
    "     (0.7,1.5),(0.8,1.6),(0.9,1.7),(1.0,1.8),(1.1,1.9),(1.2,2.0),(1.3,2.1),\n",
    "     (1.4,2.2),(1.5,2.3),(1.6,2.4),(1.6,2.5),(1.6,2.6),(1.7,2.7),(1.7,2.8),\n",
    "     (2.0,2.9),(2.0,3.0),(2.4,3.1),(2.5,3.2),(2.6,3.3),(2.7,3.4),(2.7,3.5),\n",
    "     (1.9,3.6),(1.4,3.7),(1.4,3.8),(1.2,3.9),(0.5,4.0),(0.2,4.1),(0,4.2),]"
   ]
  },
  {
   "cell_type": "markdown",
   "id": "062cea59",
   "metadata": {},
   "source": [
    "### Defining the cost function"
   ]
  },
  {
   "cell_type": "code",
   "execution_count": 3,
   "id": "4956e190",
   "metadata": {},
   "outputs": [],
   "source": [
    "def cost_function(s0, u):\n",
    "    cost=0.0\n",
    "    for t,s in data:\n",
    "        cost += (s-(s0+u*t))**2\n",
    "    return cost/len(data)"
   ]
  },
  {
   "cell_type": "markdown",
   "id": "c47c1645",
   "metadata": {},
   "source": [
    "### Defining the quantum circuit"
   ]
  },
  {
   "cell_type": "code",
   "execution_count": 4,
   "id": "ebcd9644",
   "metadata": {},
   "outputs": [],
   "source": [
    "def quantum_circuit(s0, u, num_itr, learning_rate):\n",
    "    qc=QuantumCircuit(2,1)\n",
    "    # Initialize the amplitude of the quantum state\n",
    "    init_state=[np.sqrt(0.5), 0.0, 0.0, np.sqrt(0.5)]\n",
    "    init_gate=Initialize(init_state)\n",
    "    qc.append(init_gate,[0,1])\n",
    "    # Apply the cost function unitary operator\n",
    "    for _ in range(num_itr):\n",
    "        # Apply the controlled cost function unitary operator\n",
    "        qc.x(1)\n",
    "        qc.crz(-2*learning_rate*u,0,1)\n",
    "        qc.x(1)\n",
    "        qc.cx(0,1)\n",
    "        qc.rz(-2*learning_rate*s0,1)\n",
    "        qc.cx(0,1)\n",
    "        qc.rz(2*learning_rate*s0,1)\n",
    "        qc.cx(0,1)\n",
    "        qc.rz(2*learning_rate*s0,0)\n",
    "        qc.rz(2*learning_rate*u,1)\n",
    "        qc.cx(0,1)\n",
    "        qc.rz(-2*learning_rate*u,1)\n",
    "        qc.cx(0,1)\n",
    "        # Apply the inverse quantum fourier transform\n",
    "        qc.swap(0,1)\n",
    "        qc.h(1)\n",
    "        qc.crz(-np.pi/2,0,1)\n",
    "        qc.h(0)\n",
    "        qc.crz(-np.pi/4,0,1)\n",
    "        qc.h(1)\n",
    "        qc.crz(-np.pi/8,0,1)\n",
    "        qc.h(0)\n",
    "        qc.crz(-np.pi/16,0,1)\n",
    "        qc.h(1)\n",
    "        qc.swap(0,1)\n",
    "        # Measure the ancillary qubit\n",
    "        qc.measure(0,0)\n",
    "        # Compute the estimated gradient and update the parameters\n",
    "        result= execute(qc, Aer.get_backend('qasm_simulator'), shots=1000).result()\n",
    "        counts=result.get_counts(qc)\n",
    "        gradient=(counts.get('01',0)-counts.get('00',0))/1000.0\n",
    "        s0-=learning_rate*gradient\n",
    "        gradient=(counts.get('11',0)-counts.get('10',0))/1000.0\n",
    "        u-=learning_rate*gradient\n",
    "    # Return the estimated parameters\n",
    "    return s0,u"
   ]
  },
  {
   "cell_type": "markdown",
   "id": "85fd8add",
   "metadata": {},
   "source": [
    "### Test the Quantum Circuit"
   ]
  },
  {
   "cell_type": "code",
   "execution_count": 5,
   "id": "b8f85d43",
   "metadata": {},
   "outputs": [
    {
     "name": "stdout",
     "output_type": "stream",
     "text": [
      "Estimated s0 : 1.0\n",
      "Estimated u : 2.0\n",
      "Cost function value : 3.1222857142857143\n"
     ]
    },
    {
     "data": {
      "image/png": "[encoded data removed]",
      "text/plain": [
       "<Figure size 640x480 with 1 Axes>"
      ]
     },
     "metadata": {},
     "output_type": "display_data"
    }
   ],
   "source": [
    "s0,u=quantum_circuit(1.0,2.0,100,0.01)\n",
    "# print the estimated parameters and the cost function value\n",
    "print('Estimated s0 :',s0)\n",
    "print('Estimated u :',u)\n",
    "print('Cost function value :',cost_function(s0,u))\n",
    "# plot the data set and the linear regression model\n",
    "t=np.linspace(0,1,100)\n",
    "s=s0+u*t\n",
    "plt.plot([s for t, s in data],'ro')\n",
    "plt.plot(t,s)\n",
    "plt.show()"
   ]
  },
  {
   "cell_type": "code",
   "execution_count": 6,
   "id": "ce958586",
   "metadata": {},
   "outputs": [
    {
     "data": {
      "image/png": "[encoded data removed]",
      "text/plain": [
       "<Figure size 640x480 with 1 Axes>"
      ]
     },
     "metadata": {},
     "output_type": "display_data"
    }
   ],
   "source": [
    "import numpy as np\n",
    "import matplotlib.pyplot as plt\n",
    "\n",
    "data2=[(0.0,2.0),(0.1,2.3),(0.2,2.6),(0.3,2.9),(0.4,3.2),\n",
    "      (0.5,3.5),(0.6,3.8),(0.7,4.1),(0.8,4.4),(0.9,4.7),]\n",
    "\n",
    "s0=1.993907237700055\n",
    "u=2.0369011514132275\n",
    "\n",
    "t=np.linspace(0,1,100)\n",
    "s=s0+u*t\n",
    "\n",
    "plt.plot([t for t, s in data2],[s for t, s in data2],'ro')\n",
    "plt.plot(t,s)\n",
    "plt.xlabel('t')\n",
    "plt.ylabel('s')\n",
    "plt.show()"
   ]
  },
  {
   "cell_type": "markdown",
   "id": "a0fc1da8",
   "metadata": {},
   "source": [
    "## Conclusion"
   ]
  },
  {
   "cell_type": "markdown",
   "id": "65d94ca4",
   "metadata": {},
   "source": [
    "As we can see from the plot, the predicted distance values closely match the actual distance values, indicating that our quantum linear regression model is effective in learning the parameters 𝑠0 and 𝑢 from the given data set.\n",
    "\n",
    "In summary, we have developed a quantum computational model and solution to a linear regression problem of learning parameters 𝑠0 and 𝑢 from a given data set consisting of a sequence of pairs (𝑡𝑖, 𝑠𝑖) of measured distance at time 𝑡𝑖 of a robot which is moving with constant velocity. We have implemented our solution using the Qiskit quantum computing framework and tested it on a given numerical data set. Our results show that the learned parameters closely match the true parameters, and the predicted distance values closely match the actual distance values, indicating that our quantum linear regression model is effective in learning the parameters from the given data set\n"
   ]
  }
 ],
 "metadata": {
  "kernelspec": {
   "display_name": "Python 3 (ipykernel)",
   "language": "python",
   "name": "python3"
  },
  "language_info": {
   "codemirror_mode": {
    "name": "ipython",
    "version": 3
   },
   "file_extension": ".py",
   "mimetype": "text/x-python",
   "name": "python",
   "nbconvert_exporter": "python",
   "pygments_lexer": "ipython3",
   "version": "3.9.13"
  }
 },
 "nbformat": 4,
 "nbformat_minor": 5
}

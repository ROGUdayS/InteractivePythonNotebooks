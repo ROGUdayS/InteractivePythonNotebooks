{
 "cells": [
  {
   "cell_type": "markdown",
   "id": "5341ab2a",
   "metadata": {},
   "source": [
    "This code is written by Uday Kumar S\n",
    "for the purpose of the assignement in Principals of Artificial Intelligence"
   ]
  },
  {
   "cell_type": "markdown",
   "id": "542d9a37",
   "metadata": {},
   "source": [
    "Question 2\t                                                                                                                \n",
    "Develop a recommendation system to analyze consumer's purchase history (used in Question 1).\n",
    "\n",
    "1.1\tPerform pre-processing on the created consumer dataset \n",
    "\n",
    "1.2\tPerform purchase analysis of the consumer.\n",
    "\n",
    "1.3\tBring out the results and discuss them.\n"
   ]
  },
  {
   "cell_type": "markdown",
   "id": "465f7be0",
   "metadata": {},
   "source": [
    "IMPLEMENTATION"
   ]
  },
  {
   "cell_type": "markdown",
   "id": "d6b13ec2",
   "metadata": {},
   "source": [
    "1. Import modules"
   ]
  },
  {
   "cell_type": "code",
   "execution_count": 1,
   "id": "3cc2d1ad",
   "metadata": {},
   "outputs": [
    {
     "ename": "ModuleNotFoundError",
     "evalue": "No module named 'turicreate'",
     "output_type": "error",
     "traceback": [
      "\u001b[0;31m---------------------------------------------------------------------------\u001b[0m",
      "\u001b[0;31mModuleNotFoundError\u001b[0m                       Traceback (most recent call last)",
      "Input \u001b[0;32mIn [1]\u001b[0m, in \u001b[0;36m<cell line: 4>\u001b[0;34m()\u001b[0m\n\u001b[1;32m      2\u001b[0m \u001b[38;5;28;01mimport\u001b[39;00m \u001b[38;5;21;01mnumpy\u001b[39;00m \u001b[38;5;28;01mas\u001b[39;00m \u001b[38;5;21;01mnp\u001b[39;00m\n\u001b[1;32m      3\u001b[0m \u001b[38;5;28;01mimport\u001b[39;00m \u001b[38;5;21;01mtime\u001b[39;00m\n\u001b[0;32m----> 4\u001b[0m \u001b[38;5;28;01mimport\u001b[39;00m \u001b[38;5;21;01mturicreate\u001b[39;00m \u001b[38;5;28;01mas\u001b[39;00m \u001b[38;5;21;01mtc\u001b[39;00m\n\u001b[1;32m      5\u001b[0m \u001b[38;5;28;01mfrom\u001b[39;00m \u001b[38;5;21;01msklearn\u001b[39;00m\u001b[38;5;21;01m.\u001b[39;00m\u001b[38;5;21;01mcross_validation\u001b[39;00m \u001b[38;5;28;01mimport\u001b[39;00m train_test_split\n\u001b[1;32m      7\u001b[0m \u001b[38;5;28;01mimport\u001b[39;00m \u001b[38;5;21;01msys\u001b[39;00m\n",
      "\u001b[0;31mModuleNotFoundError\u001b[0m: No module named 'turicreate'"
     ]
    }
   ],
   "source": [
    "import pandas as pd\n",
    "import numpy as np\n",
    "import time\n",
    "import turicreate as tc\n",
    "from sklearn.cross_validation import train_test_split\n",
    "\n",
    "import sys\n",
    "sys.path.append(\"..\")"
   ]
  },
  {
   "cell_type": "code",
   "execution_count": 2,
   "id": "2a992788",
   "metadata": {},
   "outputs": [
    {
     "name": "stdout",
     "output_type": "stream",
     "text": [
      "Collecting turicreate\n",
      "  Downloading turicreate-6.4.tar.gz (1.9 kB)\n",
      "Building wheels for collected packages: turicreate\n",
      "  Building wheel for turicreate (setup.py) ... \u001b[?25lerror\n",
      "\u001b[31m  ERROR: Command errored out with exit status 1:\n",
      "   command: /opt/anaconda3/bin/python -u -c 'import io, os, sys, setuptools, tokenize; sys.argv[0] = '\"'\"'/private/var/folders/sn/78k4ldbn3b1gwn46c8491j840000gn/T/pip-install-wz6vdigy/turicreate_99924694db9d479abbb6ba0bacd533f3/setup.py'\"'\"'; __file__='\"'\"'/private/var/folders/sn/78k4ldbn3b1gwn46c8491j840000gn/T/pip-install-wz6vdigy/turicreate_99924694db9d479abbb6ba0bacd533f3/setup.py'\"'\"';f = getattr(tokenize, '\"'\"'open'\"'\"', open)(__file__) if os.path.exists(__file__) else io.StringIO('\"'\"'from setuptools import setup; setup()'\"'\"');code = f.read().replace('\"'\"'\\r\\n'\"'\"', '\"'\"'\\n'\"'\"');f.close();exec(compile(code, __file__, '\"'\"'exec'\"'\"'))' bdist_wheel -d /private/var/folders/sn/78k4ldbn3b1gwn46c8491j840000gn/T/pip-wheel-m3fbc6xq\n",
      "       cwd: /private/var/folders/sn/78k4ldbn3b1gwn46c8491j840000gn/T/pip-install-wz6vdigy/turicreate_99924694db9d479abbb6ba0bacd533f3/\n",
      "  Complete output (33 lines):\n",
      "  running bdist_wheel\n",
      "  running build\n",
      "  /opt/anaconda3/lib/python3.9/site-packages/setuptools/command/install.py:34: SetuptoolsDeprecationWarning: setup.py install is deprecated. Use build and pip and other standards-based tools.\n",
      "    warnings.warn(\n",
      "  installing to build/bdist.macosx-10.9-x86_64/wheel\n",
      "  running install\n",
      "  \n",
      "  \n",
      "  \n",
      "          ==================================================================================\n",
      "          TURICREATE ERROR\n",
      "  \n",
      "          If you see this message, pip install did not find an available binary package\n",
      "          for your system.\n",
      "  \n",
      "          Supported Platforms:\n",
      "              * macOS 10.12+ x86_64.\n",
      "              * Linux x86_64 (including WSL on Windows 10).\n",
      "  \n",
      "          Support Python Versions:\n",
      "              * 2.7\n",
      "              * 3.5\n",
      "              * 3.6\n",
      "              * 3.7\n",
      "              * 3.8\n",
      "  \n",
      "          Another possible cause of this error is an outdated pip version. Try:\n",
      "              `pip install -U pip`\n",
      "  \n",
      "          ==================================================================================\n",
      "  \n",
      "  \n",
      "  \n",
      "  ----------------------------------------\u001b[0m\n",
      "\u001b[31m  ERROR: Failed building wheel for turicreate\u001b[0m\n",
      "\u001b[?25h  Running setup.py clean for turicreate\n",
      "Failed to build turicreate\n",
      "Installing collected packages: turicreate\n",
      "    Running setup.py install for turicreate ... \u001b[?25lerror\n",
      "\u001b[31m    ERROR: Command errored out with exit status 1:\n",
      "     command: /opt/anaconda3/bin/python -u -c 'import io, os, sys, setuptools, tokenize; sys.argv[0] = '\"'\"'/private/var/folders/sn/78k4ldbn3b1gwn46c8491j840000gn/T/pip-install-wz6vdigy/turicreate_99924694db9d479abbb6ba0bacd533f3/setup.py'\"'\"'; __file__='\"'\"'/private/var/folders/sn/78k4ldbn3b1gwn46c8491j840000gn/T/pip-install-wz6vdigy/turicreate_99924694db9d479abbb6ba0bacd533f3/setup.py'\"'\"';f = getattr(tokenize, '\"'\"'open'\"'\"', open)(__file__) if os.path.exists(__file__) else io.StringIO('\"'\"'from setuptools import setup; setup()'\"'\"');code = f.read().replace('\"'\"'\\r\\n'\"'\"', '\"'\"'\\n'\"'\"');f.close();exec(compile(code, __file__, '\"'\"'exec'\"'\"'))' install --record /private/var/folders/sn/78k4ldbn3b1gwn46c8491j840000gn/T/pip-record-iexj4wvr/install-record.txt --single-version-externally-managed --compile --install-headers /opt/anaconda3/include/python3.9/turicreate\n",
      "         cwd: /private/var/folders/sn/78k4ldbn3b1gwn46c8491j840000gn/T/pip-install-wz6vdigy/turicreate_99924694db9d479abbb6ba0bacd533f3/\n",
      "    Complete output (30 lines):\n",
      "    running install\n",
      "    /opt/anaconda3/lib/python3.9/site-packages/setuptools/command/install.py:34: SetuptoolsDeprecationWarning: setup.py install is deprecated. Use build and pip and other standards-based tools.\n",
      "      warnings.warn(\n",
      "    \n",
      "    \n",
      "    \n",
      "            ==================================================================================\n",
      "            TURICREATE ERROR\n",
      "    \n",
      "            If you see this message, pip install did not find an available binary package\n",
      "            for your system.\n",
      "    \n",
      "            Supported Platforms:\n",
      "                * macOS 10.12+ x86_64.\n",
      "                * Linux x86_64 (including WSL on Windows 10).\n",
      "    \n",
      "            Support Python Versions:\n",
      "                * 2.7\n",
      "                * 3.5\n",
      "                * 3.6\n",
      "                * 3.7\n",
      "                * 3.8\n",
      "    \n",
      "            Another possible cause of this error is an outdated pip version. Try:\n",
      "                `pip install -U pip`\n",
      "    \n",
      "            ==================================================================================\n",
      "    \n",
      "    \n",
      "    \n",
      "    ----------------------------------------\u001b[0m\n",
      "\u001b[31mERROR: Command errored out with exit status 1: /opt/anaconda3/bin/python -u -c 'import io, os, sys, setuptools, tokenize; sys.argv[0] = '\"'\"'/private/var/folders/sn/78k4ldbn3b1gwn46c8491j840000gn/T/pip-install-wz6vdigy/turicreate_99924694db9d479abbb6ba0bacd533f3/setup.py'\"'\"'; __file__='\"'\"'/private/var/folders/sn/78k4ldbn3b1gwn46c8491j840000gn/T/pip-install-wz6vdigy/turicreate_99924694db9d479abbb6ba0bacd533f3/setup.py'\"'\"';f = getattr(tokenize, '\"'\"'open'\"'\"', open)(__file__) if os.path.exists(__file__) else io.StringIO('\"'\"'from setuptools import setup; setup()'\"'\"');code = f.read().replace('\"'\"'\\r\\n'\"'\"', '\"'\"'\\n'\"'\"');f.close();exec(compile(code, __file__, '\"'\"'exec'\"'\"'))' install --record /private/var/folders/sn/78k4ldbn3b1gwn46c8491j840000gn/T/pip-record-iexj4wvr/install-record.txt --single-version-externally-managed --compile --install-headers /opt/anaconda3/include/python3.9/turicreate Check the logs for full command output.\u001b[0m\n",
      "\u001b[?25hNote: you may need to restart the kernel to use updated packages.\n"
     ]
    }
   ],
   "source": [
    "pip install -U turicreate"
   ]
  },
  {
   "cell_type": "code",
   "execution_count": null,
   "id": "a994e114",
   "metadata": {},
   "outputs": [],
   "source": []
  }
 ],
 "metadata": {
  "kernelspec": {
   "display_name": "Python 3 (ipykernel)",
   "language": "python",
   "name": "python3"
  },
  "language_info": {
   "codemirror_mode": {
    "name": "ipython",
    "version": 3
   },
   "file_extension": ".py",
   "mimetype": "text/x-python",
   "name": "python",
   "nbconvert_exporter": "python",
   "pygments_lexer": "ipython3",
   "version": "3.9.12"
  }
 },
 "nbformat": 4,
 "nbformat_minor": 5
}

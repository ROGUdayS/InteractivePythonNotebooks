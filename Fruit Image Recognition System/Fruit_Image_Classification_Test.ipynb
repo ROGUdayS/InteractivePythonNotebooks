{
 "cells": [
  {
   "cell_type": "markdown",
   "id": "fa9cc8cf",
   "metadata": {},
   "source": [
    "# For Testing Dataset"
   ]
  },
  {
   "cell_type": "code",
   "execution_count": 1,
   "id": "f7a4c045",
   "metadata": {},
   "outputs": [],
   "source": [
    "import numpy as np\n",
    "import tensorflow as tf\n",
    "import matplotlib.pyplot as plt"
   ]
  },
  {
   "cell_type": "code",
   "execution_count": 2,
   "id": "117ecbf4",
   "metadata": {},
   "outputs": [],
   "source": [
    "# from google.colab import drive\n",
    "# drive.mount('/content/drive')"
   ]
  },
  {
   "cell_type": "code",
   "execution_count": null,
   "id": "7daaed3a",
   "metadata": {},
   "outputs": [],
   "source": [
    "# Test image pre-processing\n",
    "test_set=tf.keras.utils.image_dataset_from_directory(\n",
    "    '/Users/rogudays/Documents/GitHub/JupyterNotebooks/Fruit Image Recognition System/test.nosync',\n",
    "    labels='inferred',\n",
    "    label_mode='categorical',\n",
    "    class_names=None,\n",
    "    color_mode='rgb',\n",
    "    batch_size=32,\n",
    "    image_size=(64, 64),\n",
    "    shuffle=True,\n",
    "    seed=None,\n",
    "    validation_split=None,\n",
    "    subset=None,\n",
    "    interpolation='bilinear',\n",
    "    follow_links=False,\n",
    "    crop_to_aspect_ratio=False\n",
    ")"
   ]
  },
  {
   "cell_type": "markdown",
   "id": "56dad8df",
   "metadata": {},
   "source": [
    "# Loading the Model"
   ]
  },
  {
   "cell_type": "code",
   "execution_count": null,
   "id": "d244ce87",
   "metadata": {},
   "outputs": [],
   "source": [
    "cnn=tf.keras.models.load_model(\"\")"
   ]
  },
  {
   "cell_type": "markdown",
   "id": "ec1b0d24",
   "metadata": {},
   "source": [
    "## Visualization Performing Prediction on Single Image"
   ]
  },
  {
   "cell_type": "code",
   "execution_count": null,
   "id": "61ea7e32",
   "metadata": {},
   "outputs": [],
   "source": [
    "import cv_2\n",
    "image_path=\"\"\n",
    "img=cv2.imread(image_path)\n",
    "plt.imshow(img)\n",
    "plt.title('Test Image')\n",
    "plt.xticks([])\n",
    "plt.yticks([])\n",
    "plt.show()"
   ]
  },
  {
   "cell_type": "markdown",
   "id": "cf7f240b",
   "metadata": {},
   "source": [
    "## Testing Model"
   ]
  },
  {
   "cell_type": "code",
   "execution_count": null,
   "id": "0c2f3923",
   "metadata": {},
   "outputs": [],
   "source": [
    "image=tf.keras.preprocessing.image.load_img(image_path, target_size=(64, 64))\n",
    "input_arr=tf.keras.preprocessing.image.img_to_array(image)\n",
    "input_arr=np.array([input_arr]) # Converting single image to batch\n",
    "predictions=cnn.predict(input_arr)"
   ]
  },
  {
   "cell_type": "code",
   "execution_count": null,
   "id": "98b64f50",
   "metadata": {},
   "outputs": [],
   "source": [
    "print(predictions)\n",
    "print(max(predictions[0]))"
   ]
  },
  {
   "cell_type": "code",
   "execution_count": null,
   "id": "f0d20c54",
   "metadata": {},
   "outputs": [],
   "source": [
    "test_set.class_names"
   ]
  },
  {
   "cell_type": "code",
   "execution_count": 3,
   "id": "f64d9995",
   "metadata": {},
   "outputs": [
    {
     "ename": "NameError",
     "evalue": "name 'predictions' is not defined",
     "output_type": "error",
     "traceback": [
      "\u001b[0;31m---------------------------------------------------------------------------\u001b[0m",
      "\u001b[0;31mNameError\u001b[0m                                 Traceback (most recent call last)",
      "Cell \u001b[0;32mIn[3], line 1\u001b[0m\n\u001b[0;32m----> 1\u001b[0m result_index\u001b[38;5;241m=\u001b[39mnp\u001b[38;5;241m.\u001b[39mwhere(\u001b[43mpredictions\u001b[49m[\u001b[38;5;241m0\u001b[39m]\u001b[38;5;241m==\u001b[39m\u001b[38;5;28mmax\u001b[39m(predictions[\u001b[38;5;241m0\u001b[39m]))\n",
      "\u001b[0;31mNameError\u001b[0m: name 'predictions' is not defined"
     ]
    }
   ],
   "source": [
    "result_index=np.where(predictions[0]==max(predictions[0]))\n",
    "print(result_index[0][0])"
   ]
  },
  {
   "cell_type": "code",
   "execution_count": null,
   "id": "f14d2826",
   "metadata": {},
   "outputs": [],
   "source": [
    "# Display Image\n",
    "plt.imshow(img)\n",
    "plt.title('Test Image')\n",
    "plt.xticks([])\n",
    "plt.yticks([])\n",
    "plt.show()"
   ]
  },
  {
   "cell_type": "code",
   "execution_count": null,
   "id": "e408c895",
   "metadata": {},
   "outputs": [],
   "source": [
    "# Single Prediction\n",
    "print(\"It is a {}\".format(test_set.class_names[result_index[0][0]]))"
   ]
  },
  {
   "cell_type": "code",
   "execution_count": null,
   "id": "00b4c696",
   "metadata": {},
   "outputs": [],
   "source": []
  }
 ],
 "metadata": {
  "kernelspec": {
   "display_name": "Python 3.10 (tensorflow)",
   "language": "python",
   "name": "tensorflow"
  },
  "language_info": {
   "codemirror_mode": {
    "name": "ipython",
    "version": 3
   },
   "file_extension": ".py",
   "mimetype": "text/x-python",
   "name": "python",
   "nbconvert_exporter": "python",
   "pygments_lexer": "ipython3",
   "version": "3.10.12"
  }
 },
 "nbformat": 4,
 "nbformat_minor": 5
}

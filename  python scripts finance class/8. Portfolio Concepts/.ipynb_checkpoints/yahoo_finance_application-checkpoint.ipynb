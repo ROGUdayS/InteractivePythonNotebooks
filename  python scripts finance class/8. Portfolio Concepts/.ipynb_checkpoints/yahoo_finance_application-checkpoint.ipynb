{
 "cells": [
  {
   "cell_type": "code",
   "execution_count": 2,
   "id": "a82aadd7",
   "metadata": {},
   "outputs": [
    {
     "ename": "ValueError",
     "evalue": "Expiration `YYYY-MM-DD` cannot be found. Available expiration are: [2022-09-09, 2022-09-16, 2022-09-23, 2022-09-30, 2022-10-07, 2022-10-14, 2022-10-21, 2022-11-18, 2022-12-16, 2023-01-20, 2023-02-17, 2023-03-17, 2023-04-21, 2023-06-16, 2023-09-15, 2024-01-19, 2024-06-21]",
     "output_type": "error",
     "traceback": [
      "\u001b[1;31m---------------------------------------------------------------------------\u001b[0m",
      "\u001b[1;31mValueError\u001b[0m                                Traceback (most recent call last)",
      "Input \u001b[1;32mIn [2]\u001b[0m, in \u001b[0;36m<cell line: 65>\u001b[1;34m()\u001b[0m\n\u001b[0;32m     62\u001b[0m msft\u001b[38;5;241m.\u001b[39mnews\n\u001b[0;32m     64\u001b[0m \u001b[38;5;66;03m# get option chain for specific expiration\u001b[39;00m\n\u001b[1;32m---> 65\u001b[0m opt \u001b[38;5;241m=\u001b[39m \u001b[43mmsft\u001b[49m\u001b[38;5;241;43m.\u001b[39;49m\u001b[43moption_chain\u001b[49m\u001b[43m(\u001b[49m\u001b[38;5;124;43m'\u001b[39;49m\u001b[38;5;124;43mYYYY-MM-DD\u001b[39;49m\u001b[38;5;124;43m'\u001b[39;49m\u001b[43m)\u001b[49m\n",
      "File \u001b[1;32m~\\anaconda3\\lib\\site-packages\\yfinance\\ticker.py:99\u001b[0m, in \u001b[0;36mTicker.option_chain\u001b[1;34m(self, date, proxy, tz)\u001b[0m\n\u001b[0;32m     97\u001b[0m     \u001b[38;5;28mself\u001b[39m\u001b[38;5;241m.\u001b[39m_download_options()\n\u001b[0;32m     98\u001b[0m \u001b[38;5;28;01mif\u001b[39;00m date \u001b[38;5;129;01mnot\u001b[39;00m \u001b[38;5;129;01min\u001b[39;00m \u001b[38;5;28mself\u001b[39m\u001b[38;5;241m.\u001b[39m_expirations:\n\u001b[1;32m---> 99\u001b[0m     \u001b[38;5;28;01mraise\u001b[39;00m \u001b[38;5;167;01mValueError\u001b[39;00m(\n\u001b[0;32m    100\u001b[0m         \u001b[38;5;124m\"\u001b[39m\u001b[38;5;124mExpiration `\u001b[39m\u001b[38;5;132;01m%s\u001b[39;00m\u001b[38;5;124m` cannot be found. \u001b[39m\u001b[38;5;124m\"\u001b[39m\n\u001b[0;32m    101\u001b[0m         \u001b[38;5;124m\"\u001b[39m\u001b[38;5;124mAvailable expiration are: [\u001b[39m\u001b[38;5;132;01m%s\u001b[39;00m\u001b[38;5;124m]\u001b[39m\u001b[38;5;124m\"\u001b[39m \u001b[38;5;241m%\u001b[39m (\n\u001b[0;32m    102\u001b[0m             date, \u001b[38;5;124m'\u001b[39m\u001b[38;5;124m, \u001b[39m\u001b[38;5;124m'\u001b[39m\u001b[38;5;241m.\u001b[39mjoin(\u001b[38;5;28mself\u001b[39m\u001b[38;5;241m.\u001b[39m_expirations)))\n\u001b[0;32m    103\u001b[0m date \u001b[38;5;241m=\u001b[39m \u001b[38;5;28mself\u001b[39m\u001b[38;5;241m.\u001b[39m_expirations[date]\n\u001b[0;32m    104\u001b[0m options \u001b[38;5;241m=\u001b[39m \u001b[38;5;28mself\u001b[39m\u001b[38;5;241m.\u001b[39m_download_options(date, proxy\u001b[38;5;241m=\u001b[39mproxy)\n",
      "\u001b[1;31mValueError\u001b[0m: Expiration `YYYY-MM-DD` cannot be found. Available expiration are: [2022-09-09, 2022-09-16, 2022-09-23, 2022-09-30, 2022-10-07, 2022-10-14, 2022-10-21, 2022-11-18, 2022-12-16, 2023-01-20, 2023-02-17, 2023-03-17, 2023-04-21, 2023-06-16, 2023-09-15, 2024-01-19, 2024-06-21]"
     ]
    }
   ],
   "source": [
    "import yfinance as yf\n",
    "\n",
    "msft = yf.Ticker(\"MSFT\")\n",
    "\n",
    "# get stock info\n",
    "msft.info\n",
    "\n",
    "# get historical market data\n",
    "hist = msft.history(period=\"max\")\n",
    "\n",
    "# show actions (dividends, splits)\n",
    "msft.actions\n",
    "\n",
    "# show dividends\n",
    "msft.dividends\n",
    "\n",
    "# show splits\n",
    "msft.splits\n",
    "\n",
    "# show financials\n",
    "msft.financials\n",
    "msft.quarterly_financials\n",
    "\n",
    "# show major holders\n",
    "msft.major_holders\n",
    "\n",
    "# show institutional holders\n",
    "msft.institutional_holders\n",
    "\n",
    "# show balance sheet\n",
    "msft.balance_sheet\n",
    "msft.quarterly_balance_sheet\n",
    "\n",
    "# show cashflow\n",
    "msft.cashflow\n",
    "msft.quarterly_cashflow\n",
    "\n",
    "# show earnings\n",
    "msft.earnings\n",
    "msft.quarterly_earnings\n",
    "\n",
    "# show sustainability\n",
    "msft.sustainability\n",
    "\n",
    "# show analysts recommendations\n",
    "msft.recommendations\n",
    "\n",
    "# show next event (earnings, etc)\n",
    "msft.calendar\n",
    "\n",
    "# show all earnings dates\n",
    "msft.earnings_dates\n",
    "\n",
    "# show ISIN code - *experimental*\n",
    "# ISIN = International Securities Identification Number\n",
    "msft.isin\n",
    "\n",
    "# show options expirations\n",
    "msft.options\n",
    "\n",
    "# show news\n",
    "msft.news\n",
    "\n",
    "# get option chain for specific expiration\n",
    "opt = msft.option_chain('2022-09-05')\n",
    "# data available via: opt.calls, opt.puts"
   ]
  },
  {
   "cell_type": "code",
   "execution_count": null,
   "id": "6fbbff02",
   "metadata": {},
   "outputs": [],
   "source": []
  }
 ],
 "metadata": {
  "kernelspec": {
   "display_name": "Python 3 (ipykernel)",
   "language": "python",
   "name": "python3"
  },
  "language_info": {
   "codemirror_mode": {
    "name": "ipython",
    "version": 3
   },
   "file_extension": ".py",
   "mimetype": "text/x-python",
   "name": "python",
   "nbconvert_exporter": "python",
   "pygments_lexer": "ipython3",
   "version": "3.9.12"
  }
 },
 "nbformat": 4,
 "nbformat_minor": 5
}

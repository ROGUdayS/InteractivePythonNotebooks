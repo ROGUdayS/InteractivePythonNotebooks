{
 "cells": [
  {
   "cell_type": "markdown",
   "id": "c4379590",
   "metadata": {},
   "source": [
    "# Python Numeric Data type"
   ]
  },
  {
   "cell_type": "code",
   "execution_count": 1,
   "id": "60772701",
   "metadata": {},
   "outputs": [
    {
     "name": "stdout",
     "output_type": "stream",
     "text": [
      "5 is of type <class 'int'>\n",
      "2.0 is of type <class 'float'>\n",
      "(1+2j) is of type <class 'complex'>\n"
     ]
    }
   ],
   "source": [
    "num1=5\n",
    "print(num1, 'is of type', type(num1))\n",
    "\n",
    "num2=2.0\n",
    "print(num2, 'is of type', type(num2))\n",
    "\n",
    "num3=1+2j\n",
    "print(num3, 'is of type', type(num3))"
   ]
  },
  {
   "cell_type": "code",
   "execution_count": 2,
   "id": "ca5aca99",
   "metadata": {},
   "outputs": [
    {
     "name": "stdout",
     "output_type": "stream",
     "text": [
      "Swift\n",
      "Python\n"
     ]
    }
   ],
   "source": [
    "#list\n",
    "languages=[\"Swift\",\"Java\",\"Python\"]\n",
    "\n",
    "#access elements at index 0\n",
    "print(languages[0]) #Swift\n",
    "\n",
    "#access elements at index 2\n",
    "print(languages[2]) #Python"
   ]
  },
  {
   "cell_type": "code",
   "execution_count": 5,
   "id": "9435af5c",
   "metadata": {
    "scrolled": true
   },
   "outputs": [
    {
     "name": "stdout",
     "output_type": "stream",
     "text": [
      "['abcd', 369, 2.23, 'Uday', 70.2]\n",
      "abcd\n",
      "[369, 2.23]\n",
      "[2.23, 'Uday', 70.2]\n",
      "[123, 'Uday', 123, 'Uday']\n",
      "['abcd', 369, 2.23, 'Uday', 70.2, 123, 'Uday']\n"
     ]
    }
   ],
   "source": [
    "list=['abcd', 369, 2.23, 'Uday', 70.2]\n",
    "tinylist=[123, 'Uday']\n",
    "\n",
    "print(list)           #Prints Complete list\n",
    "print(list[0])        #Prints first element of list\n",
    "print(list[1:3])      #Prints elements starting from 2nd till 3rd\n",
    "print(list[2:])       #Prints element starting from 3rd element\n",
    "print(tinylist*2)     #Prints list two times\n",
    "print(list+tinylist)  #Prints conacatenated lists"
   ]
  },
  {
   "cell_type": "code",
   "execution_count": 7,
   "id": "2486f1c7",
   "metadata": {},
   "outputs": [
    {
     "name": "stdout",
     "output_type": "stream",
     "text": [
      "Microsoft\n",
      "Xbox\n"
     ]
    }
   ],
   "source": [
    "#Create a tuple\n",
    "product=('Microsoft','Xbox', 499.99)\n",
    "\n",
    "#access element at index 0\n",
    "print(product[0])\n",
    "#access element at indec 1\n",
    "print(product[1])"
   ]
  },
  {
   "cell_type": "code",
   "execution_count": 8,
   "id": "f2fec490",
   "metadata": {},
   "outputs": [
    {
     "name": "stdout",
     "output_type": "stream",
     "text": [
      "('abcd', 369, 2.23, 'Uday', 70.2)\n",
      "abcd\n",
      "(369, 2.23)\n",
      "(2.23, 'Uday', 70.2)\n",
      "(123, 'Uday', 123, 'Uday')\n",
      "('abcd', 369, 2.23, 'Uday', 70.2, 123, 'Uday')\n"
     ]
    }
   ],
   "source": [
    "tuple=('abcd', 369, 2.23, 'Uday', 70.2)\n",
    "tinytuple=(123, 'Uday')\n",
    "\n",
    "print(tuple)            #Prints Complete tuple\n",
    "print(tuple[0])         #Prints first element of tuple\n",
    "print(tuple[1:3])       #Prints elements starting from 2nd till 3rd\n",
    "print(tuple[2:])        #Prints element starting from 3rd element\n",
    "print(tinytuple*2)      #Prints tuple two times\n",
    "print(tuple+tinytuple)  #Prints conacatenated tuple"
   ]
  },
  {
   "cell_type": "code",
   "execution_count": 9,
   "id": "5018a364",
   "metadata": {},
   "outputs": [
    {
     "name": "stdout",
     "output_type": "stream",
     "text": [
      "Python\n",
      "Python for beginners\n"
     ]
    }
   ],
   "source": [
    "#Python String Data Type\n",
    "name='Python'\n",
    "print(name)\n",
    "\n",
    "message='Python for beginners'\n",
    "print(message)"
   ]
  },
  {
   "cell_type": "code",
   "execution_count": 14,
   "id": "f28a16f6",
   "metadata": {
    "scrolled": true
   },
   "outputs": [
    {
     "name": "stdout",
     "output_type": "stream",
     "text": [
      "Python for beginners \n",
      "P\n",
      "yt\n",
      "thon for beginners \n",
      "Python for beginners Python for beginners \n",
      "Python for beginners Test\n"
     ]
    }
   ],
   "source": [
    "str='Python for beginners '\n",
    "\n",
    "print(str)           #Prints Complete tuple\n",
    "print(str[0])        #Prints first element of tuple\n",
    "print(str[1:3])      #Prints elements starting from 2nd till 3rd\n",
    "print(str[2:])       #Prints element starting from 3rd element\n",
    "print(str*2)         #Prints tuple two times\n",
    "print(str + \"Test\")  #Prints conacatenated tupl"
   ]
  },
  {
   "cell_type": "code",
   "execution_count": 15,
   "id": "aa837ba5",
   "metadata": {},
   "outputs": [
    {
     "name": "stdout",
     "output_type": "stream",
     "text": [
      "{112, 114, 115, 116, 118}\n",
      "<class 'set'>\n"
     ]
    }
   ],
   "source": [
    "#Python set Data type\n",
    "#Create a set named student_id\n",
    "student_id={112,114,116,118,115}\n",
    "\n",
    "#display student_id elements\n",
    "print(student_id)\n",
    "\n",
    "#display type of student_id\n",
    "print(type(student_id))"
   ]
  },
  {
   "cell_type": "code",
   "execution_count": 17,
   "id": "0705b70f",
   "metadata": {},
   "outputs": [
    {
     "name": "stdout",
     "output_type": "stream",
     "text": [
      "{'Nepal': 'Kathmandu', 'Italy': 'Rome', 'England': 'London'}\n"
     ]
    }
   ],
   "source": [
    "#Python Dictionary Data type\n",
    "#Create a dictionary named capital_city\n",
    "capital_city={'Nepal':'Kathmandu','Italy':'Rome','England':'London'} \n",
    "print(capital_city)"
   ]
  },
  {
   "cell_type": "code",
   "execution_count": 18,
   "id": "1be5d086",
   "metadata": {},
   "outputs": [
    {
     "name": "stdout",
     "output_type": "stream",
     "text": [
      "Kathmandu\n"
     ]
    }
   ],
   "source": [
    "#Access Dictionary calues using keys\n",
    "print(capital_city['Nepal'])"
   ]
  },
  {
   "cell_type": "code",
   "execution_count": 20,
   "id": "a2d08b62",
   "metadata": {},
   "outputs": [
    {
     "name": "stdout",
     "output_type": "stream",
     "text": [
      "This is one\n",
      "This is two\n",
      "{'name': 'Uday', 'code': 560076, 'dept': 'RPA'}\n",
      "dict_keys(['name', 'code', 'dept'])\n",
      "dict_values(['Uday', 560076, 'RPA'])\n"
     ]
    }
   ],
   "source": [
    "dict={}\n",
    "dict['one']='This is one'\n",
    "dict[2]='This is two'\n",
    "tinydict={'name':'Uday','code':560076,'dept':'RPA'}\n",
    "\n",
    "print(dict['one'])            #Prints value for 'one' key\n",
    "print(dict[2])                #Prints value for the second key\n",
    "print(tinydict)               #Prints complete dictionary\n",
    "print(tinydict.keys())        #Prints all keys\n",
    "print(tinydict.values())      #Prints all values"
   ]
  },
  {
   "cell_type": "code",
   "execution_count": 21,
   "id": "af7d908c",
   "metadata": {},
   "outputs": [
    {
     "name": "stdout",
     "output_type": "stream",
     "text": [
      "True\n",
      "<class 'bool'>\n"
     ]
    }
   ],
   "source": [
    "#Python Boolean Data Types\n",
    "\n",
    "a=True\n",
    "#display the value of a\n",
    "print(a)\n",
    "\n",
    "#display the data type of a\n",
    "print(type(a))"
   ]
  },
  {
   "cell_type": "code",
   "execution_count": 22,
   "id": "b17efaad",
   "metadata": {},
   "outputs": [
    {
     "name": "stdout",
     "output_type": "stream",
     "text": [
      "False\n",
      "False\n",
      "False\n",
      "False\n",
      "False\n",
      "True\n"
     ]
    }
   ],
   "source": [
    "#Returns false as a is not equal to b\n",
    "a=2\n",
    "b=4\n",
    "print(bool(a==b))\n",
    "\n",
    "#following also prints the same\n",
    "print(a==b)\n",
    "\n",
    "#Return False as a is None\n",
    "a=None\n",
    "print(bool(a))\n",
    "\n",
    "#Retuen false as a is an empty sequence\n",
    "a=()\n",
    "print(bool(a))\n",
    "\n",
    "#Returns fasle as a is 0\n",
    "a=0.0\n",
    "print(bool(a))\n",
    "\n",
    "#Return True as a is 10\n",
    "a=10\n",
    "print(bool(a))"
   ]
  },
  {
   "cell_type": "markdown",
   "id": "1ae1094a",
   "metadata": {},
   "source": [
    "## Python Data Type Conversion"
   ]
  },
  {
   "cell_type": "code",
   "execution_count": 23,
   "id": "c55d2056",
   "metadata": {},
   "outputs": [
    {
     "name": "stdout",
     "output_type": "stream",
     "text": [
      "Value:  124.23\n",
      "Data Type:  <class 'float'>\n"
     ]
    }
   ],
   "source": [
    "integer_number=123\n",
    "float_number=1.23\n",
    "\n",
    "new_number=integer_number+float_number\n",
    "\n",
    "#display new value and resulting data type\n",
    "print(\"Value: \",new_number)\n",
    "print(\"Data Type: \",type(new_number))"
   ]
  },
  {
   "cell_type": "code",
   "execution_count": 3,
   "id": "044e72c1",
   "metadata": {},
   "outputs": [
    {
     "name": "stdout",
     "output_type": "stream",
     "text": [
      "1\n",
      "2\n",
      "3\n"
     ]
    }
   ],
   "source": [
    "a=int(1)\n",
    "b=int(2.7)\n",
    "c=int(\"3\")\n",
    "\n",
    "print(a)\n",
    "print(b)\n",
    "print(c)"
   ]
  },
  {
   "cell_type": "code",
   "execution_count": 25,
   "id": "f71a75a7",
   "metadata": {},
   "outputs": [
    {
     "name": "stdout",
     "output_type": "stream",
     "text": [
      "1.0\n",
      "2.2\n",
      "3.0\n"
     ]
    }
   ],
   "source": [
    "a=float(1)\n",
    "b=float(2.2)\n",
    "c=float(\"3\")\n",
    "\n",
    "print(a)\n",
    "print(b)\n",
    "print(c)"
   ]
  },
  {
   "cell_type": "code",
   "execution_count": 26,
   "id": "336bd2dc",
   "metadata": {},
   "outputs": [
    {
     "name": "stdout",
     "output_type": "stream",
     "text": [
      "After converting character to integer :52\n",
      "After converting 56 to hexadecimal string :0x38\n",
      "After converting 56 to an octal String :0o70\n"
     ]
    }
   ],
   "source": [
    "#ord() : this function is used to convert a character to integer\n",
    "#hex() : this function is used to convert an integer to hexadecimal string\n",
    "#oct() : this function is used to convert an integer to octal string\n",
    "\n",
    "#initializing integer\n",
    "s='4'\n",
    "\n",
    "#printing character converting to integer\n",
    "c=ord(s)\n",
    "print(\"After converting character to integer :\",end=\"\")\n",
    "print(c)\n",
    "\n",
    "#printing convert an integer to hexadecimal string\n",
    "c=hex(56)\n",
    "print(\"After converting 56 to hexadecimal string :\",end=\"\")\n",
    "print(c)\n",
    "\n",
    "#printing convert an integer to octal string\n",
    "c=oct(56)\n",
    "print(\"After converting 56 to an octal String :\",end=\"\")\n",
    "print(c)"
   ]
  },
  {
   "cell_type": "code",
   "execution_count": null,
   "id": "0ee4ce7f",
   "metadata": {},
   "outputs": [],
   "source": []
  }
 ],
 "metadata": {
  "kernelspec": {
   "display_name": "Python 3 (ipykernel)",
   "language": "python",
   "name": "python3"
  },
  "language_info": {
   "codemirror_mode": {
    "name": "ipython",
    "version": 3
   },
   "file_extension": ".py",
   "mimetype": "text/x-python",
   "name": "python",
   "nbconvert_exporter": "python",
   "pygments_lexer": "ipython3",
   "version": "3.9.13"
  }
 },
 "nbformat": 4,
 "nbformat_minor": 5
}

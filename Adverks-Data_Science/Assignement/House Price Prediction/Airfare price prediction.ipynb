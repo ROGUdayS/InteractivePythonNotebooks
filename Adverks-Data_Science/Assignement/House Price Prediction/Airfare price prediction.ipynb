{
 "cells": [
  {
   "cell_type": "markdown",
   "id": "e06f167c",
   "metadata": {},
   "source": [
    "#                                   Airfare price prediction"
   ]
  },
  {
   "cell_type": "markdown",
   "id": "f6f8127d",
   "metadata": {},
   "source": [
    "                                                                                                    - Uday Kumar S"
   ]
  },
  {
   "cell_type": "markdown",
   "id": "46fcaf44",
   "metadata": {},
   "source": [
    "Students have to propose a new model that can help the buyer to predict the price trends without official information from the airlines. \n",
    "Use the objective of Linear Regression is to find a line that minimizes the prediction error of all the data points."
   ]
  },
  {
   "cell_type": "markdown",
   "id": "38dfac3b",
   "metadata": {},
   "source": [
    "## Import the necessry packages"
   ]
  },
  {
   "cell_type": "markdown",
   "id": "29e32689",
   "metadata": {},
   "source": [
    "## Loading the Data-Sets"
   ]
  },
  {
   "cell_type": "markdown",
   "id": "166a36ad",
   "metadata": {},
   "source": [
    "## Understanding the Data"
   ]
  },
  {
   "cell_type": "markdown",
   "id": "0638f56d",
   "metadata": {},
   "source": [
    "## Data Wrangling"
   ]
  },
  {
   "cell_type": "markdown",
   "id": "dfd7edfd",
   "metadata": {},
   "source": [
    "### Cleaning and transforming"
   ]
  },
  {
   "cell_type": "markdown",
   "id": "ac3cbbed",
   "metadata": {},
   "source": [
    "## Exploratory Data Analysis"
   ]
  },
  {
   "cell_type": "markdown",
   "id": "17b167f7",
   "metadata": {},
   "source": [
    "## Feature Engineering"
   ]
  },
  {
   "cell_type": "markdown",
   "id": "258acc9f",
   "metadata": {},
   "source": [
    "## Model Building"
   ]
  },
  {
   "cell_type": "markdown",
   "id": "880635c7",
   "metadata": {},
   "source": [
    "## Prediction Results"
   ]
  },
  {
   "cell_type": "markdown",
   "id": "d1d05b33",
   "metadata": {},
   "source": [
    "## Visualising the Data"
   ]
  },
  {
   "cell_type": "code",
   "execution_count": null,
   "id": "6d40a6ce",
   "metadata": {},
   "outputs": [],
   "source": []
  }
 ],
 "metadata": {
  "kernelspec": {
   "display_name": "Python 3 (ipykernel)",
   "language": "python",
   "name": "python3"
  },
  "language_info": {
   "codemirror_mode": {
    "name": "ipython",
    "version": 3
   },
   "file_extension": ".py",
   "mimetype": "text/x-python",
   "name": "python",
   "nbconvert_exporter": "python",
   "pygments_lexer": "ipython3",
   "version": "3.9.13"
  }
 },
 "nbformat": 4,
 "nbformat_minor": 5
}

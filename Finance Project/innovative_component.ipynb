{
  "nbformat": 4,
  "nbformat_minor": 0,
  "metadata": {
    "colab": {
      "provenance": [],
      "collapsed_sections": []
    },
    "kernelspec": {
      "name": "python3",
      "display_name": "Python 3"
    },
    "language_info": {
      "name": "python"
    }
  },
  "cells": [
    {
      "cell_type": "code",
      "source": [
        "#This program uses an artificial recurrent neural network called Long Short Term Memory (LSTM)\n",
        "# to predict the closing price of a corporation using the past 60 day stock price"
      ],
      "metadata": {
        "id": "siOR1tqKOb3I"
      },
      "execution_count": null,
      "outputs": []
    },
    {
      "cell_type": "code",
      "source": [],
      "metadata": {
        "id": "1HaqyhcRQZQj"
      },
      "execution_count": null,
      "outputs": []
    },
    {
      "cell_type": "code",
      "execution_count": null,
      "metadata": {
        "id": "l9gxyh9a4mcJ"
      },
      "outputs": [],
      "source": [
        "#Import the libraries\n",
        "import math\n",
        "import pandas_datareader as web\n",
        "import numpy as np\n",
        "import pandas as pd\n",
        "from sklearn.preprocessing import MinMaxScaler\n",
        "import matplotlib.pyplot as plt\n",
        "plt.style.use('fivethirtyeight')\n",
        "from keras.models import Sequential\n",
        "from keras.layers import Dense, LSTM"
      ]
    },
    {
      "cell_type": "code",
      "source": [
        "#Get the stock quote\n",
        "df=web.DataReader('TSLA', data_source='yahoo', start='2012-01-01', end='2022-11-3')\n",
        "#Showing the data\n",
        "df"
      ],
      "metadata": {
        "colab": {
          "base_uri": "https://localhost:8080/",
          "height": 450
        },
        "id": "SQp5_SSCMUf_",
        "outputId": "c920e460-fc78-440d-af6b-600b7ce3fae1"
      },
      "execution_count": null,
      "outputs": [
        {
          "output_type": "execute_result",
          "data": {
            "text/plain": [
              "                  High         Low        Open       Close      Volume  \\\n",
              "Date                                                                     \n",
              "2012-01-03    1.966667    1.843333    1.929333    1.872000  13921500.0   \n",
              "2012-01-04    1.911333    1.833333    1.880667    1.847333   9451500.0   \n",
              "2012-01-05    1.862000    1.790000    1.850667    1.808000  15082500.0   \n",
              "2012-01-06    1.852667    1.760667    1.813333    1.794000  14794500.0   \n",
              "2012-01-09    1.832667    1.741333    1.800000    1.816667  13455000.0   \n",
              "...                ...         ...         ...         ...         ...   \n",
              "2022-10-28  228.860001  216.350006  225.399994  228.520004  69152400.0   \n",
              "2022-10-31  229.850006  221.940002  226.190002  227.539993  61554300.0   \n",
              "2022-11-01  237.399994  227.279999  234.050003  227.820007  62688800.0   \n",
              "2022-11-02  227.869995  214.820007  226.039993  214.979996  63070300.0   \n",
              "2022-11-03  221.199997  210.139999  211.360001  215.309998  56538800.0   \n",
              "\n",
              "             Adj Close  \n",
              "Date                    \n",
              "2012-01-03    1.872000  \n",
              "2012-01-04    1.847333  \n",
              "2012-01-05    1.808000  \n",
              "2012-01-06    1.794000  \n",
              "2012-01-09    1.816667  \n",
              "...                ...  \n",
              "2022-10-28  228.520004  \n",
              "2022-10-31  227.539993  \n",
              "2022-11-01  227.820007  \n",
              "2022-11-02  214.979996  \n",
              "2022-11-03  215.309998  \n",
              "\n",
              "[2729 rows x 6 columns]"
            ],
            "text/html": [
              "\n",
              "  <div id=\"df-13b4f559-b4e3-4d13-91d4-3c7aa62d4311\">\n",
              "    <div class=\"colab-df-container\">\n",
              "      <div>\n",
              "<style scoped>\n",
              "    .dataframe tbody tr th:only-of-type {\n",
              "        vertical-align: middle;\n",
              "    }\n",
              "\n",
              "    .dataframe tbody tr th {\n",
              "        vertical-align: top;\n",
              "    }\n",
              "\n",
              "    .dataframe thead th {\n",
              "        text-align: right;\n",
              "    }\n",
              "</style>\n",
              "<table border=\"1\" class=\"dataframe\">\n",
              "  <thead>\n",
              "    <tr style=\"text-align: right;\">\n",
              "      <th></th>\n",
              "      <th>High</th>\n",
              "      <th>Low</th>\n",
              "      <th>Open</th>\n",
              "      <th>Close</th>\n",
              "      <th>Volume</th>\n",
              "      <th>Adj Close</th>\n",
              "    </tr>\n",
              "    <tr>\n",
              "      <th>Date</th>\n",
              "      <th></th>\n",
              "      <th></th>\n",
              "      <th></th>\n",
              "      <th></th>\n",
              "      <th></th>\n",
              "      <th></th>\n",
              "    </tr>\n",
              "  </thead>\n",
              "  <tbody>\n",
              "    <tr>\n",
              "      <th>2012-01-03</th>\n",
              "      <td>1.966667</td>\n",
              "      <td>1.843333</td>\n",
              "      <td>1.929333</td>\n",
              "      <td>1.872000</td>\n",
              "      <td>13921500.0</td>\n",
              "      <td>1.872000</td>\n",
              "    </tr>\n",
              "    <tr>\n",
              "      <th>2012-01-04</th>\n",
              "      <td>1.911333</td>\n",
              "      <td>1.833333</td>\n",
              "      <td>1.880667</td>\n",
              "      <td>1.847333</td>\n",
              "      <td>9451500.0</td>\n",
              "      <td>1.847333</td>\n",
              "    </tr>\n",
              "    <tr>\n",
              "      <th>2012-01-05</th>\n",
              "      <td>1.862000</td>\n",
              "      <td>1.790000</td>\n",
              "      <td>1.850667</td>\n",
              "      <td>1.808000</td>\n",
              "      <td>15082500.0</td>\n",
              "      <td>1.808000</td>\n",
              "    </tr>\n",
              "    <tr>\n",
              "      <th>2012-01-06</th>\n",
              "      <td>1.852667</td>\n",
              "      <td>1.760667</td>\n",
              "      <td>1.813333</td>\n",
              "      <td>1.794000</td>\n",
              "      <td>14794500.0</td>\n",
              "      <td>1.794000</td>\n",
              "    </tr>\n",
              "    <tr>\n",
              "      <th>2012-01-09</th>\n",
              "      <td>1.832667</td>\n",
              "      <td>1.741333</td>\n",
              "      <td>1.800000</td>\n",
              "      <td>1.816667</td>\n",
              "      <td>13455000.0</td>\n",
              "      <td>1.816667</td>\n",
              "    </tr>\n",
              "    <tr>\n",
              "      <th>...</th>\n",
              "      <td>...</td>\n",
              "      <td>...</td>\n",
              "      <td>...</td>\n",
              "      <td>...</td>\n",
              "      <td>...</td>\n",
              "      <td>...</td>\n",
              "    </tr>\n",
              "    <tr>\n",
              "      <th>2022-10-28</th>\n",
              "      <td>228.860001</td>\n",
              "      <td>216.350006</td>\n",
              "      <td>225.399994</td>\n",
              "      <td>228.520004</td>\n",
              "      <td>69152400.0</td>\n",
              "      <td>228.520004</td>\n",
              "    </tr>\n",
              "    <tr>\n",
              "      <th>2022-10-31</th>\n",
              "      <td>229.850006</td>\n",
              "      <td>221.940002</td>\n",
              "      <td>226.190002</td>\n",
              "      <td>227.539993</td>\n",
              "      <td>61554300.0</td>\n",
              "      <td>227.539993</td>\n",
              "    </tr>\n",
              "    <tr>\n",
              "      <th>2022-11-01</th>\n",
              "      <td>237.399994</td>\n",
              "      <td>227.279999</td>\n",
              "      <td>234.050003</td>\n",
              "      <td>227.820007</td>\n",
              "      <td>62688800.0</td>\n",
              "      <td>227.820007</td>\n",
              "    </tr>\n",
              "    <tr>\n",
              "      <th>2022-11-02</th>\n",
              "      <td>227.869995</td>\n",
              "      <td>214.820007</td>\n",
              "      <td>226.039993</td>\n",
              "      <td>214.979996</td>\n",
              "      <td>63070300.0</td>\n",
              "      <td>214.979996</td>\n",
              "    </tr>\n",
              "    <tr>\n",
              "      <th>2022-11-03</th>\n",
              "      <td>221.199997</td>\n",
              "      <td>210.139999</td>\n",
              "      <td>211.360001</td>\n",
              "      <td>215.309998</td>\n",
              "      <td>56538800.0</td>\n",
              "      <td>215.309998</td>\n",
              "    </tr>\n",
              "  </tbody>\n",
              "</table>\n",
              "<p>2729 rows × 6 columns</p>\n",
              "</div>\n",
              "      <button class=\"colab-df-convert\" onclick=\"convertToInteractive('df-13b4f559-b4e3-4d13-91d4-3c7aa62d4311')\"\n",
              "              title=\"Convert this dataframe to an interactive table.\"\n",
              "              style=\"display:none;\">\n",
              "        \n",
              "  <svg xmlns=\"http://www.w3.org/2000/svg\" height=\"24px\"viewBox=\"0 0 24 24\"\n",
              "       width=\"24px\">\n",
              "    <path d=\"M0 0h24v24H0V0z\" fill=\"none\"/>\n",
              "    <path d=\"M18.56 5.44l.94 2.06.94-2.06 2.06-.94-2.06-.94-.94-2.06-.94 2.06-2.06.94zm-11 1L8.5 8.5l.94-2.06 2.06-.94-2.06-.94L8.5 2.5l-.94 2.06-2.06.94zm10 10l.94 2.06.94-2.06 2.06-.94-2.06-.94-.94-2.06-.94 2.06-2.06.94z\"/><path d=\"M17.41 7.96l-1.37-1.37c-.4-.4-.92-.59-1.43-.59-.52 0-1.04.2-1.43.59L10.3 9.45l-7.72 7.72c-.78.78-.78 2.05 0 2.83L4 21.41c.39.39.9.59 1.41.59.51 0 1.02-.2 1.41-.59l7.78-7.78 2.81-2.81c.8-.78.8-2.07 0-2.86zM5.41 20L4 18.59l7.72-7.72 1.47 1.35L5.41 20z\"/>\n",
              "  </svg>\n",
              "      </button>\n",
              "      \n",
              "  <style>\n",
              "    .colab-df-container {\n",
              "      display:flex;\n",
              "      flex-wrap:wrap;\n",
              "      gap: 12px;\n",
              "    }\n",
              "\n",
              "    .colab-df-convert {\n",
              "      background-color: #E8F0FE;\n",
              "      border: none;\n",
              "      border-radius: 50%;\n",
              "      cursor: pointer;\n",
              "      display: none;\n",
              "      fill: #1967D2;\n",
              "      height: 32px;\n",
              "      padding: 0 0 0 0;\n",
              "      width: 32px;\n",
              "    }\n",
              "\n",
              "    .colab-df-convert:hover {\n",
              "      background-color: #E2EBFA;\n",
              "      box-shadow: 0px 1px 2px rgba(60, 64, 67, 0.3), 0px 1px 3px 1px rgba(60, 64, 67, 0.15);\n",
              "      fill: #174EA6;\n",
              "    }\n",
              "\n",
              "    [theme=dark] .colab-df-convert {\n",
              "      background-color: #3B4455;\n",
              "      fill: #D2E3FC;\n",
              "    }\n",
              "\n",
              "    [theme=dark] .colab-df-convert:hover {\n",
              "      background-color: #434B5C;\n",
              "      box-shadow: 0px 1px 3px 1px rgba(0, 0, 0, 0.15);\n",
              "      filter: drop-shadow(0px 1px 2px rgba(0, 0, 0, 0.3));\n",
              "      fill: #FFFFFF;\n",
              "    }\n",
              "  </style>\n",
              "\n",
              "      <script>\n",
              "        const buttonEl =\n",
              "          document.querySelector('#df-13b4f559-b4e3-4d13-91d4-3c7aa62d4311 button.colab-df-convert');\n",
              "        buttonEl.style.display =\n",
              "          google.colab.kernel.accessAllowed ? 'block' : 'none';\n",
              "\n",
              "        async function convertToInteractive(key) {\n",
              "          const element = document.querySelector('#df-13b4f559-b4e3-4d13-91d4-3c7aa62d4311');\n",
              "          const dataTable =\n",
              "            await google.colab.kernel.invokeFunction('convertToInteractive',\n",
              "                                                     [key], {});\n",
              "          if (!dataTable) return;\n",
              "\n",
              "          const docLinkHtml = 'Like what you see? Visit the ' +\n",
              "            '<a target=\"_blank\" href=https://colab.research.google.com/notebooks/data_table.ipynb>data table notebook</a>'\n",
              "            + ' to learn more about interactive tables.';\n",
              "          element.innerHTML = '';\n",
              "          dataTable['output_type'] = 'display_data';\n",
              "          await google.colab.output.renderOutput(dataTable, element);\n",
              "          const docLink = document.createElement('div');\n",
              "          docLink.innerHTML = docLinkHtml;\n",
              "          element.appendChild(docLink);\n",
              "        }\n",
              "      </script>\n",
              "    </div>\n",
              "  </div>\n",
              "  "
            ]
          },
          "metadata": {},
          "execution_count": 57
        }
      ]
    },
    {
      "cell_type": "code",
      "source": [
        "#Get the number of row and columns in the data set\n",
        "df.shape"
      ],
      "metadata": {
        "colab": {
          "base_uri": "https://localhost:8080/"
        },
        "id": "ypoFnGrvQXir",
        "outputId": "68fb7796-f17b-45ec-a6bf-230a607c6d97"
      },
      "execution_count": null,
      "outputs": [
        {
          "output_type": "execute_result",
          "data": {
            "text/plain": [
              "(2729, 6)"
            ]
          },
          "metadata": {},
          "execution_count": 58
        }
      ]
    },
    {
      "cell_type": "code",
      "source": [
        "#Visualize the closing price History\n",
        "plt.figure(figsize=(16,8))\n",
        "plt.title('Close Price History')\n",
        "plt.plot(df['Close'])\n",
        "plt.xlabel('Date', fontsize=18)\n",
        "plt.ylabel('Close Price', fontsize=18)\n",
        "plt.show()\n"
      ],
      "metadata": {
        "id": "7lx2KpfR5aLG",
        "colab": {
          "base_uri": "https://localhost:8080/",
          "height": 558
        },
        "outputId": "21f99762-c170-4e01-a62e-e225104a30bc"
      },
      "execution_count": null,
      "outputs": [
        {
          "output_type": "display_data",
          "data": {
            "text/plain": [
              "<Figure size 1152x576 with 1 Axes>"
            ],
            "image/png": "[encoded data removed]"
          },
          "metadata": {}
        }
      ]
    },
    {
      "cell_type": "code",
      "source": [
        "#Create a new dataframe with only the Close column\n",
        "data=df.filter(['Close'])\n",
        "#Convert the dataframe to a numpy array\n",
        "dataset = data.values\n",
        "#Get the number of rows to train the LSTM model\n",
        "training_data_len = math.ceil(len(dataset)* .8)\n",
        "\n",
        "\n",
        "training_data_len"
      ],
      "metadata": {
        "colab": {
          "base_uri": "https://localhost:8080/"
        },
        "id": "NE6UU0wXUatj",
        "outputId": "aebb05f6-70e8-4568-f4e1-53d4b18bf92d"
      },
      "execution_count": null,
      "outputs": [
        {
          "output_type": "execute_result",
          "data": {
            "text/plain": [
              "2184"
            ]
          },
          "metadata": {},
          "execution_count": 60
        }
      ]
    },
    {
      "cell_type": "code",
      "source": [
        "#Scale the data\n",
        "scaler = MinMaxScaler(feature_range=(0,1))\n",
        "scaled_data = scaler.fit_transform(dataset)\n",
        "scaled_data"
      ],
      "metadata": {
        "colab": {
          "base_uri": "https://localhost:8080/"
        },
        "id": "bWR3jB1fV_hE",
        "outputId": "65ae9785-1e69-47a7-8f98-bd63ef122c6a"
      },
      "execution_count": null,
      "outputs": [
        {
          "output_type": "execute_result",
          "data": {
            "text/plain": [
              "array([[0.00086343],\n",
              "       [0.00080303],\n",
              "       [0.00070674],\n",
              "       ...,\n",
              "       [0.55404653],\n",
              "       [0.52261063],\n",
              "       [0.52341857]])"
            ]
          },
          "metadata": {},
          "execution_count": 61
        }
      ]
    },
    {
      "cell_type": "code",
      "source": [
        "#Create the training data set\n",
        "#Create the scaled training data set\n",
        "train_data = scaled_data[0:training_data_len, :]\n",
        "#Spilt the data into x_train and y_train data sets\n",
        "x_train = []\n",
        "y_train = []\n",
        "\n",
        "for i in range(60, len(train_data)):\n",
        "  x_train.append(train_data[i-60:i, 0])\n",
        "  y_train.append(train_data[i, 0])\n",
        "  if i<=63:\n",
        "    print(x_train)\n",
        "    print(y_train)\n",
        "    print()"
      ],
      "metadata": {
        "id": "ZGg4teaHXBKR",
        "colab": {
          "base_uri": "https://localhost:8080/"
        },
        "outputId": "7cf8b7ca-6e03-4c53-a804-293b720b365b"
      },
      "execution_count": null,
      "outputs": [
        {
          "output_type": "stream",
          "name": "stdout",
          "text": [
            "[array([0.00086343, 0.00080303, 0.00070674, 0.00067246, 0.00072796,\n",
            "       0.00078834, 0.00088791, 0.00089117, 0.        , 0.00062186,\n",
            "       0.00065614, 0.00064798, 0.00062186, 0.00064961, 0.0007557 ,\n",
            "       0.00084547, 0.00100379, 0.00106745, 0.00110662, 0.00102501,\n",
            "       0.00110825, 0.00121761, 0.00136451, 0.0014706 , 0.00143796,\n",
            "       0.00149182, 0.00159791, 0.00135634, 0.00142   , 0.00169421,\n",
            "       0.00176439, 0.00185906, 0.001988  , 0.00191129, 0.00186559,\n",
            "       0.00191618, 0.00178887, 0.00176766, 0.00179867, 0.00173338,\n",
            "       0.0018966 , 0.00183621, 0.00179214, 0.00168441, 0.00168605,\n",
            "       0.00167789, 0.00195046, 0.00215775, 0.00217081, 0.00204023,\n",
            "       0.0019929 , 0.00204513, 0.00198963, 0.00198637, 0.00201738,\n",
            "       0.00189497, 0.00184274, 0.00238462, 0.00247276, 0.00245807])]\n",
            "[0.0023731972591546557]\n",
            "\n",
            "[array([0.00086343, 0.00080303, 0.00070674, 0.00067246, 0.00072796,\n",
            "       0.00078834, 0.00088791, 0.00089117, 0.        , 0.00062186,\n",
            "       0.00065614, 0.00064798, 0.00062186, 0.00064961, 0.0007557 ,\n",
            "       0.00084547, 0.00100379, 0.00106745, 0.00110662, 0.00102501,\n",
            "       0.00110825, 0.00121761, 0.00136451, 0.0014706 , 0.00143796,\n",
            "       0.00149182, 0.00159791, 0.00135634, 0.00142   , 0.00169421,\n",
            "       0.00176439, 0.00185906, 0.001988  , 0.00191129, 0.00186559,\n",
            "       0.00191618, 0.00178887, 0.00176766, 0.00179867, 0.00173338,\n",
            "       0.0018966 , 0.00183621, 0.00179214, 0.00168441, 0.00168605,\n",
            "       0.00167789, 0.00195046, 0.00215775, 0.00217081, 0.00204023,\n",
            "       0.0019929 , 0.00204513, 0.00198963, 0.00198637, 0.00201738,\n",
            "       0.00189497, 0.00184274, 0.00238462, 0.00247276, 0.00245807]), array([0.00080303, 0.00070674, 0.00067246, 0.00072796, 0.00078834,\n",
            "       0.00088791, 0.00089117, 0.        , 0.00062186, 0.00065614,\n",
            "       0.00064798, 0.00062186, 0.00064961, 0.0007557 , 0.00084547,\n",
            "       0.00100379, 0.00106745, 0.00110662, 0.00102501, 0.00110825,\n",
            "       0.00121761, 0.00136451, 0.0014706 , 0.00143796, 0.00149182,\n",
            "       0.00159791, 0.00135634, 0.00142   , 0.00169421, 0.00176439,\n",
            "       0.00185906, 0.001988  , 0.00191129, 0.00186559, 0.00191618,\n",
            "       0.00178887, 0.00176766, 0.00179867, 0.00173338, 0.0018966 ,\n",
            "       0.00183621, 0.00179214, 0.00168441, 0.00168605, 0.00167789,\n",
            "       0.00195046, 0.00215775, 0.00217081, 0.00204023, 0.0019929 ,\n",
            "       0.00204513, 0.00198963, 0.00198637, 0.00201738, 0.00189497,\n",
            "       0.00184274, 0.00238462, 0.00247276, 0.00245807, 0.0023732 ])]\n",
            "[0.0023731972591546557, 0.0023585074999534278]\n",
            "\n",
            "[array([0.00086343, 0.00080303, 0.00070674, 0.00067246, 0.00072796,\n",
            "       0.00078834, 0.00088791, 0.00089117, 0.        , 0.00062186,\n",
            "       0.00065614, 0.00064798, 0.00062186, 0.00064961, 0.0007557 ,\n",
            "       0.00084547, 0.00100379, 0.00106745, 0.00110662, 0.00102501,\n",
            "       0.00110825, 0.00121761, 0.00136451, 0.0014706 , 0.00143796,\n",
            "       0.00149182, 0.00159791, 0.00135634, 0.00142   , 0.00169421,\n",
            "       0.00176439, 0.00185906, 0.001988  , 0.00191129, 0.00186559,\n",
            "       0.00191618, 0.00178887, 0.00176766, 0.00179867, 0.00173338,\n",
            "       0.0018966 , 0.00183621, 0.00179214, 0.00168441, 0.00168605,\n",
            "       0.00167789, 0.00195046, 0.00215775, 0.00217081, 0.00204023,\n",
            "       0.0019929 , 0.00204513, 0.00198963, 0.00198637, 0.00201738,\n",
            "       0.00189497, 0.00184274, 0.00238462, 0.00247276, 0.00245807]), array([0.00080303, 0.00070674, 0.00067246, 0.00072796, 0.00078834,\n",
            "       0.00088791, 0.00089117, 0.        , 0.00062186, 0.00065614,\n",
            "       0.00064798, 0.00062186, 0.00064961, 0.0007557 , 0.00084547,\n",
            "       0.00100379, 0.00106745, 0.00110662, 0.00102501, 0.00110825,\n",
            "       0.00121761, 0.00136451, 0.0014706 , 0.00143796, 0.00149182,\n",
            "       0.00159791, 0.00135634, 0.00142   , 0.00169421, 0.00176439,\n",
            "       0.00185906, 0.001988  , 0.00191129, 0.00186559, 0.00191618,\n",
            "       0.00178887, 0.00176766, 0.00179867, 0.00173338, 0.0018966 ,\n",
            "       0.00183621, 0.00179214, 0.00168441, 0.00168605, 0.00167789,\n",
            "       0.00195046, 0.00215775, 0.00217081, 0.00204023, 0.0019929 ,\n",
            "       0.00204513, 0.00198963, 0.00198637, 0.00201738, 0.00189497,\n",
            "       0.00184274, 0.00238462, 0.00247276, 0.00245807, 0.0023732 ]), array([0.00070674, 0.00067246, 0.00072796, 0.00078834, 0.00088791,\n",
            "       0.00089117, 0.        , 0.00062186, 0.00065614, 0.00064798,\n",
            "       0.00062186, 0.00064961, 0.0007557 , 0.00084547, 0.00100379,\n",
            "       0.00106745, 0.00110662, 0.00102501, 0.00110825, 0.00121761,\n",
            "       0.00136451, 0.0014706 , 0.00143796, 0.00149182, 0.00159791,\n",
            "       0.00135634, 0.00142   , 0.00169421, 0.00176439, 0.00185906,\n",
            "       0.001988  , 0.00191129, 0.00186559, 0.00191618, 0.00178887,\n",
            "       0.00176766, 0.00179867, 0.00173338, 0.0018966 , 0.00183621,\n",
            "       0.00179214, 0.00168441, 0.00168605, 0.00167789, 0.00195046,\n",
            "       0.00215775, 0.00217081, 0.00204023, 0.0019929 , 0.00204513,\n",
            "       0.00198963, 0.00198637, 0.00201738, 0.00189497, 0.00184274,\n",
            "       0.00238462, 0.00247276, 0.00245807, 0.0023732 , 0.00235851])]\n",
            "[0.0023731972591546557, 0.0023585074999534278, 0.002250783572001931]\n",
            "\n",
            "[array([0.00086343, 0.00080303, 0.00070674, 0.00067246, 0.00072796,\n",
            "       0.00078834, 0.00088791, 0.00089117, 0.        , 0.00062186,\n",
            "       0.00065614, 0.00064798, 0.00062186, 0.00064961, 0.0007557 ,\n",
            "       0.00084547, 0.00100379, 0.00106745, 0.00110662, 0.00102501,\n",
            "       0.00110825, 0.00121761, 0.00136451, 0.0014706 , 0.00143796,\n",
            "       0.00149182, 0.00159791, 0.00135634, 0.00142   , 0.00169421,\n",
            "       0.00176439, 0.00185906, 0.001988  , 0.00191129, 0.00186559,\n",
            "       0.00191618, 0.00178887, 0.00176766, 0.00179867, 0.00173338,\n",
            "       0.0018966 , 0.00183621, 0.00179214, 0.00168441, 0.00168605,\n",
            "       0.00167789, 0.00195046, 0.00215775, 0.00217081, 0.00204023,\n",
            "       0.0019929 , 0.00204513, 0.00198963, 0.00198637, 0.00201738,\n",
            "       0.00189497, 0.00184274, 0.00238462, 0.00247276, 0.00245807]), array([0.00080303, 0.00070674, 0.00067246, 0.00072796, 0.00078834,\n",
            "       0.00088791, 0.00089117, 0.        , 0.00062186, 0.00065614,\n",
            "       0.00064798, 0.00062186, 0.00064961, 0.0007557 , 0.00084547,\n",
            "       0.00100379, 0.00106745, 0.00110662, 0.00102501, 0.00110825,\n",
            "       0.00121761, 0.00136451, 0.0014706 , 0.00143796, 0.00149182,\n",
            "       0.00159791, 0.00135634, 0.00142   , 0.00169421, 0.00176439,\n",
            "       0.00185906, 0.001988  , 0.00191129, 0.00186559, 0.00191618,\n",
            "       0.00178887, 0.00176766, 0.00179867, 0.00173338, 0.0018966 ,\n",
            "       0.00183621, 0.00179214, 0.00168441, 0.00168605, 0.00167789,\n",
            "       0.00195046, 0.00215775, 0.00217081, 0.00204023, 0.0019929 ,\n",
            "       0.00204513, 0.00198963, 0.00198637, 0.00201738, 0.00189497,\n",
            "       0.00184274, 0.00238462, 0.00247276, 0.00245807, 0.0023732 ]), array([0.00070674, 0.00067246, 0.00072796, 0.00078834, 0.00088791,\n",
            "       0.00089117, 0.        , 0.00062186, 0.00065614, 0.00064798,\n",
            "       0.00062186, 0.00064961, 0.0007557 , 0.00084547, 0.00100379,\n",
            "       0.00106745, 0.00110662, 0.00102501, 0.00110825, 0.00121761,\n",
            "       0.00136451, 0.0014706 , 0.00143796, 0.00149182, 0.00159791,\n",
            "       0.00135634, 0.00142   , 0.00169421, 0.00176439, 0.00185906,\n",
            "       0.001988  , 0.00191129, 0.00186559, 0.00191618, 0.00178887,\n",
            "       0.00176766, 0.00179867, 0.00173338, 0.0018966 , 0.00183621,\n",
            "       0.00179214, 0.00168441, 0.00168605, 0.00167789, 0.00195046,\n",
            "       0.00215775, 0.00217081, 0.00204023, 0.0019929 , 0.00204513,\n",
            "       0.00198963, 0.00198637, 0.00201738, 0.00189497, 0.00184274,\n",
            "       0.00238462, 0.00247276, 0.00245807, 0.0023732 , 0.00235851]), array([0.00067246, 0.00072796, 0.00078834, 0.00088791, 0.00089117,\n",
            "       0.        , 0.00062186, 0.00065614, 0.00064798, 0.00062186,\n",
            "       0.00064961, 0.0007557 , 0.00084547, 0.00100379, 0.00106745,\n",
            "       0.00110662, 0.00102501, 0.00110825, 0.00121761, 0.00136451,\n",
            "       0.0014706 , 0.00143796, 0.00149182, 0.00159791, 0.00135634,\n",
            "       0.00142   , 0.00169421, 0.00176439, 0.00185906, 0.001988  ,\n",
            "       0.00191129, 0.00186559, 0.00191618, 0.00178887, 0.00176766,\n",
            "       0.00179867, 0.00173338, 0.0018966 , 0.00183621, 0.00179214,\n",
            "       0.00168441, 0.00168605, 0.00167789, 0.00195046, 0.00215775,\n",
            "       0.00217081, 0.00204023, 0.0019929 , 0.00204513, 0.00198963,\n",
            "       0.00198637, 0.00201738, 0.00189497, 0.00184274, 0.00238462,\n",
            "       0.00247276, 0.00245807, 0.0023732 , 0.00235851, 0.00225078])]\n",
            "[0.0023731972591546557, 0.0023585074999534278, 0.002250783572001931, 0.002484184734896586]\n",
            "\n"
          ]
        }
      ]
    },
    {
      "cell_type": "code",
      "source": [
        "#Convert the x_train and y_train to numpy arrays\n",
        "x_train, y_train = np.array(x_train), np.array(y_train)"
      ],
      "metadata": {
        "id": "hoGGWNUbCU7e"
      },
      "execution_count": null,
      "outputs": []
    },
    {
      "cell_type": "code",
      "source": [
        "#Reshape the data\n",
        "x_train = np.reshape(x_train, (x_train.shape[0], x_train.shape[1] ,1))\n",
        "x_train.shape"
      ],
      "metadata": {
        "colab": {
          "base_uri": "https://localhost:8080/"
        },
        "id": "GUPlFO-lFovO",
        "outputId": "248496e8-3d82-4f50-f93d-8b930ea69a62"
      },
      "execution_count": null,
      "outputs": [
        {
          "output_type": "execute_result",
          "data": {
            "text/plain": [
              "(2124, 60, 1)"
            ]
          },
          "metadata": {},
          "execution_count": 64
        }
      ]
    },
    {
      "cell_type": "code",
      "source": [
        "#Build the LSTM model\n",
        "model = Sequential()\n",
        "model.add(LSTM(50, return_sequences=True, input_shape=(x_train.shape[1],1)))\n",
        "model.add(LSTM(50, return_sequences=False))\n",
        "model.add(Dense(25))\n",
        "model.add(Dense(1))"
      ],
      "metadata": {
        "id": "RRN0RyHQFxpx"
      },
      "execution_count": null,
      "outputs": []
    },
    {
      "cell_type": "code",
      "source": [
        "#Compile the model\n",
        "model.compile(optimizer=\"adam\", loss='mean_squared_error')"
      ],
      "metadata": {
        "id": "R1gG4-I8HTvO"
      },
      "execution_count": null,
      "outputs": []
    },
    {
      "cell_type": "code",
      "source": [
        "#Train the model\n",
        "model.fit(x_train, y_train, batch_size=1, epochs=1)"
      ],
      "metadata": {
        "colab": {
          "base_uri": "https://localhost:8080/"
        },
        "id": "iTYuKs_lHq3Z",
        "outputId": "f8c9997a-6214-4516-b882-3253ec23c51e"
      },
      "execution_count": null,
      "outputs": [
        {
          "output_type": "stream",
          "name": "stdout",
          "text": [
            "2124/2124 [==============================] - 67s 30ms/step - loss: 1.8355e-04\n"
          ]
        },
        {
          "output_type": "execute_result",
          "data": {
            "text/plain": [
              "<keras.callbacks.History at 0x7f67831451d0>"
            ]
          },
          "metadata": {},
          "execution_count": 67
        }
      ]
    },
    {
      "cell_type": "code",
      "source": [
        "#Create the testing data set\n",
        "#Create a new array containing scaled values from index 1543 to 2003\n",
        "test_data = scaled_data[training_data_len - 60:, :]\n",
        "#Create the data sets x_test and y_test\n",
        "x_test=[]\n",
        "y_test=dataset[training_data_len:, :]\n",
        "for i in range(60, len(test_data)):\n",
        "  x_test.append(test_data[i-60:i, 0])"
      ],
      "metadata": {
        "id": "zLJp2vrzIcCr"
      },
      "execution_count": null,
      "outputs": []
    },
    {
      "cell_type": "code",
      "source": [
        "#Convert the data to a numpy array\n",
        "x_test = np.array(x_test)"
      ],
      "metadata": {
        "id": "1EUwit-0JgX8"
      },
      "execution_count": null,
      "outputs": []
    },
    {
      "cell_type": "code",
      "source": [
        "#Reshape the data\n",
        "x_test = np.reshape(x_test,(x_test.shape[0], x_test.shape[1], 1))"
      ],
      "metadata": {
        "id": "-m_Lp-8DJzaw"
      },
      "execution_count": null,
      "outputs": []
    },
    {
      "cell_type": "code",
      "source": [
        "#Get the models predicted price values\n",
        "predictions = model.predict(x_test)\n",
        "predictions = scaler.inverse_transform(predictions)"
      ],
      "metadata": {
        "colab": {
          "base_uri": "https://localhost:8080/"
        },
        "id": "KPrT7kdlKJDw",
        "outputId": "4562e932-b3ee-4380-a014-ed99bfbf2fd6"
      },
      "execution_count": null,
      "outputs": [
        {
          "output_type": "stream",
          "name": "stdout",
          "text": [
            "18/18 [==============================] - 1s 16ms/step\n"
          ]
        }
      ]
    },
    {
      "cell_type": "code",
      "source": [
        "#Get the root mean squared error (RMSE)\n",
        "#0 means very accurate\n",
        "rmse=np.sqrt(np.mean( predictions - y_test)**2)\n",
        "rmse"
      ],
      "metadata": {
        "colab": {
          "base_uri": "https://localhost:8080/"
        },
        "id": "JVzGEAbiKyGS",
        "outputId": "7a5a84a9-d1e7-4ed3-cb46-711bd2691351"
      },
      "execution_count": null,
      "outputs": [
        {
          "output_type": "execute_result",
          "data": {
            "text/plain": [
              "18.839593939824937"
            ]
          },
          "metadata": {},
          "execution_count": 72
        }
      ]
    },
    {
      "cell_type": "code",
      "source": [
        "#Plot the data\n",
        "train = data[:training_data_len]\n",
        "valid = data[training_data_len:]\n",
        "valid['Predictions'] = predictions\n",
        "\n",
        "#Visualize the data\n",
        "plt.figure(figsize=(16,8))\n",
        "plt.title('Model')\n",
        "plt.xlabel('Date', fontsize=18)\n",
        "plt.ylabel('Close Price', fontsize=18)\n",
        "plt.plot(train['Close'])\n",
        "plt.plot(valid[['Close', 'Predictions']])\n",
        "plt.legend(['Train','Val','Predictions'],loc='lower right')\n",
        "plt.show()"
      ],
      "metadata": {
        "colab": {
          "base_uri": "https://localhost:8080/",
          "height": 660
        },
        "id": "soW5i0SrLJii",
        "outputId": "979da29c-ceeb-40ce-9207-78aae939364e"
      },
      "execution_count": null,
      "outputs": [
        {
          "output_type": "stream",
          "name": "stderr",
          "text": [
            "/usr/local/lib/python3.7/dist-packages/ipykernel_launcher.py:4: SettingWithCopyWarning: \n",
            "A value is trying to be set on a copy of a slice from a DataFrame.\n",
            "Try using .loc[row_indexer,col_indexer] = value instead\n",
            "\n",
            "See the caveats in the documentation: https://pandas.pydata.org/pandas-docs/stable/user_guide/indexing.html#returning-a-view-versus-a-copy\n",
            "  after removing the cwd from sys.path.\n"
          ]
        },
        {
          "output_type": "display_data",
          "data": {
            "text/plain": [
              "<Figure size 1152x576 with 1 Axes>"
            ],
            "image/png": "[encoded data removed]"
          },
          "metadata": {}
        }
      ]
    },
    {
      "cell_type": "code",
      "source": [
        "#Show the valid and predicted prices\n",
        "valid\n"
      ],
      "metadata": {
        "colab": {
          "base_uri": "https://localhost:8080/",
          "height": 450
        },
        "id": "DCXHIpFuNRGq",
        "outputId": "d7f4d998-a4a3-43f6-bb00-1fd4a285489b"
      },
      "execution_count": null,
      "outputs": [
        {
          "output_type": "execute_result",
          "data": {
            "text/plain": [
              "                 Close  Predictions\n",
              "Date                               \n",
              "2020-09-08  110.070000   149.968658\n",
              "2020-09-09  122.093330   143.401794\n",
              "2020-09-10  123.779999   137.667435\n",
              "2020-09-11  124.239998   133.314529\n",
              "2020-09-14  139.873337   130.278564\n",
              "...                ...          ...\n",
              "2022-10-28  228.520004   233.065155\n",
              "2022-10-31  227.539993   235.344482\n",
              "2022-11-01  227.820007   237.294067\n",
              "2022-11-02  214.979996   238.859100\n",
              "2022-11-03  215.309998   237.938400\n",
              "\n",
              "[545 rows x 2 columns]"
            ],
            "text/html": [
              "\n",
              "  <div id=\"df-72374f27-600e-41b0-abe9-61f43cbefe2b\">\n",
              "    <div class=\"colab-df-container\">\n",
              "      <div>\n",
              "<style scoped>\n",
              "    .dataframe tbody tr th:only-of-type {\n",
              "        vertical-align: middle;\n",
              "    }\n",
              "\n",
              "    .dataframe tbody tr th {\n",
              "        vertical-align: top;\n",
              "    }\n",
              "\n",
              "    .dataframe thead th {\n",
              "        text-align: right;\n",
              "    }\n",
              "</style>\n",
              "<table border=\"1\" class=\"dataframe\">\n",
              "  <thead>\n",
              "    <tr style=\"text-align: right;\">\n",
              "      <th></th>\n",
              "      <th>Close</th>\n",
              "      <th>Predictions</th>\n",
              "    </tr>\n",
              "    <tr>\n",
              "      <th>Date</th>\n",
              "      <th></th>\n",
              "      <th></th>\n",
              "    </tr>\n",
              "  </thead>\n",
              "  <tbody>\n",
              "    <tr>\n",
              "      <th>2020-09-08</th>\n",
              "      <td>110.070000</td>\n",
              "      <td>149.968658</td>\n",
              "    </tr>\n",
              "    <tr>\n",
              "      <th>2020-09-09</th>\n",
              "      <td>122.093330</td>\n",
              "      <td>143.401794</td>\n",
              "    </tr>\n",
              "    <tr>\n",
              "      <th>2020-09-10</th>\n",
              "      <td>123.779999</td>\n",
              "      <td>137.667435</td>\n",
              "    </tr>\n",
              "    <tr>\n",
              "      <th>2020-09-11</th>\n",
              "      <td>124.239998</td>\n",
              "      <td>133.314529</td>\n",
              "    </tr>\n",
              "    <tr>\n",
              "      <th>2020-09-14</th>\n",
              "      <td>139.873337</td>\n",
              "      <td>130.278564</td>\n",
              "    </tr>\n",
              "    <tr>\n",
              "      <th>...</th>\n",
              "      <td>...</td>\n",
              "      <td>...</td>\n",
              "    </tr>\n",
              "    <tr>\n",
              "      <th>2022-10-28</th>\n",
              "      <td>228.520004</td>\n",
              "      <td>233.065155</td>\n",
              "    </tr>\n",
              "    <tr>\n",
              "      <th>2022-10-31</th>\n",
              "      <td>227.539993</td>\n",
              "      <td>235.344482</td>\n",
              "    </tr>\n",
              "    <tr>\n",
              "      <th>2022-11-01</th>\n",
              "      <td>227.820007</td>\n",
              "      <td>237.294067</td>\n",
              "    </tr>\n",
              "    <tr>\n",
              "      <th>2022-11-02</th>\n",
              "      <td>214.979996</td>\n",
              "      <td>238.859100</td>\n",
              "    </tr>\n",
              "    <tr>\n",
              "      <th>2022-11-03</th>\n",
              "      <td>215.309998</td>\n",
              "      <td>237.938400</td>\n",
              "    </tr>\n",
              "  </tbody>\n",
              "</table>\n",
              "<p>545 rows × 2 columns</p>\n",
              "</div>\n",
              "      <button class=\"colab-df-convert\" onclick=\"convertToInteractive('df-72374f27-600e-41b0-abe9-61f43cbefe2b')\"\n",
              "              title=\"Convert this dataframe to an interactive table.\"\n",
              "              style=\"display:none;\">\n",
              "        \n",
              "  <svg xmlns=\"http://www.w3.org/2000/svg\" height=\"24px\"viewBox=\"0 0 24 24\"\n",
              "       width=\"24px\">\n",
              "    <path d=\"M0 0h24v24H0V0z\" fill=\"none\"/>\n",
              "    <path d=\"M18.56 5.44l.94 2.06.94-2.06 2.06-.94-2.06-.94-.94-2.06-.94 2.06-2.06.94zm-11 1L8.5 8.5l.94-2.06 2.06-.94-2.06-.94L8.5 2.5l-.94 2.06-2.06.94zm10 10l.94 2.06.94-2.06 2.06-.94-2.06-.94-.94-2.06-.94 2.06-2.06.94z\"/><path d=\"M17.41 7.96l-1.37-1.37c-.4-.4-.92-.59-1.43-.59-.52 0-1.04.2-1.43.59L10.3 9.45l-7.72 7.72c-.78.78-.78 2.05 0 2.83L4 21.41c.39.39.9.59 1.41.59.51 0 1.02-.2 1.41-.59l7.78-7.78 2.81-2.81c.8-.78.8-2.07 0-2.86zM5.41 20L4 18.59l7.72-7.72 1.47 1.35L5.41 20z\"/>\n",
              "  </svg>\n",
              "      </button>\n",
              "      \n",
              "  <style>\n",
              "    .colab-df-container {\n",
              "      display:flex;\n",
              "      flex-wrap:wrap;\n",
              "      gap: 12px;\n",
              "    }\n",
              "\n",
              "    .colab-df-convert {\n",
              "      background-color: #E8F0FE;\n",
              "      border: none;\n",
              "      border-radius: 50%;\n",
              "      cursor: pointer;\n",
              "      display: none;\n",
              "      fill: #1967D2;\n",
              "      height: 32px;\n",
              "      padding: 0 0 0 0;\n",
              "      width: 32px;\n",
              "    }\n",
              "\n",
              "    .colab-df-convert:hover {\n",
              "      background-color: #E2EBFA;\n",
              "      box-shadow: 0px 1px 2px rgba(60, 64, 67, 0.3), 0px 1px 3px 1px rgba(60, 64, 67, 0.15);\n",
              "      fill: #174EA6;\n",
              "    }\n",
              "\n",
              "    [theme=dark] .colab-df-convert {\n",
              "      background-color: #3B4455;\n",
              "      fill: #D2E3FC;\n",
              "    }\n",
              "\n",
              "    [theme=dark] .colab-df-convert:hover {\n",
              "      background-color: #434B5C;\n",
              "      box-shadow: 0px 1px 3px 1px rgba(0, 0, 0, 0.15);\n",
              "      filter: drop-shadow(0px 1px 2px rgba(0, 0, 0, 0.3));\n",
              "      fill: #FFFFFF;\n",
              "    }\n",
              "  </style>\n",
              "\n",
              "      <script>\n",
              "        const buttonEl =\n",
              "          document.querySelector('#df-72374f27-600e-41b0-abe9-61f43cbefe2b button.colab-df-convert');\n",
              "        buttonEl.style.display =\n",
              "          google.colab.kernel.accessAllowed ? 'block' : 'none';\n",
              "\n",
              "        async function convertToInteractive(key) {\n",
              "          const element = document.querySelector('#df-72374f27-600e-41b0-abe9-61f43cbefe2b');\n",
              "          const dataTable =\n",
              "            await google.colab.kernel.invokeFunction('convertToInteractive',\n",
              "                                                     [key], {});\n",
              "          if (!dataTable) return;\n",
              "\n",
              "          const docLinkHtml = 'Like what you see? Visit the ' +\n",
              "            '<a target=\"_blank\" href=https://colab.research.google.com/notebooks/data_table.ipynb>data table notebook</a>'\n",
              "            + ' to learn more about interactive tables.';\n",
              "          element.innerHTML = '';\n",
              "          dataTable['output_type'] = 'display_data';\n",
              "          await google.colab.output.renderOutput(dataTable, element);\n",
              "          const docLink = document.createElement('div');\n",
              "          docLink.innerHTML = docLinkHtml;\n",
              "          element.appendChild(docLink);\n",
              "        }\n",
              "      </script>\n",
              "    </div>\n",
              "  </div>\n",
              "  "
            ]
          },
          "metadata": {},
          "execution_count": 74
        }
      ]
    },
    {
      "cell_type": "code",
      "source": [
        "#Get the quote\n",
        "apple_quote=web.DataReader('TSLA', data_source='yahoo', start='2012-01-01', end='2022-11-04')\n",
        "\n",
        "#Create a new dataframe\n",
        "new_df = apple_quote.filter(['Close'])\n",
        "\n",
        "#Get the last 60 day closing price values and convert the dataframe to array\n",
        "last_60_days = new_df[-60:].values\n",
        "\n",
        "#Scale the data to be values between 0 and 1\n",
        "last_60_days_scaled = scaler.transform(last_60_days)\n",
        "\n",
        "#Create an empty list\n",
        "X_test=[]\n",
        "\n",
        "#Append the past 60 days\n",
        "X_test.append(last_60_days_scaled)\n",
        "\n",
        "#Convert the X_test data set to a numpy array\n",
        "X_test=np.array(X_test)\n",
        "\n",
        "#Reshape the data\n",
        "X_test=np.reshape(X_test, (X_test.shape[0], X_test.shape[1], 1))\n",
        "\n",
        "#Get the predicted scale price\n",
        "pred_price = model.predict(X_test)\n",
        "\n",
        "#Undo the Scaling\n",
        "pred_price = scaler.inverse_transform(pred_price)\n",
        "\n",
        "print(pred_price)"
      ],
      "metadata": {
        "colab": {
          "base_uri": "https://localhost:8080/"
        },
        "id": "-g7PAekvNxk6",
        "outputId": "3bdd1ff8-61cc-4395-c132-2a36358ab129"
      },
      "execution_count": null,
      "outputs": [
        {
          "output_type": "stream",
          "name": "stdout",
          "text": [
            "1/1 [==============================] - 0s 26ms/step\n",
            "[[232.92032]]\n"
          ]
        }
      ]
    },
    {
      "cell_type": "code",
      "source": [
        "#Get the quote\n",
        "apple_quote2=web.DataReader('TSLA', data_source='yahoo', start='2022-11-5', end='2022-11-5')\n",
        "print(apple_quote2['Close'])"
      ],
      "metadata": {
        "colab": {
          "base_uri": "https://localhost:8080/"
        },
        "id": "8Qb3tclARGu5",
        "outputId": "bc2872f0-fea4-4b13-dc89-3c17447527f6"
      },
      "execution_count": null,
      "outputs": [
        {
          "output_type": "stream",
          "name": "stdout",
          "text": [
            "Date\n",
            "2022-11-04    207.470001\n",
            "Name: Close, dtype: float64\n"
          ]
        }
      ]
    },
    {
      "cell_type": "code",
      "source": [],
      "metadata": {
        "id": "b_WFDGjYRzfv"
      },
      "execution_count": null,
      "outputs": []
    }
  ]
}
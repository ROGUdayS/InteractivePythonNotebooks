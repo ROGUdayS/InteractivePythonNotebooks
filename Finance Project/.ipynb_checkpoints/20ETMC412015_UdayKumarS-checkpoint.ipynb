{
 "cells": [
  {
   "cell_type": "markdown",
   "id": "8ce6281a",
   "metadata": {},
   "source": [
    "This is the code of Uday Kumar S \n",
    "20ETMC412015\n",
    "B.tech in M&C\n",
    "Application of Statistics and Finance\n",
    "20MCC316C"
   ]
  },
  {
   "cell_type": "code",
   "execution_count": 7,
   "id": "debfe4e5",
   "metadata": {},
   "outputs": [],
   "source": [
    "#importing required modules\n",
    "import pandas as pd\n",
    "from pandas_datareader import data as pdr\n",
    "import numpy as np\n",
    "import yfinance as yf\n",
    "import matplotlib.pyplot as plt\n",
    "plt.style.use('seaborn-colorblind')"
   ]
  },
  {
   "cell_type": "markdown",
   "id": "421b23e4",
   "metadata": {},
   "source": [
    "Part A"
   ]
  },
  {
   "cell_type": "markdown",
   "id": "cc569511",
   "metadata": {},
   "source": [
    "Portfolios are a way to diversify the investor funds. This part of the assignment student will download five stocks monthly data from yahoo finance and compute the monthly return on the basis of Adjusted Close price. In addition, the Covariance matrix should be computed for the five stocks selected."
   ]
  },
  {
   "cell_type": "markdown",
   "id": "7eacb309",
   "metadata": {},
   "source": [
    "Selection of five stocks, traded on Bombay Stock Exchange (BSE) or National Stock Exchange (NSE) and download of prices monthly data last five years, use Adjusted close column in yahoo finance"
   ]
  },
  {
   "cell_type": "code",
   "execution_count": 8,
   "id": "a0a589b9",
   "metadata": {},
   "outputs": [],
   "source": [
    "#Selecting the Stocks\n",
    "stocks = ['^NSEI', 'MARUTI.NS','RELIANCE.NS','APOLLOHOSP.NS','KOTAKBANK.NS']"
   ]
  },
  {
   "cell_type": "code",
   "execution_count": 9,
   "id": "ce58d2c6",
   "metadata": {},
   "outputs": [
    {
     "data": {
      "text/html": [
       "<div>\n",
       "<style scoped>\n",
       "    .dataframe tbody tr th:only-of-type {\n",
       "        vertical-align: middle;\n",
       "    }\n",
       "\n",
       "    .dataframe tbody tr th {\n",
       "        vertical-align: top;\n",
       "    }\n",
       "\n",
       "    .dataframe thead th {\n",
       "        text-align: right;\n",
       "    }\n",
       "</style>\n",
       "<table border=\"1\" class=\"dataframe\">\n",
       "  <thead>\n",
       "    <tr style=\"text-align: right;\">\n",
       "      <th>Symbols</th>\n",
       "      <th>^NSEI</th>\n",
       "      <th>MARUTI.NS</th>\n",
       "      <th>RELIANCE.NS</th>\n",
       "      <th>APOLLOHOSP.NS</th>\n",
       "      <th>KOTAKBANK.NS</th>\n",
       "    </tr>\n",
       "    <tr>\n",
       "      <th>Date</th>\n",
       "      <th></th>\n",
       "      <th></th>\n",
       "      <th></th>\n",
       "      <th></th>\n",
       "      <th></th>\n",
       "    </tr>\n",
       "  </thead>\n",
       "  <tbody>\n",
       "    <tr>\n",
       "      <th>2016-12-31</th>\n",
       "      <td>8561.299805</td>\n",
       "      <td>5532.569824</td>\n",
       "      <td>502.924347</td>\n",
       "      <td>1204.733032</td>\n",
       "      <td>772.005920</td>\n",
       "    </tr>\n",
       "    <tr>\n",
       "      <th>2017-01-31</th>\n",
       "      <td>8879.599609</td>\n",
       "      <td>5559.085938</td>\n",
       "      <td>595.718933</td>\n",
       "      <td>1274.859497</td>\n",
       "      <td>799.878418</td>\n",
       "    </tr>\n",
       "    <tr>\n",
       "      <th>2017-02-28</th>\n",
       "      <td>9173.750000</td>\n",
       "      <td>5646.566895</td>\n",
       "      <td>635.584290</td>\n",
       "      <td>1141.168823</td>\n",
       "      <td>869.784302</td>\n",
       "    </tr>\n",
       "    <tr>\n",
       "      <th>2017-03-31</th>\n",
       "      <td>9304.049805</td>\n",
       "      <td>6124.475098</td>\n",
       "      <td>671.335754</td>\n",
       "      <td>1207.867065</td>\n",
       "      <td>899.451904</td>\n",
       "    </tr>\n",
       "    <tr>\n",
       "      <th>2017-04-30</th>\n",
       "      <td>9621.250000</td>\n",
       "      <td>6768.521973</td>\n",
       "      <td>645.111633</td>\n",
       "      <td>1186.173218</td>\n",
       "      <td>963.374329</td>\n",
       "    </tr>\n",
       "    <tr>\n",
       "      <th>...</th>\n",
       "      <td>...</td>\n",
       "      <td>...</td>\n",
       "      <td>...</td>\n",
       "      <td>...</td>\n",
       "      <td>...</td>\n",
       "    </tr>\n",
       "    <tr>\n",
       "      <th>2022-06-30</th>\n",
       "      <td>17158.250000</td>\n",
       "      <td>8716.163086</td>\n",
       "      <td>2501.917480</td>\n",
       "      <td>4200.805176</td>\n",
       "      <td>1809.260742</td>\n",
       "    </tr>\n",
       "    <tr>\n",
       "      <th>2022-07-31</th>\n",
       "      <td>17759.300781</td>\n",
       "      <td>9022.843750</td>\n",
       "      <td>2630.031738</td>\n",
       "      <td>4311.103027</td>\n",
       "      <td>1914.297485</td>\n",
       "    </tr>\n",
       "    <tr>\n",
       "      <th>2022-08-31</th>\n",
       "      <td>17094.349609</td>\n",
       "      <td>8828.150391</td>\n",
       "      <td>2377.750000</td>\n",
       "      <td>4383.399902</td>\n",
       "      <td>1819.199951</td>\n",
       "    </tr>\n",
       "    <tr>\n",
       "      <th>2022-09-30</th>\n",
       "      <td>18012.199219</td>\n",
       "      <td>9527.599609</td>\n",
       "      <td>2549.600098</td>\n",
       "      <td>4517.500000</td>\n",
       "      <td>1901.949951</td>\n",
       "    </tr>\n",
       "    <tr>\n",
       "      <th>2022-10-31</th>\n",
       "      <td>18202.800781</td>\n",
       "      <td>9229.500000</td>\n",
       "      <td>2592.750000</td>\n",
       "      <td>4362.600098</td>\n",
       "      <td>1899.949951</td>\n",
       "    </tr>\n",
       "  </tbody>\n",
       "</table>\n",
       "<p>71 rows × 5 columns</p>\n",
       "</div>"
      ],
      "text/plain": [
       "Symbols            ^NSEI    MARUTI.NS  RELIANCE.NS  APOLLOHOSP.NS  \\\n",
       "Date                                                                \n",
       "2016-12-31   8561.299805  5532.569824   502.924347    1204.733032   \n",
       "2017-01-31   8879.599609  5559.085938   595.718933    1274.859497   \n",
       "2017-02-28   9173.750000  5646.566895   635.584290    1141.168823   \n",
       "2017-03-31   9304.049805  6124.475098   671.335754    1207.867065   \n",
       "2017-04-30   9621.250000  6768.521973   645.111633    1186.173218   \n",
       "...                  ...          ...          ...            ...   \n",
       "2022-06-30  17158.250000  8716.163086  2501.917480    4200.805176   \n",
       "2022-07-31  17759.300781  9022.843750  2630.031738    4311.103027   \n",
       "2022-08-31  17094.349609  8828.150391  2377.750000    4383.399902   \n",
       "2022-09-30  18012.199219  9527.599609  2549.600098    4517.500000   \n",
       "2022-10-31  18202.800781  9229.500000  2592.750000    4362.600098   \n",
       "\n",
       "Symbols     KOTAKBANK.NS  \n",
       "Date                      \n",
       "2016-12-31    772.005920  \n",
       "2017-01-31    799.878418  \n",
       "2017-02-28    869.784302  \n",
       "2017-03-31    899.451904  \n",
       "2017-04-30    963.374329  \n",
       "...                  ...  \n",
       "2022-06-30   1809.260742  \n",
       "2022-07-31   1914.297485  \n",
       "2022-08-31   1819.199951  \n",
       "2022-09-30   1901.949951  \n",
       "2022-10-31   1899.949951  \n",
       "\n",
       "[71 rows x 5 columns]"
      ]
     },
     "execution_count": 9,
     "metadata": {},
     "output_type": "execute_result"
    }
   ],
   "source": [
    "#Getting the close price from 2017-11-01 to 2022-11-06\n",
    "stocks_adj_close = pdr.get_data_yahoo(stocks, start=\"2017-01-01\", end=\"2022-11-06\", interval='m')['Adj Close']\n",
    "stocks_adj_close"
   ]
  },
  {
   "cell_type": "markdown",
   "id": "fd5acddd",
   "metadata": {},
   "source": [
    "Computation of Returns"
   ]
  },
  {
   "cell_type": "code",
   "execution_count": 10,
   "id": "f01a93a0",
   "metadata": {},
   "outputs": [
    {
     "data": {
      "text/html": [
       "<div>\n",
       "<style scoped>\n",
       "    .dataframe tbody tr th:only-of-type {\n",
       "        vertical-align: middle;\n",
       "    }\n",
       "\n",
       "    .dataframe tbody tr th {\n",
       "        vertical-align: top;\n",
       "    }\n",
       "\n",
       "    .dataframe thead th {\n",
       "        text-align: right;\n",
       "    }\n",
       "</style>\n",
       "<table border=\"1\" class=\"dataframe\">\n",
       "  <thead>\n",
       "    <tr style=\"text-align: right;\">\n",
       "      <th>Symbols</th>\n",
       "      <th>^NSEI</th>\n",
       "      <th>MARUTI.NS</th>\n",
       "      <th>RELIANCE.NS</th>\n",
       "      <th>APOLLOHOSP.NS</th>\n",
       "      <th>KOTAKBANK.NS</th>\n",
       "    </tr>\n",
       "    <tr>\n",
       "      <th>Date</th>\n",
       "      <th></th>\n",
       "      <th></th>\n",
       "      <th></th>\n",
       "      <th></th>\n",
       "      <th></th>\n",
       "    </tr>\n",
       "  </thead>\n",
       "  <tbody>\n",
       "    <tr>\n",
       "      <th>2016-12-31</th>\n",
       "      <td>NaN</td>\n",
       "      <td>NaN</td>\n",
       "      <td>NaN</td>\n",
       "      <td>NaN</td>\n",
       "      <td>NaN</td>\n",
       "    </tr>\n",
       "    <tr>\n",
       "      <th>2017-01-31</th>\n",
       "      <td>0.037179</td>\n",
       "      <td>0.004793</td>\n",
       "      <td>0.184510</td>\n",
       "      <td>0.058209</td>\n",
       "      <td>0.036104</td>\n",
       "    </tr>\n",
       "    <tr>\n",
       "      <th>2017-02-28</th>\n",
       "      <td>0.033127</td>\n",
       "      <td>0.015737</td>\n",
       "      <td>0.066920</td>\n",
       "      <td>-0.104867</td>\n",
       "      <td>0.087396</td>\n",
       "    </tr>\n",
       "    <tr>\n",
       "      <th>2017-03-31</th>\n",
       "      <td>0.014204</td>\n",
       "      <td>0.084637</td>\n",
       "      <td>0.056250</td>\n",
       "      <td>0.058447</td>\n",
       "      <td>0.034109</td>\n",
       "    </tr>\n",
       "    <tr>\n",
       "      <th>2017-04-30</th>\n",
       "      <td>0.034093</td>\n",
       "      <td>0.105160</td>\n",
       "      <td>-0.039063</td>\n",
       "      <td>-0.017960</td>\n",
       "      <td>0.071068</td>\n",
       "    </tr>\n",
       "    <tr>\n",
       "      <th>...</th>\n",
       "      <td>...</td>\n",
       "      <td>...</td>\n",
       "      <td>...</td>\n",
       "      <td>...</td>\n",
       "      <td>...</td>\n",
       "    </tr>\n",
       "    <tr>\n",
       "      <th>2022-06-30</th>\n",
       "      <td>0.087324</td>\n",
       "      <td>0.035747</td>\n",
       "      <td>-0.033209</td>\n",
       "      <td>0.143559</td>\n",
       "      <td>0.089850</td>\n",
       "    </tr>\n",
       "    <tr>\n",
       "      <th>2022-07-31</th>\n",
       "      <td>0.035030</td>\n",
       "      <td>0.035185</td>\n",
       "      <td>0.051206</td>\n",
       "      <td>0.026256</td>\n",
       "      <td>0.058055</td>\n",
       "    </tr>\n",
       "    <tr>\n",
       "      <th>2022-08-31</th>\n",
       "      <td>-0.037442</td>\n",
       "      <td>-0.021578</td>\n",
       "      <td>-0.095923</td>\n",
       "      <td>0.016770</td>\n",
       "      <td>-0.049678</td>\n",
       "    </tr>\n",
       "    <tr>\n",
       "      <th>2022-09-30</th>\n",
       "      <td>0.053693</td>\n",
       "      <td>0.079229</td>\n",
       "      <td>0.072274</td>\n",
       "      <td>0.030593</td>\n",
       "      <td>0.045487</td>\n",
       "    </tr>\n",
       "    <tr>\n",
       "      <th>2022-10-31</th>\n",
       "      <td>0.010582</td>\n",
       "      <td>-0.031288</td>\n",
       "      <td>0.016924</td>\n",
       "      <td>-0.034289</td>\n",
       "      <td>-0.001052</td>\n",
       "    </tr>\n",
       "  </tbody>\n",
       "</table>\n",
       "<p>71 rows × 5 columns</p>\n",
       "</div>"
      ],
      "text/plain": [
       "Symbols        ^NSEI  MARUTI.NS  RELIANCE.NS  APOLLOHOSP.NS  KOTAKBANK.NS\n",
       "Date                                                                     \n",
       "2016-12-31       NaN        NaN          NaN            NaN           NaN\n",
       "2017-01-31  0.037179   0.004793     0.184510       0.058209      0.036104\n",
       "2017-02-28  0.033127   0.015737     0.066920      -0.104867      0.087396\n",
       "2017-03-31  0.014204   0.084637     0.056250       0.058447      0.034109\n",
       "2017-04-30  0.034093   0.105160    -0.039063      -0.017960      0.071068\n",
       "...              ...        ...          ...            ...           ...\n",
       "2022-06-30  0.087324   0.035747    -0.033209       0.143559      0.089850\n",
       "2022-07-31  0.035030   0.035185     0.051206       0.026256      0.058055\n",
       "2022-08-31 -0.037442  -0.021578    -0.095923       0.016770     -0.049678\n",
       "2022-09-30  0.053693   0.079229     0.072274       0.030593      0.045487\n",
       "2022-10-31  0.010582  -0.031288     0.016924      -0.034289     -0.001052\n",
       "\n",
       "[71 rows x 5 columns]"
      ]
     },
     "execution_count": 10,
     "metadata": {},
     "output_type": "execute_result"
    }
   ],
   "source": [
    "#Arithmetic Return of the stocks\n",
    "stocks_ar_ret = stocks_adj_close.pct_change()\n",
    "stocks_ar_ret"
   ]
  },
  {
   "cell_type": "code",
   "execution_count": 11,
   "id": "b7e2a643",
   "metadata": {},
   "outputs": [
    {
     "data": {
      "text/html": [
       "<div>\n",
       "<style scoped>\n",
       "    .dataframe tbody tr th:only-of-type {\n",
       "        vertical-align: middle;\n",
       "    }\n",
       "\n",
       "    .dataframe tbody tr th {\n",
       "        vertical-align: top;\n",
       "    }\n",
       "\n",
       "    .dataframe thead th {\n",
       "        text-align: right;\n",
       "    }\n",
       "</style>\n",
       "<table border=\"1\" class=\"dataframe\">\n",
       "  <thead>\n",
       "    <tr style=\"text-align: right;\">\n",
       "      <th>Symbols</th>\n",
       "      <th>^NSEI</th>\n",
       "      <th>MARUTI.NS</th>\n",
       "      <th>RELIANCE.NS</th>\n",
       "      <th>APOLLOHOSP.NS</th>\n",
       "      <th>KOTAKBANK.NS</th>\n",
       "    </tr>\n",
       "    <tr>\n",
       "      <th>Date</th>\n",
       "      <th></th>\n",
       "      <th></th>\n",
       "      <th></th>\n",
       "      <th></th>\n",
       "      <th></th>\n",
       "    </tr>\n",
       "  </thead>\n",
       "  <tbody>\n",
       "    <tr>\n",
       "      <th>2016-12-31</th>\n",
       "      <td>NaN</td>\n",
       "      <td>NaN</td>\n",
       "      <td>NaN</td>\n",
       "      <td>NaN</td>\n",
       "      <td>NaN</td>\n",
       "    </tr>\n",
       "    <tr>\n",
       "      <th>2017-01-31</th>\n",
       "      <td>0.036504</td>\n",
       "      <td>0.004781</td>\n",
       "      <td>0.169329</td>\n",
       "      <td>0.056578</td>\n",
       "      <td>0.035468</td>\n",
       "    </tr>\n",
       "    <tr>\n",
       "      <th>2017-02-28</th>\n",
       "      <td>0.032590</td>\n",
       "      <td>0.015614</td>\n",
       "      <td>0.064776</td>\n",
       "      <td>-0.110783</td>\n",
       "      <td>0.083786</td>\n",
       "    </tr>\n",
       "    <tr>\n",
       "      <th>2017-03-31</th>\n",
       "      <td>0.014104</td>\n",
       "      <td>0.081245</td>\n",
       "      <td>0.054725</td>\n",
       "      <td>0.056803</td>\n",
       "      <td>0.033540</td>\n",
       "    </tr>\n",
       "    <tr>\n",
       "      <th>2017-04-30</th>\n",
       "      <td>0.033524</td>\n",
       "      <td>0.099990</td>\n",
       "      <td>-0.039846</td>\n",
       "      <td>-0.018124</td>\n",
       "      <td>0.068656</td>\n",
       "    </tr>\n",
       "    <tr>\n",
       "      <th>...</th>\n",
       "      <td>...</td>\n",
       "      <td>...</td>\n",
       "      <td>...</td>\n",
       "      <td>...</td>\n",
       "      <td>...</td>\n",
       "    </tr>\n",
       "    <tr>\n",
       "      <th>2022-06-30</th>\n",
       "      <td>0.083720</td>\n",
       "      <td>0.035122</td>\n",
       "      <td>-0.033773</td>\n",
       "      <td>0.134145</td>\n",
       "      <td>0.086040</td>\n",
       "    </tr>\n",
       "    <tr>\n",
       "      <th>2022-07-31</th>\n",
       "      <td>0.034430</td>\n",
       "      <td>0.034580</td>\n",
       "      <td>0.049938</td>\n",
       "      <td>0.025918</td>\n",
       "      <td>0.056432</td>\n",
       "    </tr>\n",
       "    <tr>\n",
       "      <th>2022-08-31</th>\n",
       "      <td>-0.038161</td>\n",
       "      <td>-0.021814</td>\n",
       "      <td>-0.100841</td>\n",
       "      <td>0.016631</td>\n",
       "      <td>-0.050954</td>\n",
       "    </tr>\n",
       "    <tr>\n",
       "      <th>2022-09-30</th>\n",
       "      <td>0.052301</td>\n",
       "      <td>0.076247</td>\n",
       "      <td>0.069782</td>\n",
       "      <td>0.030134</td>\n",
       "      <td>0.044483</td>\n",
       "    </tr>\n",
       "    <tr>\n",
       "      <th>2022-10-31</th>\n",
       "      <td>0.010526</td>\n",
       "      <td>-0.031788</td>\n",
       "      <td>0.016783</td>\n",
       "      <td>-0.034891</td>\n",
       "      <td>-0.001052</td>\n",
       "    </tr>\n",
       "  </tbody>\n",
       "</table>\n",
       "<p>71 rows × 5 columns</p>\n",
       "</div>"
      ],
      "text/plain": [
       "Symbols        ^NSEI  MARUTI.NS  RELIANCE.NS  APOLLOHOSP.NS  KOTAKBANK.NS\n",
       "Date                                                                     \n",
       "2016-12-31       NaN        NaN          NaN            NaN           NaN\n",
       "2017-01-31  0.036504   0.004781     0.169329       0.056578      0.035468\n",
       "2017-02-28  0.032590   0.015614     0.064776      -0.110783      0.083786\n",
       "2017-03-31  0.014104   0.081245     0.054725       0.056803      0.033540\n",
       "2017-04-30  0.033524   0.099990    -0.039846      -0.018124      0.068656\n",
       "...              ...        ...          ...            ...           ...\n",
       "2022-06-30  0.083720   0.035122    -0.033773       0.134145      0.086040\n",
       "2022-07-31  0.034430   0.034580     0.049938       0.025918      0.056432\n",
       "2022-08-31 -0.038161  -0.021814    -0.100841       0.016631     -0.050954\n",
       "2022-09-30  0.052301   0.076247     0.069782       0.030134      0.044483\n",
       "2022-10-31  0.010526  -0.031788     0.016783      -0.034891     -0.001052\n",
       "\n",
       "[71 rows x 5 columns]"
      ]
     },
     "execution_count": 11,
     "metadata": {},
     "output_type": "execute_result"
    }
   ],
   "source": [
    "#Finding the logarithmic return\n",
    "stocks_log_ret = np.log(stocks_adj_close/stocks_adj_close.shift(1))\n",
    "stocks_log_ret"
   ]
  },
  {
   "cell_type": "markdown",
   "id": "0ef10b6d",
   "metadata": {},
   "source": [
    "Covariance matrix"
   ]
  },
  {
   "cell_type": "code",
   "execution_count": 12,
   "id": "58fc3554",
   "metadata": {},
   "outputs": [
    {
     "data": {
      "text/html": [
       "<div>\n",
       "<style scoped>\n",
       "    .dataframe tbody tr th:only-of-type {\n",
       "        vertical-align: middle;\n",
       "    }\n",
       "\n",
       "    .dataframe tbody tr th {\n",
       "        vertical-align: top;\n",
       "    }\n",
       "\n",
       "    .dataframe thead th {\n",
       "        text-align: right;\n",
       "    }\n",
       "</style>\n",
       "<table border=\"1\" class=\"dataframe\">\n",
       "  <thead>\n",
       "    <tr style=\"text-align: right;\">\n",
       "      <th>Symbols</th>\n",
       "      <th>^NSEI</th>\n",
       "      <th>MARUTI.NS</th>\n",
       "      <th>RELIANCE.NS</th>\n",
       "      <th>APOLLOHOSP.NS</th>\n",
       "      <th>KOTAKBANK.NS</th>\n",
       "    </tr>\n",
       "    <tr>\n",
       "      <th>Symbols</th>\n",
       "      <th></th>\n",
       "      <th></th>\n",
       "      <th></th>\n",
       "      <th></th>\n",
       "      <th></th>\n",
       "    </tr>\n",
       "  </thead>\n",
       "  <tbody>\n",
       "    <tr>\n",
       "      <th>^NSEI</th>\n",
       "      <td>0.693365</td>\n",
       "      <td>0.721656</td>\n",
       "      <td>0.781263</td>\n",
       "      <td>0.593924</td>\n",
       "      <td>0.661976</td>\n",
       "    </tr>\n",
       "    <tr>\n",
       "      <th>MARUTI.NS</th>\n",
       "      <td>0.721656</td>\n",
       "      <td>1.827110</td>\n",
       "      <td>0.906647</td>\n",
       "      <td>0.392094</td>\n",
       "      <td>0.607732</td>\n",
       "    </tr>\n",
       "    <tr>\n",
       "      <th>RELIANCE.NS</th>\n",
       "      <td>0.781263</td>\n",
       "      <td>0.906647</td>\n",
       "      <td>2.018792</td>\n",
       "      <td>0.644060</td>\n",
       "      <td>0.405105</td>\n",
       "    </tr>\n",
       "    <tr>\n",
       "      <th>APOLLOHOSP.NS</th>\n",
       "      <td>0.593924</td>\n",
       "      <td>0.392094</td>\n",
       "      <td>0.644060</td>\n",
       "      <td>3.393769</td>\n",
       "      <td>0.177481</td>\n",
       "    </tr>\n",
       "    <tr>\n",
       "      <th>KOTAKBANK.NS</th>\n",
       "      <td>0.661976</td>\n",
       "      <td>0.607732</td>\n",
       "      <td>0.405105</td>\n",
       "      <td>0.177481</td>\n",
       "      <td>1.470787</td>\n",
       "    </tr>\n",
       "  </tbody>\n",
       "</table>\n",
       "</div>"
      ],
      "text/plain": [
       "Symbols           ^NSEI  MARUTI.NS  RELIANCE.NS  APOLLOHOSP.NS  KOTAKBANK.NS\n",
       "Symbols                                                                     \n",
       "^NSEI          0.693365   0.721656     0.781263       0.593924      0.661976\n",
       "MARUTI.NS      0.721656   1.827110     0.906647       0.392094      0.607732\n",
       "RELIANCE.NS    0.781263   0.906647     2.018792       0.644060      0.405105\n",
       "APOLLOHOSP.NS  0.593924   0.392094     0.644060       3.393769      0.177481\n",
       "KOTAKBANK.NS   0.661976   0.607732     0.405105       0.177481      1.470787"
      ]
     },
     "execution_count": 12,
     "metadata": {},
     "output_type": "execute_result"
    }
   ],
   "source": [
    "var_covar_art = stocks_ar_ret.cov()*252\n",
    "var_covar_art"
   ]
  },
  {
   "cell_type": "code",
   "execution_count": 13,
   "id": "1e26fef1",
   "metadata": {},
   "outputs": [
    {
     "data": {
      "text/html": [
       "<div>\n",
       "<style scoped>\n",
       "    .dataframe tbody tr th:only-of-type {\n",
       "        vertical-align: middle;\n",
       "    }\n",
       "\n",
       "    .dataframe tbody tr th {\n",
       "        vertical-align: top;\n",
       "    }\n",
       "\n",
       "    .dataframe thead th {\n",
       "        text-align: right;\n",
       "    }\n",
       "</style>\n",
       "<table border=\"1\" class=\"dataframe\">\n",
       "  <thead>\n",
       "    <tr style=\"text-align: right;\">\n",
       "      <th>Symbols</th>\n",
       "      <th>^NSEI</th>\n",
       "      <th>MARUTI.NS</th>\n",
       "      <th>RELIANCE.NS</th>\n",
       "      <th>APOLLOHOSP.NS</th>\n",
       "      <th>KOTAKBANK.NS</th>\n",
       "    </tr>\n",
       "    <tr>\n",
       "      <th>Symbols</th>\n",
       "      <th></th>\n",
       "      <th></th>\n",
       "      <th></th>\n",
       "      <th></th>\n",
       "      <th></th>\n",
       "    </tr>\n",
       "  </thead>\n",
       "  <tbody>\n",
       "    <tr>\n",
       "      <th>^NSEI</th>\n",
       "      <td>0.731930</td>\n",
       "      <td>0.810424</td>\n",
       "      <td>0.764391</td>\n",
       "      <td>0.688733</td>\n",
       "      <td>0.686764</td>\n",
       "    </tr>\n",
       "    <tr>\n",
       "      <th>MARUTI.NS</th>\n",
       "      <td>0.810424</td>\n",
       "      <td>1.954308</td>\n",
       "      <td>0.903429</td>\n",
       "      <td>0.572732</td>\n",
       "      <td>0.687798</td>\n",
       "    </tr>\n",
       "    <tr>\n",
       "      <th>RELIANCE.NS</th>\n",
       "      <td>0.764391</td>\n",
       "      <td>0.903429</td>\n",
       "      <td>1.841450</td>\n",
       "      <td>0.641046</td>\n",
       "      <td>0.426632</td>\n",
       "    </tr>\n",
       "    <tr>\n",
       "      <th>APOLLOHOSP.NS</th>\n",
       "      <td>0.688733</td>\n",
       "      <td>0.572732</td>\n",
       "      <td>0.641046</td>\n",
       "      <td>3.318293</td>\n",
       "      <td>0.306707</td>\n",
       "    </tr>\n",
       "    <tr>\n",
       "      <th>KOTAKBANK.NS</th>\n",
       "      <td>0.686764</td>\n",
       "      <td>0.687798</td>\n",
       "      <td>0.426632</td>\n",
       "      <td>0.306707</td>\n",
       "      <td>1.428406</td>\n",
       "    </tr>\n",
       "  </tbody>\n",
       "</table>\n",
       "</div>"
      ],
      "text/plain": [
       "Symbols           ^NSEI  MARUTI.NS  RELIANCE.NS  APOLLOHOSP.NS  KOTAKBANK.NS\n",
       "Symbols                                                                     \n",
       "^NSEI          0.731930   0.810424     0.764391       0.688733      0.686764\n",
       "MARUTI.NS      0.810424   1.954308     0.903429       0.572732      0.687798\n",
       "RELIANCE.NS    0.764391   0.903429     1.841450       0.641046      0.426632\n",
       "APOLLOHOSP.NS  0.688733   0.572732     0.641046       3.318293      0.306707\n",
       "KOTAKBANK.NS   0.686764   0.687798     0.426632       0.306707      1.428406"
      ]
     },
     "execution_count": 13,
     "metadata": {},
     "output_type": "execute_result"
    }
   ],
   "source": [
    "var_covar_log = stocks_log_ret.cov()*252\n",
    "var_covar_log"
   ]
  },
  {
   "cell_type": "markdown",
   "id": "22231512",
   "metadata": {},
   "source": [
    "Beta for each of the five stocks"
   ]
  },
  {
   "cell_type": "code",
   "execution_count": 14,
   "id": "60dc694d",
   "metadata": {},
   "outputs": [
    {
     "data": {
      "text/plain": [
       "Index(['^NSEI', 'MARUTI.NS', 'RELIANCE.NS', 'APOLLOHOSP.NS', 'KOTAKBANK.NS'], dtype='object', name='Symbols')"
      ]
     },
     "execution_count": 14,
     "metadata": {},
     "output_type": "execute_result"
    }
   ],
   "source": [
    "stocks_col=stocks_adj_close.columns\n",
    "stocks_col"
   ]
  },
  {
   "cell_type": "code",
   "execution_count": 15,
   "id": "7e8ad829",
   "metadata": {},
   "outputs": [],
   "source": [
    "cov = stocks_log_ret.cov()\n",
    "var = stocks_log_ret['^NSEI'].var()"
   ]
  },
  {
   "cell_type": "code",
   "execution_count": 16,
   "id": "3c9a4d04",
   "metadata": {},
   "outputs": [
    {
     "name": "stdout",
     "output_type": "stream",
     "text": [
      "The Beta value of NIFTY 50 with respect to NIFTY 50 :\n"
     ]
    },
    {
     "data": {
      "text/plain": [
       "0.9999999999999999"
      ]
     },
     "execution_count": 16,
     "metadata": {},
     "output_type": "execute_result"
    }
   ],
   "source": [
    "print(\"The Beta value of NIFTY 50 with respect to NIFTY 50 :\")\n",
    "cov.loc['^NSEI','^NSEI']/var"
   ]
  },
  {
   "cell_type": "code",
   "execution_count": 17,
   "id": "97368dc4",
   "metadata": {},
   "outputs": [
    {
     "name": "stdout",
     "output_type": "stream",
     "text": [
      "The Beta value of MARUTI with respect to NIFTY 50 :\n"
     ]
    },
    {
     "data": {
      "text/plain": [
       "1.1072416294295315"
      ]
     },
     "execution_count": 17,
     "metadata": {},
     "output_type": "execute_result"
    }
   ],
   "source": [
    "print(\"The Beta value of MARUTI with respect to NIFTY 50 :\")\n",
    "cov.loc['MARUTI.NS','^NSEI']/var\n"
   ]
  },
  {
   "cell_type": "code",
   "execution_count": 18,
   "id": "ad925f8f",
   "metadata": {},
   "outputs": [
    {
     "name": "stdout",
     "output_type": "stream",
     "text": [
      "The Beta value of RELIANCE with respect to NIFTY 50 :\n"
     ]
    },
    {
     "data": {
      "text/plain": [
       "1.044349320683279"
      ]
     },
     "execution_count": 18,
     "metadata": {},
     "output_type": "execute_result"
    }
   ],
   "source": [
    "print(\"The Beta value of RELIANCE with respect to NIFTY 50 :\")\n",
    "cov.loc['RELIANCE.NS','^NSEI']/var"
   ]
  },
  {
   "cell_type": "code",
   "execution_count": 19,
   "id": "8137601f",
   "metadata": {},
   "outputs": [
    {
     "name": "stdout",
     "output_type": "stream",
     "text": [
      "The Beta value of APOLLOHOSP with respect to NIFTY 50 :\n"
     ]
    },
    {
     "data": {
      "text/plain": [
       "0.9409819407907183"
      ]
     },
     "execution_count": 19,
     "metadata": {},
     "output_type": "execute_result"
    }
   ],
   "source": [
    "print(\"The Beta value of APOLLOHOSP with respect to NIFTY 50 :\")\n",
    "cov.loc['APOLLOHOSP.NS','^NSEI']/var"
   ]
  },
  {
   "cell_type": "code",
   "execution_count": 20,
   "id": "b02eee95",
   "metadata": {},
   "outputs": [
    {
     "name": "stdout",
     "output_type": "stream",
     "text": [
      "The Beta value of KOTAKBANK with respect to NIFTY 50 :\n"
     ]
    },
    {
     "data": {
      "text/plain": [
       "0.9382909573904287"
      ]
     },
     "execution_count": 20,
     "metadata": {},
     "output_type": "execute_result"
    }
   ],
   "source": [
    "print(\"The Beta value of KOTAKBANK with respect to NIFTY 50 :\")\n",
    "cov.loc['KOTAKBANK.NS','^NSEI']/var"
   ]
  },
  {
   "cell_type": "markdown",
   "id": "f6e0ea26",
   "metadata": {},
   "source": [
    "Part B"
   ]
  },
  {
   "cell_type": "markdown",
   "id": "15c8c1e1",
   "metadata": {},
   "source": [
    "Compute Portfolio Characteristics"
   ]
  },
  {
   "cell_type": "markdown",
   "id": "459179e6",
   "metadata": {},
   "source": [
    "Create 100 portfolios with random numbers and compute the portfolio mean and portfolio Standard Deviation and Sharpe Ratio for each portfolio"
   ]
  },
  {
   "cell_type": "code",
   "execution_count": 21,
   "id": "195f7f0f",
   "metadata": {},
   "outputs": [
    {
     "name": "stdout",
     "output_type": "stream",
     "text": [
      "The mean of th stocks are :\n"
     ]
    },
    {
     "data": {
      "text/plain": [
       "Symbols\n",
       "^NSEI            0.012242\n",
       "MARUTI.NS        0.011068\n",
       "RELIANCE.NS      0.027441\n",
       "APOLLOHOSP.NS    0.025097\n",
       "KOTAKBANK.NS     0.015776\n",
       "dtype: float64"
      ]
     },
     "execution_count": 21,
     "metadata": {},
     "output_type": "execute_result"
    }
   ],
   "source": [
    "#Showing the mean of each stocks\n",
    "port_mean = stocks_adj_close.pct_change().mean()\n",
    "print('The mean of th stocks are :')\n",
    "port_mean"
   ]
  },
  {
   "cell_type": "code",
   "execution_count": 22,
   "id": "faad6044",
   "metadata": {},
   "outputs": [
    {
     "name": "stdout",
     "output_type": "stream",
     "text": [
      "The standard deviation of the stocks are :\n"
     ]
    },
    {
     "data": {
      "text/plain": [
       "Symbols\n",
       "^NSEI            0.052454\n",
       "MARUTI.NS        0.085149\n",
       "RELIANCE.NS      0.089505\n",
       "APOLLOHOSP.NS    0.116049\n",
       "KOTAKBANK.NS     0.076397\n",
       "dtype: float64"
      ]
     },
     "execution_count": 22,
     "metadata": {},
     "output_type": "execute_result"
    }
   ],
   "source": [
    "#Standard deviation of the stocks in the portfolio\n",
    "port_std = stocks_adj_close.pct_change().std()\n",
    "print('The standard deviation of the stocks are :')\n",
    "port_std"
   ]
  },
  {
   "cell_type": "code",
   "execution_count": 23,
   "id": "d1865544",
   "metadata": {},
   "outputs": [
    {
     "name": "stdout",
     "output_type": "stream",
     "text": [
      "The sharpe ratio of each portfolio are :\n"
     ]
    },
    {
     "data": {
      "text/plain": [
       "Symbols\n",
       "^NSEI            0.003008\n",
       "MARUTI.NS        0.001853\n",
       "RELIANCE.NS      0.001763\n",
       "APOLLOHOSP.NS    0.001359\n",
       "KOTAKBANK.NS     0.002065\n",
       "dtype: float64"
      ]
     },
     "execution_count": 23,
     "metadata": {},
     "output_type": "execute_result"
    }
   ],
   "source": [
    "#Showing the Sharpe ratio for each portfolio\n",
    "stocks_col=stocks_adj_close.columns\n",
    "stocks_col\n",
    "for i in range(len(stocks_col)):\n",
    "    new_mean = (stocks_adj_close.iloc[:,i].pct_change().mean())/100\n",
    "    stocks_sr = new_mean/port_std\n",
    "print('The sharpe ratio of each portfolio are :')\n",
    "stocks_sr"
   ]
  },
  {
   "cell_type": "markdown",
   "id": "c62a3f82",
   "metadata": {},
   "source": [
    "Perform Descriptive statistics and plot graph for data"
   ]
  },
  {
   "cell_type": "code",
   "execution_count": 24,
   "id": "89625106",
   "metadata": {},
   "outputs": [
    {
     "data": {
      "text/html": [
       "<div>\n",
       "<style scoped>\n",
       "    .dataframe tbody tr th:only-of-type {\n",
       "        vertical-align: middle;\n",
       "    }\n",
       "\n",
       "    .dataframe tbody tr th {\n",
       "        vertical-align: top;\n",
       "    }\n",
       "\n",
       "    .dataframe thead th {\n",
       "        text-align: right;\n",
       "    }\n",
       "</style>\n",
       "<table border=\"1\" class=\"dataframe\">\n",
       "  <thead>\n",
       "    <tr style=\"text-align: right;\">\n",
       "      <th></th>\n",
       "      <th>count</th>\n",
       "      <th>mean</th>\n",
       "      <th>std</th>\n",
       "      <th>min</th>\n",
       "      <th>25%</th>\n",
       "      <th>50%</th>\n",
       "      <th>75%</th>\n",
       "      <th>max</th>\n",
       "    </tr>\n",
       "    <tr>\n",
       "      <th>Symbols</th>\n",
       "      <th></th>\n",
       "      <th></th>\n",
       "      <th></th>\n",
       "      <th></th>\n",
       "      <th></th>\n",
       "      <th></th>\n",
       "      <th></th>\n",
       "      <th></th>\n",
       "    </tr>\n",
       "  </thead>\n",
       "  <tbody>\n",
       "    <tr>\n",
       "      <th>^NSEI</th>\n",
       "      <td>70.0</td>\n",
       "      <td>0.010776</td>\n",
       "      <td>0.053893</td>\n",
       "      <td>-0.264569</td>\n",
       "      <td>-0.012934</td>\n",
       "      <td>0.010579</td>\n",
       "      <td>0.039879</td>\n",
       "      <td>0.136976</td>\n",
       "    </tr>\n",
       "    <tr>\n",
       "      <th>MARUTI.NS</th>\n",
       "      <td>70.0</td>\n",
       "      <td>0.007311</td>\n",
       "      <td>0.088064</td>\n",
       "      <td>-0.381973</td>\n",
       "      <td>-0.033121</td>\n",
       "      <td>0.016206</td>\n",
       "      <td>0.060759</td>\n",
       "      <td>0.222850</td>\n",
       "    </tr>\n",
       "    <tr>\n",
       "      <th>RELIANCE.NS</th>\n",
       "      <td>70.0</td>\n",
       "      <td>0.023429</td>\n",
       "      <td>0.085483</td>\n",
       "      <td>-0.176431</td>\n",
       "      <td>-0.038328</td>\n",
       "      <td>0.009324</td>\n",
       "      <td>0.071037</td>\n",
       "      <td>0.274805</td>\n",
       "    </tr>\n",
       "    <tr>\n",
       "      <th>APOLLOHOSP.NS</th>\n",
       "      <td>70.0</td>\n",
       "      <td>0.018383</td>\n",
       "      <td>0.114751</td>\n",
       "      <td>-0.419464</td>\n",
       "      <td>-0.046543</td>\n",
       "      <td>0.021307</td>\n",
       "      <td>0.090888</td>\n",
       "      <td>0.288565</td>\n",
       "    </tr>\n",
       "    <tr>\n",
       "      <th>KOTAKBANK.NS</th>\n",
       "      <td>70.0</td>\n",
       "      <td>0.012866</td>\n",
       "      <td>0.075288</td>\n",
       "      <td>-0.223321</td>\n",
       "      <td>-0.030298</td>\n",
       "      <td>0.015409</td>\n",
       "      <td>0.045917</td>\n",
       "      <td>0.209008</td>\n",
       "    </tr>\n",
       "  </tbody>\n",
       "</table>\n",
       "</div>"
      ],
      "text/plain": [
       "               count      mean       std       min       25%       50%  \\\n",
       "Symbols                                                                  \n",
       "^NSEI           70.0  0.010776  0.053893 -0.264569 -0.012934  0.010579   \n",
       "MARUTI.NS       70.0  0.007311  0.088064 -0.381973 -0.033121  0.016206   \n",
       "RELIANCE.NS     70.0  0.023429  0.085483 -0.176431 -0.038328  0.009324   \n",
       "APOLLOHOSP.NS   70.0  0.018383  0.114751 -0.419464 -0.046543  0.021307   \n",
       "KOTAKBANK.NS    70.0  0.012866  0.075288 -0.223321 -0.030298  0.015409   \n",
       "\n",
       "                    75%       max  \n",
       "Symbols                            \n",
       "^NSEI          0.039879  0.136976  \n",
       "MARUTI.NS      0.060759  0.222850  \n",
       "RELIANCE.NS    0.071037  0.274805  \n",
       "APOLLOHOSP.NS  0.090888  0.288565  \n",
       "KOTAKBANK.NS   0.045917  0.209008  "
      ]
     },
     "execution_count": 24,
     "metadata": {},
     "output_type": "execute_result"
    }
   ],
   "source": [
    "#Descriptive Statistics of the above data\n",
    "stocks_log_ret.describe().transpose()"
   ]
  },
  {
   "cell_type": "markdown",
   "id": "2be38e9b",
   "metadata": {},
   "source": [
    "Compute Optimized portfolio weights and Sharpe Ratio weights"
   ]
  },
  {
   "cell_type": "code",
   "execution_count": 25,
   "id": "db5aeffa",
   "metadata": {},
   "outputs": [],
   "source": [
    "#Generating portfolios\n",
    "num_ports = 1000\n",
    "\n",
    "all_weights = np.zeros((num_ports,len(stocks_adj_close.columns)))\n",
    "ret_arr = np.zeros(num_ports)\n",
    "vol_arr = np.zeros(num_ports)\n",
    "\n",
    "sharpe_arr = np.zeros(num_ports)\n",
    "\n",
    "for ind in range(num_ports):\n",
    "    weights = np.array(np.random.random(len(stocks_adj_close.columns)))\n",
    "    weights = weights / np.sum(weights)\n",
    "    all_weights[ind,:] = weights\n",
    "    ret_arr[ind] = np.sum((stocks_log_ret.mean() * weights) *252)\n",
    "    vol_arr[ind] = np.sqrt(np.dot(weights.T, np.dot(stocks_log_ret.cov() * 252, weights)))\n",
    "    sharpe_arr[ind] = ret_arr[ind]/vol_arr[ind]"
   ]
  },
  {
   "cell_type": "code",
   "execution_count": 26,
   "id": "d129fc9d",
   "metadata": {},
   "outputs": [
    {
     "data": {
      "text/plain": [
       "4.7271231787436445"
      ]
     },
     "execution_count": 26,
     "metadata": {},
     "output_type": "execute_result"
    }
   ],
   "source": [
    "sharpe_arr.max()"
   ]
  },
  {
   "cell_type": "code",
   "execution_count": 27,
   "id": "33c50a5d",
   "metadata": {},
   "outputs": [
    {
     "data": {
      "text/plain": [
       "841"
      ]
     },
     "execution_count": 27,
     "metadata": {},
     "output_type": "execute_result"
    }
   ],
   "source": [
    "sharpe_arr.argmax()"
   ]
  },
  {
   "cell_type": "code",
   "execution_count": 28,
   "id": "658c7ebf",
   "metadata": {},
   "outputs": [
    {
     "data": {
      "text/plain": [
       "array([0.02701148, 0.02077879, 0.43740591, 0.19315959, 0.32164423])"
      ]
     },
     "execution_count": 28,
     "metadata": {},
     "output_type": "execute_result"
    }
   ],
   "source": [
    "all_weights[sharpe_arr.argmax(),:]"
   ]
  },
  {
   "cell_type": "code",
   "execution_count": 29,
   "id": "fae298ef",
   "metadata": {},
   "outputs": [],
   "source": [
    "max_sr_ret = ret_arr[sharpe_arr.argmax()]\n",
    "max_sr_vol = vol_arr[sharpe_arr.argmax()]"
   ]
  },
  {
   "cell_type": "code",
   "execution_count": 30,
   "id": "92d6f975",
   "metadata": {},
   "outputs": [
    {
     "data": {
      "text/plain": [
       "<matplotlib.collections.PathCollection at 0x7fba9b737160>"
      ]
     },
     "execution_count": 30,
     "metadata": {},
     "output_type": "execute_result"
    },
    {
     "data": {
      "image/png": "[encoded data removed]",
      "text/plain": [
       "<Figure size 1152x576 with 2 Axes>"
      ]
     },
     "metadata": {
      "needs_background": "light"
     },
     "output_type": "display_data"
    }
   ],
   "source": [
    "#Plotting the data\n",
    "plt.figure(figsize=(16,8))\n",
    "plt.scatter(vol_arr,ret_arr,c=sharpe_arr,cmap='plasma')\n",
    "plt.colorbar(label='Sharpe Ratio')\n",
    "plt.xlabel('Volatility')\n",
    "plt.ylabel('Return')\n",
    "\n",
    "# Add red dot for max SR\n",
    "plt.scatter(max_sr_vol,max_sr_ret,c='red',s=50,edgecolors='black')"
   ]
  },
  {
   "cell_type": "markdown",
   "id": "81dcc62f",
   "metadata": {},
   "source": [
    "For each of the risk levels (up 10 risk levels), find the weights for maximum return, given a risk level (vary the risk level and use Solver) to obtain optimal weights for each of the risk levels selected – Upto 10 maximum risk levels can be selected, minimum 7 risk levels to be selected."
   ]
  },
  {
   "cell_type": "code",
   "execution_count": 31,
   "id": "4ea49aed",
   "metadata": {},
   "outputs": [
    {
     "name": "stderr",
     "output_type": "stream",
     "text": [
      "/opt/anaconda3/lib/python3.9/site-packages/scipy/__init__.py:146: UserWarning: A NumPy version >=1.16.5 and <1.23.0 is required for this version of SciPy (detected version 1.23.4\n",
      "  warnings.warn(f\"A NumPy version >={np_minversion} and <{np_maxversion}\"\n"
     ]
    }
   ],
   "source": [
    "#Using SciPy solver\n",
    "from scipy.optimize import minimize"
   ]
  },
  {
   "cell_type": "code",
   "execution_count": 32,
   "id": "4c1b0372",
   "metadata": {},
   "outputs": [],
   "source": [
    "def get_ret_vol_sr(weights, rf):\n",
    "    ret = np.sum((stocks_log_ret.mean()*weights))*252\n",
    "    vol = np.sqrt(np.dot(weights,np.dot(var_covar_log,weights.T)))\n",
    "    sharpe_arr = (ret - rf)/vol\n",
    "    return np.array([ret,vol,sharpe_arr],dtype=object)"
   ]
  },
  {
   "cell_type": "code",
   "execution_count": 33,
   "id": "0b62d488",
   "metadata": {},
   "outputs": [],
   "source": [
    "def neg_sharpe(weights):\n",
    "    rf = rsk\n",
    "    return get_ret_vol_sr(weights,rf)[2]*-1"
   ]
  },
  {
   "cell_type": "code",
   "execution_count": 34,
   "id": "e8f7674b",
   "metadata": {},
   "outputs": [],
   "source": [
    "def check_sum(weights):\n",
    "    return np.sum(weights) - 1"
   ]
  },
  {
   "cell_type": "code",
   "execution_count": 35,
   "id": "e9961212",
   "metadata": {},
   "outputs": [],
   "source": [
    "cons = ({'type':'eq','fun': check_sum})\n",
    "bounds = ((0, 1), (0, 1), (0, 1), (0, 1),(0, 1))\n",
    "init_guess = [0.2,0.2,0.2,0.2,0.2]\n",
    "risk = np.sort(np.array([0.04,0.033,0.12,0.088,0.062,0.09,0.23,0.19,0.22,0.076],dtype=object))"
   ]
  },
  {
   "cell_type": "code",
   "execution_count": 39,
   "id": "1c852402",
   "metadata": {},
   "outputs": [],
   "source": [
    "risk = risk[:8]\n",
    "sharpe_w = []\n",
    "weigths_w = []\n",
    "for rsk in risk:\n",
    "    opt_results = minimize(neg_sharpe, init_guess, method='SLSQP', bounds=bounds, constraints=cons)\n",
    "    sharpe = get_ret_vol_sr(opt_results.x,rsk)[2]\n",
    "    sharpe_w.append(sharpe)\n",
    "    weigths_w.append(opt_results.x)\n",
    "\n",
    "temp={}\n",
    "for rsk in range(len(risk)):\n",
    "    temp[risk[rsk]] = [sharpe_w[rsk]]+list(weigths_w[rsk])"
   ]
  },
  {
   "cell_type": "markdown",
   "id": "42218a8d",
   "metadata": {},
   "source": [
    "Compute the weights for the Optimized Sharpe Ratio (Sharpe ratio should be maximized) "
   ]
  },
  {
   "cell_type": "code",
   "execution_count": 40,
   "id": "60be6f4c",
   "metadata": {},
   "outputs": [
    {
     "data": {
      "text/html": [
       "<div>\n",
       "<style scoped>\n",
       "    .dataframe tbody tr th:only-of-type {\n",
       "        vertical-align: middle;\n",
       "    }\n",
       "\n",
       "    .dataframe tbody tr th {\n",
       "        vertical-align: top;\n",
       "    }\n",
       "\n",
       "    .dataframe thead th {\n",
       "        text-align: right;\n",
       "    }\n",
       "</style>\n",
       "<table border=\"1\" class=\"dataframe\">\n",
       "  <thead>\n",
       "    <tr style=\"text-align: right;\">\n",
       "      <th></th>\n",
       "      <th>Sharpe</th>\n",
       "      <th>weigh-1</th>\n",
       "      <th>weigh-2</th>\n",
       "      <th>weigh-3</th>\n",
       "      <th>weigh-4</th>\n",
       "      <th>weigh-5</th>\n",
       "    </tr>\n",
       "    <tr>\n",
       "      <th>Risk Rate</th>\n",
       "      <th></th>\n",
       "      <th></th>\n",
       "      <th></th>\n",
       "      <th></th>\n",
       "      <th></th>\n",
       "      <th></th>\n",
       "    </tr>\n",
       "  </thead>\n",
       "  <tbody>\n",
       "    <tr>\n",
       "      <th>0.033</th>\n",
       "      <td>4.802440</td>\n",
       "      <td>0.000000e+00</td>\n",
       "      <td>0.000000e+00</td>\n",
       "      <td>0.560166</td>\n",
       "      <td>0.162137</td>\n",
       "      <td>0.277697</td>\n",
       "    </tr>\n",
       "    <tr>\n",
       "      <th>0.040</th>\n",
       "      <td>4.795616</td>\n",
       "      <td>2.143125e-16</td>\n",
       "      <td>0.000000e+00</td>\n",
       "      <td>0.560554</td>\n",
       "      <td>0.162126</td>\n",
       "      <td>0.277319</td>\n",
       "    </tr>\n",
       "    <tr>\n",
       "      <th>0.062</th>\n",
       "      <td>4.774178</td>\n",
       "      <td>3.889627e-16</td>\n",
       "      <td>1.395752e-16</td>\n",
       "      <td>0.561790</td>\n",
       "      <td>0.162087</td>\n",
       "      <td>0.276123</td>\n",
       "    </tr>\n",
       "    <tr>\n",
       "      <th>0.076</th>\n",
       "      <td>4.760543</td>\n",
       "      <td>1.815353e-16</td>\n",
       "      <td>1.910231e-16</td>\n",
       "      <td>0.562596</td>\n",
       "      <td>0.162053</td>\n",
       "      <td>0.275351</td>\n",
       "    </tr>\n",
       "    <tr>\n",
       "      <th>0.088</th>\n",
       "      <td>4.748860</td>\n",
       "      <td>3.405727e-16</td>\n",
       "      <td>0.000000e+00</td>\n",
       "      <td>0.563308</td>\n",
       "      <td>0.162018</td>\n",
       "      <td>0.274674</td>\n",
       "    </tr>\n",
       "    <tr>\n",
       "      <th>0.090</th>\n",
       "      <td>4.746913</td>\n",
       "      <td>0.000000e+00</td>\n",
       "      <td>1.756914e-19</td>\n",
       "      <td>0.563429</td>\n",
       "      <td>0.162012</td>\n",
       "      <td>0.274559</td>\n",
       "    </tr>\n",
       "    <tr>\n",
       "      <th>0.120</th>\n",
       "      <td>4.717728</td>\n",
       "      <td>1.783947e-16</td>\n",
       "      <td>2.090134e-16</td>\n",
       "      <td>0.565031</td>\n",
       "      <td>0.161924</td>\n",
       "      <td>0.273045</td>\n",
       "    </tr>\n",
       "    <tr>\n",
       "      <th>0.190</th>\n",
       "      <td>4.649735</td>\n",
       "      <td>0.000000e+00</td>\n",
       "      <td>1.051978e-15</td>\n",
       "      <td>0.569066</td>\n",
       "      <td>0.161839</td>\n",
       "      <td>0.269095</td>\n",
       "    </tr>\n",
       "  </tbody>\n",
       "</table>\n",
       "</div>"
      ],
      "text/plain": [
       "             Sharpe       weigh-1       weigh-2   weigh-3   weigh-4   weigh-5\n",
       "Risk Rate                                                                    \n",
       "0.033      4.802440  0.000000e+00  0.000000e+00  0.560166  0.162137  0.277697\n",
       "0.040      4.795616  2.143125e-16  0.000000e+00  0.560554  0.162126  0.277319\n",
       "0.062      4.774178  3.889627e-16  1.395752e-16  0.561790  0.162087  0.276123\n",
       "0.076      4.760543  1.815353e-16  1.910231e-16  0.562596  0.162053  0.275351\n",
       "0.088      4.748860  3.405727e-16  0.000000e+00  0.563308  0.162018  0.274674\n",
       "0.090      4.746913  0.000000e+00  1.756914e-19  0.563429  0.162012  0.274559\n",
       "0.120      4.717728  1.783947e-16  2.090134e-16  0.565031  0.161924  0.273045\n",
       "0.190      4.649735  0.000000e+00  1.051978e-15  0.569066  0.161839  0.269095"
      ]
     },
     "execution_count": 40,
     "metadata": {},
     "output_type": "execute_result"
    }
   ],
   "source": [
    "stocks_risk_rate = pd.DataFrame(temp)\n",
    "stocks_risk_rate = stocks_risk_rate.transpose()\n",
    "stocks_risk_rate.index.name = 'Risk Rate'\n",
    "stocks_risk_rate.columns = ['Sharpe','weigh-1','weigh-2','weigh-3','weigh-4','weigh-5']\n",
    "stocks_risk_rate"
   ]
  },
  {
   "cell_type": "code",
   "execution_count": null,
   "id": "cd75b878",
   "metadata": {},
   "outputs": [],
   "source": []
  }
 ],
 "metadata": {
  "kernelspec": {
   "display_name": "Python 3 (ipykernel)",
   "language": "python",
   "name": "python3"
  },
  "language_info": {
   "codemirror_mode": {
    "name": "ipython",
    "version": 3
   },
   "file_extension": ".py",
   "mimetype": "text/x-python",
   "name": "python",
   "nbconvert_exporter": "python",
   "pygments_lexer": "ipython3",
   "version": "3.9.12"
  }
 },
 "nbformat": 4,
 "nbformat_minor": 5
}

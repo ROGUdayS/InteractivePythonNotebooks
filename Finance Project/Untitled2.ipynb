{
 "cells": [
  {
   "cell_type": "code",
   "execution_count": 1,
   "id": "5753ee54",
   "metadata": {},
   "outputs": [],
   "source": [
    "import pandas as pd\n",
    "from pandas_datareader import data as pdr\n",
    "import yfinance as yf\n",
    "import numpy as np\n",
    "import datetime as dt\n",
    "import matplotlib.pyplot as plt\n",
    "plt.style.use('seaborn-colorblind')"
   ]
  },
  {
   "cell_type": "code",
   "execution_count": 2,
   "id": "0c193649",
   "metadata": {},
   "outputs": [],
   "source": [
    "tickers=['^NSEI','MARUTI.NS','RELIANCE.NS','APOLLOHOSP.NS','KOTAKBANK.NS']"
   ]
  },
  {
   "cell_type": "code",
   "execution_count": 3,
   "id": "a63d9f4e",
   "metadata": {},
   "outputs": [],
   "source": [
    "data = pdr.get_data_yahoo(tickers, start=\"2019-01-01\",end=dt.date.today())['Adj Close']"
   ]
  },
  {
   "cell_type": "code",
   "execution_count": null,
   "id": "b44742e3",
   "metadata": {},
   "outputs": [],
   "source": []
  },
  {
   "cell_type": "code",
   "execution_count": 4,
   "id": "5ffba110",
   "metadata": {},
   "outputs": [],
   "source": [
    "returns = data.pct_change()"
   ]
  },
  {
   "cell_type": "code",
   "execution_count": 5,
   "id": "78272fed",
   "metadata": {},
   "outputs": [
    {
     "data": {
      "text/html": [
       "<div>\n",
       "<style scoped>\n",
       "    .dataframe tbody tr th:only-of-type {\n",
       "        vertical-align: middle;\n",
       "    }\n",
       "\n",
       "    .dataframe tbody tr th {\n",
       "        vertical-align: top;\n",
       "    }\n",
       "\n",
       "    .dataframe thead th {\n",
       "        text-align: right;\n",
       "    }\n",
       "</style>\n",
       "<table border=\"1\" class=\"dataframe\">\n",
       "  <thead>\n",
       "    <tr style=\"text-align: right;\">\n",
       "      <th>Symbols</th>\n",
       "      <th>^NSEI</th>\n",
       "      <th>MARUTI.NS</th>\n",
       "      <th>RELIANCE.NS</th>\n",
       "      <th>APOLLOHOSP.NS</th>\n",
       "      <th>KOTAKBANK.NS</th>\n",
       "    </tr>\n",
       "    <tr>\n",
       "      <th>Date</th>\n",
       "      <th></th>\n",
       "      <th></th>\n",
       "      <th></th>\n",
       "      <th></th>\n",
       "      <th></th>\n",
       "    </tr>\n",
       "  </thead>\n",
       "  <tbody>\n",
       "    <tr>\n",
       "      <th>2019-01-01</th>\n",
       "      <td>NaN</td>\n",
       "      <td>7214.407227</td>\n",
       "      <td>1093.406982</td>\n",
       "      <td>1252.799805</td>\n",
       "      <td>1248.404419</td>\n",
       "    </tr>\n",
       "    <tr>\n",
       "      <th>2019-01-02</th>\n",
       "      <td>10792.500000</td>\n",
       "      <td>7012.791016</td>\n",
       "      <td>1079.166260</td>\n",
       "      <td>1245.231934</td>\n",
       "      <td>1238.570557</td>\n",
       "    </tr>\n",
       "    <tr>\n",
       "      <th>2019-01-03</th>\n",
       "      <td>10672.250000</td>\n",
       "      <td>6951.133789</td>\n",
       "      <td>1065.852417</td>\n",
       "      <td>1253.047241</td>\n",
       "      <td>1233.229370</td>\n",
       "    </tr>\n",
       "    <tr>\n",
       "      <th>2019-01-04</th>\n",
       "      <td>10727.349609</td>\n",
       "      <td>6980.611328</td>\n",
       "      <td>1071.607178</td>\n",
       "      <td>1279.114136</td>\n",
       "      <td>1245.908569</td>\n",
       "    </tr>\n",
       "    <tr>\n",
       "      <th>2019-01-07</th>\n",
       "      <td>10771.799805</td>\n",
       "      <td>7103.684082</td>\n",
       "      <td>1077.557007</td>\n",
       "      <td>1268.331177</td>\n",
       "      <td>1244.560669</td>\n",
       "    </tr>\n",
       "    <tr>\n",
       "      <th>...</th>\n",
       "      <td>...</td>\n",
       "      <td>...</td>\n",
       "      <td>...</td>\n",
       "      <td>...</td>\n",
       "      <td>...</td>\n",
       "    </tr>\n",
       "    <tr>\n",
       "      <th>2022-10-24</th>\n",
       "      <td>17730.750000</td>\n",
       "      <td>8765.450195</td>\n",
       "      <td>2479.850098</td>\n",
       "      <td>4410.149902</td>\n",
       "      <td>1895.800049</td>\n",
       "    </tr>\n",
       "    <tr>\n",
       "      <th>2022-10-25</th>\n",
       "      <td>17656.349609</td>\n",
       "      <td>9005.000000</td>\n",
       "      <td>2441.550049</td>\n",
       "      <td>4404.049805</td>\n",
       "      <td>1846.599976</td>\n",
       "    </tr>\n",
       "    <tr>\n",
       "      <th>2022-10-27</th>\n",
       "      <td>17736.949219</td>\n",
       "      <td>9041.950195</td>\n",
       "      <td>2451.149902</td>\n",
       "      <td>4431.850098</td>\n",
       "      <td>1865.000000</td>\n",
       "    </tr>\n",
       "    <tr>\n",
       "      <th>2022-10-28</th>\n",
       "      <td>17786.800781</td>\n",
       "      <td>9492.549805</td>\n",
       "      <td>2526.149902</td>\n",
       "      <td>4567.000000</td>\n",
       "      <td>1884.250000</td>\n",
       "    </tr>\n",
       "    <tr>\n",
       "      <th>2022-10-31</th>\n",
       "      <td>17976.099609</td>\n",
       "      <td>9645.049805</td>\n",
       "      <td>2556.000000</td>\n",
       "      <td>4525.000000</td>\n",
       "      <td>1905.000000</td>\n",
       "    </tr>\n",
       "  </tbody>\n",
       "</table>\n",
       "<p>947 rows × 5 columns</p>\n",
       "</div>"
      ],
      "text/plain": [
       "Symbols            ^NSEI    MARUTI.NS  RELIANCE.NS  APOLLOHOSP.NS  \\\n",
       "Date                                                                \n",
       "2019-01-01           NaN  7214.407227  1093.406982    1252.799805   \n",
       "2019-01-02  10792.500000  7012.791016  1079.166260    1245.231934   \n",
       "2019-01-03  10672.250000  6951.133789  1065.852417    1253.047241   \n",
       "2019-01-04  10727.349609  6980.611328  1071.607178    1279.114136   \n",
       "2019-01-07  10771.799805  7103.684082  1077.557007    1268.331177   \n",
       "...                  ...          ...          ...            ...   \n",
       "2022-10-24  17730.750000  8765.450195  2479.850098    4410.149902   \n",
       "2022-10-25  17656.349609  9005.000000  2441.550049    4404.049805   \n",
       "2022-10-27  17736.949219  9041.950195  2451.149902    4431.850098   \n",
       "2022-10-28  17786.800781  9492.549805  2526.149902    4567.000000   \n",
       "2022-10-31  17976.099609  9645.049805  2556.000000    4525.000000   \n",
       "\n",
       "Symbols     KOTAKBANK.NS  \n",
       "Date                      \n",
       "2019-01-01   1248.404419  \n",
       "2019-01-02   1238.570557  \n",
       "2019-01-03   1233.229370  \n",
       "2019-01-04   1245.908569  \n",
       "2019-01-07   1244.560669  \n",
       "...                  ...  \n",
       "2022-10-24   1895.800049  \n",
       "2022-10-25   1846.599976  \n",
       "2022-10-27   1865.000000  \n",
       "2022-10-28   1884.250000  \n",
       "2022-10-31   1905.000000  \n",
       "\n",
       "[947 rows x 5 columns]"
      ]
     },
     "execution_count": 5,
     "metadata": {},
     "output_type": "execute_result"
    }
   ],
   "source": [
    "data"
   ]
  },
  {
   "cell_type": "code",
   "execution_count": 6,
   "id": "daf28064",
   "metadata": {},
   "outputs": [
    {
     "data": {
      "text/html": [
       "<div>\n",
       "<style scoped>\n",
       "    .dataframe tbody tr th:only-of-type {\n",
       "        vertical-align: middle;\n",
       "    }\n",
       "\n",
       "    .dataframe tbody tr th {\n",
       "        vertical-align: top;\n",
       "    }\n",
       "\n",
       "    .dataframe thead th {\n",
       "        text-align: right;\n",
       "    }\n",
       "</style>\n",
       "<table border=\"1\" class=\"dataframe\">\n",
       "  <thead>\n",
       "    <tr style=\"text-align: right;\">\n",
       "      <th>Symbols</th>\n",
       "      <th>^NSEI</th>\n",
       "      <th>MARUTI.NS</th>\n",
       "      <th>RELIANCE.NS</th>\n",
       "      <th>APOLLOHOSP.NS</th>\n",
       "      <th>KOTAKBANK.NS</th>\n",
       "    </tr>\n",
       "    <tr>\n",
       "      <th>Date</th>\n",
       "      <th></th>\n",
       "      <th></th>\n",
       "      <th></th>\n",
       "      <th></th>\n",
       "      <th></th>\n",
       "    </tr>\n",
       "  </thead>\n",
       "  <tbody>\n",
       "    <tr>\n",
       "      <th>2019-01-01</th>\n",
       "      <td>NaN</td>\n",
       "      <td>NaN</td>\n",
       "      <td>NaN</td>\n",
       "      <td>NaN</td>\n",
       "      <td>NaN</td>\n",
       "    </tr>\n",
       "    <tr>\n",
       "      <th>2019-01-02</th>\n",
       "      <td>NaN</td>\n",
       "      <td>-0.027946</td>\n",
       "      <td>-0.013024</td>\n",
       "      <td>-0.006041</td>\n",
       "      <td>-0.007877</td>\n",
       "    </tr>\n",
       "    <tr>\n",
       "      <th>2019-01-03</th>\n",
       "      <td>-0.011142</td>\n",
       "      <td>-0.008792</td>\n",
       "      <td>-0.012337</td>\n",
       "      <td>0.006276</td>\n",
       "      <td>-0.004312</td>\n",
       "    </tr>\n",
       "    <tr>\n",
       "      <th>2019-01-04</th>\n",
       "      <td>0.005163</td>\n",
       "      <td>0.004241</td>\n",
       "      <td>0.005399</td>\n",
       "      <td>0.020803</td>\n",
       "      <td>0.010281</td>\n",
       "    </tr>\n",
       "    <tr>\n",
       "      <th>2019-01-07</th>\n",
       "      <td>0.004144</td>\n",
       "      <td>0.017631</td>\n",
       "      <td>0.005552</td>\n",
       "      <td>-0.008430</td>\n",
       "      <td>-0.001082</td>\n",
       "    </tr>\n",
       "    <tr>\n",
       "      <th>...</th>\n",
       "      <td>...</td>\n",
       "      <td>...</td>\n",
       "      <td>...</td>\n",
       "      <td>...</td>\n",
       "      <td>...</td>\n",
       "    </tr>\n",
       "    <tr>\n",
       "      <th>2022-10-24</th>\n",
       "      <td>0.008787</td>\n",
       "      <td>0.007141</td>\n",
       "      <td>0.003338</td>\n",
       "      <td>0.004807</td>\n",
       "      <td>-0.003600</td>\n",
       "    </tr>\n",
       "    <tr>\n",
       "      <th>2022-10-25</th>\n",
       "      <td>-0.004196</td>\n",
       "      <td>0.027329</td>\n",
       "      <td>-0.015445</td>\n",
       "      <td>-0.001383</td>\n",
       "      <td>-0.025952</td>\n",
       "    </tr>\n",
       "    <tr>\n",
       "      <th>2022-10-27</th>\n",
       "      <td>0.004565</td>\n",
       "      <td>0.004103</td>\n",
       "      <td>0.003932</td>\n",
       "      <td>0.006312</td>\n",
       "      <td>0.009964</td>\n",
       "    </tr>\n",
       "    <tr>\n",
       "      <th>2022-10-28</th>\n",
       "      <td>0.002811</td>\n",
       "      <td>0.049834</td>\n",
       "      <td>0.030598</td>\n",
       "      <td>0.030495</td>\n",
       "      <td>0.010322</td>\n",
       "    </tr>\n",
       "    <tr>\n",
       "      <th>2022-10-31</th>\n",
       "      <td>0.010643</td>\n",
       "      <td>0.016065</td>\n",
       "      <td>0.011816</td>\n",
       "      <td>-0.009196</td>\n",
       "      <td>0.011012</td>\n",
       "    </tr>\n",
       "  </tbody>\n",
       "</table>\n",
       "<p>947 rows × 5 columns</p>\n",
       "</div>"
      ],
      "text/plain": [
       "Symbols        ^NSEI  MARUTI.NS  RELIANCE.NS  APOLLOHOSP.NS  KOTAKBANK.NS\n",
       "Date                                                                     \n",
       "2019-01-01       NaN        NaN          NaN            NaN           NaN\n",
       "2019-01-02       NaN  -0.027946    -0.013024      -0.006041     -0.007877\n",
       "2019-01-03 -0.011142  -0.008792    -0.012337       0.006276     -0.004312\n",
       "2019-01-04  0.005163   0.004241     0.005399       0.020803      0.010281\n",
       "2019-01-07  0.004144   0.017631     0.005552      -0.008430     -0.001082\n",
       "...              ...        ...          ...            ...           ...\n",
       "2022-10-24  0.008787   0.007141     0.003338       0.004807     -0.003600\n",
       "2022-10-25 -0.004196   0.027329    -0.015445      -0.001383     -0.025952\n",
       "2022-10-27  0.004565   0.004103     0.003932       0.006312      0.009964\n",
       "2022-10-28  0.002811   0.049834     0.030598       0.030495      0.010322\n",
       "2022-10-31  0.010643   0.016065     0.011816      -0.009196      0.011012\n",
       "\n",
       "[947 rows x 5 columns]"
      ]
     },
     "execution_count": 6,
     "metadata": {},
     "output_type": "execute_result"
    }
   ],
   "source": [
    "returns"
   ]
  },
  {
   "cell_type": "code",
   "execution_count": 7,
   "id": "66b7bbff",
   "metadata": {},
   "outputs": [
    {
     "data": {
      "text/plain": [
       "Symbols\n",
       "^NSEI            0.000629\n",
       "MARUTI.NS        0.000548\n",
       "RELIANCE.NS      0.001118\n",
       "APOLLOHOSP.NS    0.001653\n",
       "KOTAKBANK.NS     0.000651\n",
       "dtype: float64"
      ]
     },
     "execution_count": 7,
     "metadata": {},
     "output_type": "execute_result"
    }
   ],
   "source": [
    "mean_daily_ret = data.pct_change(1).mean()\n",
    "mean_daily_ret"
   ]
  },
  {
   "cell_type": "code",
   "execution_count": 8,
   "id": "4f5d63cd",
   "metadata": {},
   "outputs": [
    {
     "data": {
      "text/html": [
       "<div>\n",
       "<style scoped>\n",
       "    .dataframe tbody tr th:only-of-type {\n",
       "        vertical-align: middle;\n",
       "    }\n",
       "\n",
       "    .dataframe tbody tr th {\n",
       "        vertical-align: top;\n",
       "    }\n",
       "\n",
       "    .dataframe thead th {\n",
       "        text-align: right;\n",
       "    }\n",
       "</style>\n",
       "<table border=\"1\" class=\"dataframe\">\n",
       "  <thead>\n",
       "    <tr style=\"text-align: right;\">\n",
       "      <th>Symbols</th>\n",
       "      <th>^NSEI</th>\n",
       "      <th>MARUTI.NS</th>\n",
       "      <th>RELIANCE.NS</th>\n",
       "      <th>APOLLOHOSP.NS</th>\n",
       "      <th>KOTAKBANK.NS</th>\n",
       "    </tr>\n",
       "    <tr>\n",
       "      <th>Symbols</th>\n",
       "      <th></th>\n",
       "      <th></th>\n",
       "      <th></th>\n",
       "      <th></th>\n",
       "      <th></th>\n",
       "    </tr>\n",
       "  </thead>\n",
       "  <tbody>\n",
       "    <tr>\n",
       "      <th>^NSEI</th>\n",
       "      <td>1.000000</td>\n",
       "      <td>0.649881</td>\n",
       "      <td>0.681027</td>\n",
       "      <td>0.418318</td>\n",
       "      <td>0.703105</td>\n",
       "    </tr>\n",
       "    <tr>\n",
       "      <th>MARUTI.NS</th>\n",
       "      <td>0.649881</td>\n",
       "      <td>1.000000</td>\n",
       "      <td>0.423302</td>\n",
       "      <td>0.289971</td>\n",
       "      <td>0.432941</td>\n",
       "    </tr>\n",
       "    <tr>\n",
       "      <th>RELIANCE.NS</th>\n",
       "      <td>0.681027</td>\n",
       "      <td>0.423302</td>\n",
       "      <td>1.000000</td>\n",
       "      <td>0.247728</td>\n",
       "      <td>0.389519</td>\n",
       "    </tr>\n",
       "    <tr>\n",
       "      <th>APOLLOHOSP.NS</th>\n",
       "      <td>0.418318</td>\n",
       "      <td>0.289971</td>\n",
       "      <td>0.247728</td>\n",
       "      <td>1.000000</td>\n",
       "      <td>0.276588</td>\n",
       "    </tr>\n",
       "    <tr>\n",
       "      <th>KOTAKBANK.NS</th>\n",
       "      <td>0.703105</td>\n",
       "      <td>0.432941</td>\n",
       "      <td>0.389519</td>\n",
       "      <td>0.276588</td>\n",
       "      <td>1.000000</td>\n",
       "    </tr>\n",
       "  </tbody>\n",
       "</table>\n",
       "</div>"
      ],
      "text/plain": [
       "Symbols           ^NSEI  MARUTI.NS  RELIANCE.NS  APOLLOHOSP.NS  KOTAKBANK.NS\n",
       "Symbols                                                                     \n",
       "^NSEI          1.000000   0.649881     0.681027       0.418318      0.703105\n",
       "MARUTI.NS      0.649881   1.000000     0.423302       0.289971      0.432941\n",
       "RELIANCE.NS    0.681027   0.423302     1.000000       0.247728      0.389519\n",
       "APOLLOHOSP.NS  0.418318   0.289971     0.247728       1.000000      0.276588\n",
       "KOTAKBANK.NS   0.703105   0.432941     0.389519       0.276588      1.000000"
      ]
     },
     "execution_count": 8,
     "metadata": {},
     "output_type": "execute_result"
    }
   ],
   "source": [
    "data.pct_change(1).corr()"
   ]
  },
  {
   "cell_type": "code",
   "execution_count": 9,
   "id": "95d0b795",
   "metadata": {},
   "outputs": [
    {
     "data": {
      "text/plain": [
       "<AxesSubplot:xlabel='Date'>"
      ]
     },
     "execution_count": 9,
     "metadata": {},
     "output_type": "execute_result"
    },
    {
     "data": {
      "image/png": "[encoded data removed]",
      "text/plain": [
       "<Figure size 432x288 with 1 Axes>"
      ]
     },
     "metadata": {
      "needs_background": "light"
     },
     "output_type": "display_data"
    }
   ],
   "source": [
    "data_normed = data/data.iloc[0]\n",
    "data_normed.plot()"
   ]
  },
  {
   "cell_type": "code",
   "execution_count": 10,
   "id": "171a7868",
   "metadata": {},
   "outputs": [
    {
     "data": {
      "text/html": [
       "<div>\n",
       "<style scoped>\n",
       "    .dataframe tbody tr th:only-of-type {\n",
       "        vertical-align: middle;\n",
       "    }\n",
       "\n",
       "    .dataframe tbody tr th {\n",
       "        vertical-align: top;\n",
       "    }\n",
       "\n",
       "    .dataframe thead th {\n",
       "        text-align: right;\n",
       "    }\n",
       "</style>\n",
       "<table border=\"1\" class=\"dataframe\">\n",
       "  <thead>\n",
       "    <tr style=\"text-align: right;\">\n",
       "      <th>Symbols</th>\n",
       "      <th>^NSEI</th>\n",
       "      <th>MARUTI.NS</th>\n",
       "      <th>RELIANCE.NS</th>\n",
       "      <th>APOLLOHOSP.NS</th>\n",
       "      <th>KOTAKBANK.NS</th>\n",
       "    </tr>\n",
       "    <tr>\n",
       "      <th>Date</th>\n",
       "      <th></th>\n",
       "      <th></th>\n",
       "      <th></th>\n",
       "      <th></th>\n",
       "      <th></th>\n",
       "    </tr>\n",
       "  </thead>\n",
       "  <tbody>\n",
       "    <tr>\n",
       "      <th>2019-01-01</th>\n",
       "      <td>NaN</td>\n",
       "      <td>NaN</td>\n",
       "      <td>NaN</td>\n",
       "      <td>NaN</td>\n",
       "      <td>NaN</td>\n",
       "    </tr>\n",
       "    <tr>\n",
       "      <th>2019-01-02</th>\n",
       "      <td>NaN</td>\n",
       "      <td>-0.027946</td>\n",
       "      <td>-0.013024</td>\n",
       "      <td>-0.006041</td>\n",
       "      <td>-0.007877</td>\n",
       "    </tr>\n",
       "    <tr>\n",
       "      <th>2019-01-03</th>\n",
       "      <td>-0.011142</td>\n",
       "      <td>-0.008792</td>\n",
       "      <td>-0.012337</td>\n",
       "      <td>0.006276</td>\n",
       "      <td>-0.004312</td>\n",
       "    </tr>\n",
       "    <tr>\n",
       "      <th>2019-01-04</th>\n",
       "      <td>0.005163</td>\n",
       "      <td>0.004241</td>\n",
       "      <td>0.005399</td>\n",
       "      <td>0.020803</td>\n",
       "      <td>0.010281</td>\n",
       "    </tr>\n",
       "    <tr>\n",
       "      <th>2019-01-07</th>\n",
       "      <td>0.004144</td>\n",
       "      <td>0.017631</td>\n",
       "      <td>0.005552</td>\n",
       "      <td>-0.008430</td>\n",
       "      <td>-0.001082</td>\n",
       "    </tr>\n",
       "    <tr>\n",
       "      <th>...</th>\n",
       "      <td>...</td>\n",
       "      <td>...</td>\n",
       "      <td>...</td>\n",
       "      <td>...</td>\n",
       "      <td>...</td>\n",
       "    </tr>\n",
       "    <tr>\n",
       "      <th>2022-10-24</th>\n",
       "      <td>0.008787</td>\n",
       "      <td>0.007141</td>\n",
       "      <td>0.003338</td>\n",
       "      <td>0.004807</td>\n",
       "      <td>-0.003600</td>\n",
       "    </tr>\n",
       "    <tr>\n",
       "      <th>2022-10-25</th>\n",
       "      <td>-0.004196</td>\n",
       "      <td>0.027329</td>\n",
       "      <td>-0.015445</td>\n",
       "      <td>-0.001383</td>\n",
       "      <td>-0.025952</td>\n",
       "    </tr>\n",
       "    <tr>\n",
       "      <th>2022-10-27</th>\n",
       "      <td>0.004565</td>\n",
       "      <td>0.004103</td>\n",
       "      <td>0.003932</td>\n",
       "      <td>0.006312</td>\n",
       "      <td>0.009964</td>\n",
       "    </tr>\n",
       "    <tr>\n",
       "      <th>2022-10-28</th>\n",
       "      <td>0.002811</td>\n",
       "      <td>0.049834</td>\n",
       "      <td>0.030598</td>\n",
       "      <td>0.030495</td>\n",
       "      <td>0.010322</td>\n",
       "    </tr>\n",
       "    <tr>\n",
       "      <th>2022-10-31</th>\n",
       "      <td>0.010643</td>\n",
       "      <td>0.016065</td>\n",
       "      <td>0.011816</td>\n",
       "      <td>-0.009196</td>\n",
       "      <td>0.011012</td>\n",
       "    </tr>\n",
       "  </tbody>\n",
       "</table>\n",
       "<p>947 rows × 5 columns</p>\n",
       "</div>"
      ],
      "text/plain": [
       "Symbols        ^NSEI  MARUTI.NS  RELIANCE.NS  APOLLOHOSP.NS  KOTAKBANK.NS\n",
       "Date                                                                     \n",
       "2019-01-01       NaN        NaN          NaN            NaN           NaN\n",
       "2019-01-02       NaN  -0.027946    -0.013024      -0.006041     -0.007877\n",
       "2019-01-03 -0.011142  -0.008792    -0.012337       0.006276     -0.004312\n",
       "2019-01-04  0.005163   0.004241     0.005399       0.020803      0.010281\n",
       "2019-01-07  0.004144   0.017631     0.005552      -0.008430     -0.001082\n",
       "...              ...        ...          ...            ...           ...\n",
       "2022-10-24  0.008787   0.007141     0.003338       0.004807     -0.003600\n",
       "2022-10-25 -0.004196   0.027329    -0.015445      -0.001383     -0.025952\n",
       "2022-10-27  0.004565   0.004103     0.003932       0.006312      0.009964\n",
       "2022-10-28  0.002811   0.049834     0.030598       0.030495      0.010322\n",
       "2022-10-31  0.010643   0.016065     0.011816      -0.009196      0.011012\n",
       "\n",
       "[947 rows x 5 columns]"
      ]
     },
     "execution_count": 10,
     "metadata": {},
     "output_type": "execute_result"
    }
   ],
   "source": [
    "data_daily_ret = data.pct_change(1)\n",
    "data_daily_ret"
   ]
  },
  {
   "cell_type": "code",
   "execution_count": 11,
   "id": "8a7ec040",
   "metadata": {},
   "outputs": [
    {
     "data": {
      "text/html": [
       "<div>\n",
       "<style scoped>\n",
       "    .dataframe tbody tr th:only-of-type {\n",
       "        vertical-align: middle;\n",
       "    }\n",
       "\n",
       "    .dataframe tbody tr th {\n",
       "        vertical-align: top;\n",
       "    }\n",
       "\n",
       "    .dataframe thead th {\n",
       "        text-align: right;\n",
       "    }\n",
       "</style>\n",
       "<table border=\"1\" class=\"dataframe\">\n",
       "  <thead>\n",
       "    <tr style=\"text-align: right;\">\n",
       "      <th>Symbols</th>\n",
       "      <th>^NSEI</th>\n",
       "      <th>MARUTI.NS</th>\n",
       "      <th>RELIANCE.NS</th>\n",
       "      <th>APOLLOHOSP.NS</th>\n",
       "      <th>KOTAKBANK.NS</th>\n",
       "    </tr>\n",
       "    <tr>\n",
       "      <th>Date</th>\n",
       "      <th></th>\n",
       "      <th></th>\n",
       "      <th></th>\n",
       "      <th></th>\n",
       "      <th></th>\n",
       "    </tr>\n",
       "  </thead>\n",
       "  <tbody>\n",
       "    <tr>\n",
       "      <th>2019-01-01</th>\n",
       "      <td>NaN</td>\n",
       "      <td>NaN</td>\n",
       "      <td>NaN</td>\n",
       "      <td>NaN</td>\n",
       "      <td>NaN</td>\n",
       "    </tr>\n",
       "    <tr>\n",
       "      <th>2019-01-02</th>\n",
       "      <td>NaN</td>\n",
       "      <td>-0.028344</td>\n",
       "      <td>-0.013110</td>\n",
       "      <td>-0.006059</td>\n",
       "      <td>-0.007908</td>\n",
       "    </tr>\n",
       "    <tr>\n",
       "      <th>2019-01-03</th>\n",
       "      <td>-0.011205</td>\n",
       "      <td>-0.008831</td>\n",
       "      <td>-0.012414</td>\n",
       "      <td>0.006257</td>\n",
       "      <td>-0.004322</td>\n",
       "    </tr>\n",
       "    <tr>\n",
       "      <th>2019-01-04</th>\n",
       "      <td>0.005150</td>\n",
       "      <td>0.004232</td>\n",
       "      <td>0.005385</td>\n",
       "      <td>0.020589</td>\n",
       "      <td>0.010229</td>\n",
       "    </tr>\n",
       "    <tr>\n",
       "      <th>2019-01-07</th>\n",
       "      <td>0.004135</td>\n",
       "      <td>0.017477</td>\n",
       "      <td>0.005537</td>\n",
       "      <td>-0.008466</td>\n",
       "      <td>-0.001082</td>\n",
       "    </tr>\n",
       "    <tr>\n",
       "      <th>...</th>\n",
       "      <td>...</td>\n",
       "      <td>...</td>\n",
       "      <td>...</td>\n",
       "      <td>...</td>\n",
       "      <td>...</td>\n",
       "    </tr>\n",
       "    <tr>\n",
       "      <th>2022-10-24</th>\n",
       "      <td>0.008749</td>\n",
       "      <td>0.007116</td>\n",
       "      <td>0.003332</td>\n",
       "      <td>0.004796</td>\n",
       "      <td>-0.003607</td>\n",
       "    </tr>\n",
       "    <tr>\n",
       "      <th>2022-10-25</th>\n",
       "      <td>-0.004205</td>\n",
       "      <td>0.026962</td>\n",
       "      <td>-0.015565</td>\n",
       "      <td>-0.001384</td>\n",
       "      <td>-0.026295</td>\n",
       "    </tr>\n",
       "    <tr>\n",
       "      <th>2022-10-27</th>\n",
       "      <td>0.004555</td>\n",
       "      <td>0.004095</td>\n",
       "      <td>0.003924</td>\n",
       "      <td>0.006293</td>\n",
       "      <td>0.009915</td>\n",
       "    </tr>\n",
       "    <tr>\n",
       "      <th>2022-10-28</th>\n",
       "      <td>0.002807</td>\n",
       "      <td>0.048632</td>\n",
       "      <td>0.030139</td>\n",
       "      <td>0.030039</td>\n",
       "      <td>0.010269</td>\n",
       "    </tr>\n",
       "    <tr>\n",
       "      <th>2022-10-31</th>\n",
       "      <td>0.010586</td>\n",
       "      <td>0.015938</td>\n",
       "      <td>0.011747</td>\n",
       "      <td>-0.009239</td>\n",
       "      <td>0.010952</td>\n",
       "    </tr>\n",
       "  </tbody>\n",
       "</table>\n",
       "<p>947 rows × 5 columns</p>\n",
       "</div>"
      ],
      "text/plain": [
       "Symbols        ^NSEI  MARUTI.NS  RELIANCE.NS  APOLLOHOSP.NS  KOTAKBANK.NS\n",
       "Date                                                                     \n",
       "2019-01-01       NaN        NaN          NaN            NaN           NaN\n",
       "2019-01-02       NaN  -0.028344    -0.013110      -0.006059     -0.007908\n",
       "2019-01-03 -0.011205  -0.008831    -0.012414       0.006257     -0.004322\n",
       "2019-01-04  0.005150   0.004232     0.005385       0.020589      0.010229\n",
       "2019-01-07  0.004135   0.017477     0.005537      -0.008466     -0.001082\n",
       "...              ...        ...          ...            ...           ...\n",
       "2022-10-24  0.008749   0.007116     0.003332       0.004796     -0.003607\n",
       "2022-10-25 -0.004205   0.026962    -0.015565      -0.001384     -0.026295\n",
       "2022-10-27  0.004555   0.004095     0.003924       0.006293      0.009915\n",
       "2022-10-28  0.002807   0.048632     0.030139       0.030039      0.010269\n",
       "2022-10-31  0.010586   0.015938     0.011747      -0.009239      0.010952\n",
       "\n",
       "[947 rows x 5 columns]"
      ]
     },
     "execution_count": 11,
     "metadata": {},
     "output_type": "execute_result"
    }
   ],
   "source": [
    "log_ret = np.log(data/data.shift(1))\n",
    "log_ret"
   ]
  },
  {
   "cell_type": "code",
   "execution_count": 12,
   "id": "21d717bc",
   "metadata": {},
   "outputs": [
    {
     "data": {
      "image/png": "[encoded data removed]",
      "text/plain": [
       "<Figure size 864x432 with 6 Axes>"
      ]
     },
     "metadata": {
      "needs_background": "light"
     },
     "output_type": "display_data"
    }
   ],
   "source": [
    "log_ret.hist(bins=100,figsize=(12,6))\n",
    "plt.tight_layout()"
   ]
  },
  {
   "cell_type": "code",
   "execution_count": 13,
   "id": "c5ce219a",
   "metadata": {},
   "outputs": [
    {
     "data": {
      "text/html": [
       "<div>\n",
       "<style scoped>\n",
       "    .dataframe tbody tr th:only-of-type {\n",
       "        vertical-align: middle;\n",
       "    }\n",
       "\n",
       "    .dataframe tbody tr th {\n",
       "        vertical-align: top;\n",
       "    }\n",
       "\n",
       "    .dataframe thead th {\n",
       "        text-align: right;\n",
       "    }\n",
       "</style>\n",
       "<table border=\"1\" class=\"dataframe\">\n",
       "  <thead>\n",
       "    <tr style=\"text-align: right;\">\n",
       "      <th></th>\n",
       "      <th>count</th>\n",
       "      <th>mean</th>\n",
       "      <th>std</th>\n",
       "      <th>min</th>\n",
       "      <th>25%</th>\n",
       "      <th>50%</th>\n",
       "      <th>75%</th>\n",
       "      <th>max</th>\n",
       "    </tr>\n",
       "    <tr>\n",
       "      <th>Symbols</th>\n",
       "      <th></th>\n",
       "      <th></th>\n",
       "      <th></th>\n",
       "      <th></th>\n",
       "      <th></th>\n",
       "      <th></th>\n",
       "      <th></th>\n",
       "      <th></th>\n",
       "    </tr>\n",
       "  </thead>\n",
       "  <tbody>\n",
       "    <tr>\n",
       "      <th>^NSEI</th>\n",
       "      <td>941.0</td>\n",
       "      <td>0.000511</td>\n",
       "      <td>0.013429</td>\n",
       "      <td>-0.139038</td>\n",
       "      <td>-0.005173</td>\n",
       "      <td>0.000986</td>\n",
       "      <td>0.007380</td>\n",
       "      <td>0.084003</td>\n",
       "    </tr>\n",
       "    <tr>\n",
       "      <th>MARUTI.NS</th>\n",
       "      <td>946.0</td>\n",
       "      <td>0.000307</td>\n",
       "      <td>0.021966</td>\n",
       "      <td>-0.185236</td>\n",
       "      <td>-0.009281</td>\n",
       "      <td>0.000242</td>\n",
       "      <td>0.010241</td>\n",
       "      <td>0.126764</td>\n",
       "    </tr>\n",
       "    <tr>\n",
       "      <th>RELIANCE.NS</th>\n",
       "      <td>946.0</td>\n",
       "      <td>0.000898</td>\n",
       "      <td>0.020956</td>\n",
       "      <td>-0.141032</td>\n",
       "      <td>-0.010007</td>\n",
       "      <td>0.000842</td>\n",
       "      <td>0.011563</td>\n",
       "      <td>0.137307</td>\n",
       "    </tr>\n",
       "    <tr>\n",
       "      <th>APOLLOHOSP.NS</th>\n",
       "      <td>946.0</td>\n",
       "      <td>0.001358</td>\n",
       "      <td>0.024240</td>\n",
       "      <td>-0.162396</td>\n",
       "      <td>-0.010848</td>\n",
       "      <td>0.000853</td>\n",
       "      <td>0.012407</td>\n",
       "      <td>0.144052</td>\n",
       "    </tr>\n",
       "    <tr>\n",
       "      <th>KOTAKBANK.NS</th>\n",
       "      <td>946.0</td>\n",
       "      <td>0.000447</td>\n",
       "      <td>0.020226</td>\n",
       "      <td>-0.139257</td>\n",
       "      <td>-0.009938</td>\n",
       "      <td>0.000450</td>\n",
       "      <td>0.010958</td>\n",
       "      <td>0.113784</td>\n",
       "    </tr>\n",
       "  </tbody>\n",
       "</table>\n",
       "</div>"
      ],
      "text/plain": [
       "               count      mean       std       min       25%       50%  \\\n",
       "Symbols                                                                  \n",
       "^NSEI          941.0  0.000511  0.013429 -0.139038 -0.005173  0.000986   \n",
       "MARUTI.NS      946.0  0.000307  0.021966 -0.185236 -0.009281  0.000242   \n",
       "RELIANCE.NS    946.0  0.000898  0.020956 -0.141032 -0.010007  0.000842   \n",
       "APOLLOHOSP.NS  946.0  0.001358  0.024240 -0.162396 -0.010848  0.000853   \n",
       "KOTAKBANK.NS   946.0  0.000447  0.020226 -0.139257 -0.009938  0.000450   \n",
       "\n",
       "                    75%       max  \n",
       "Symbols                            \n",
       "^NSEI          0.007380  0.084003  \n",
       "MARUTI.NS      0.010241  0.126764  \n",
       "RELIANCE.NS    0.011563  0.137307  \n",
       "APOLLOHOSP.NS  0.012407  0.144052  \n",
       "KOTAKBANK.NS   0.010958  0.113784  "
      ]
     },
     "execution_count": 13,
     "metadata": {},
     "output_type": "execute_result"
    }
   ],
   "source": [
    "log_ret.describe().transpose()"
   ]
  },
  {
   "cell_type": "code",
   "execution_count": 14,
   "id": "e53ee697",
   "metadata": {},
   "outputs": [
    {
     "data": {
      "text/plain": [
       "Symbols\n",
       "^NSEI            0.128750\n",
       "MARUTI.NS        0.077349\n",
       "RELIANCE.NS      0.226199\n",
       "APOLLOHOSP.NS    0.342101\n",
       "KOTAKBANK.NS     0.112578\n",
       "dtype: float64"
      ]
     },
     "execution_count": 14,
     "metadata": {},
     "output_type": "execute_result"
    }
   ],
   "source": [
    "log_ret.mean()*252"
   ]
  },
  {
   "cell_type": "code",
   "execution_count": 15,
   "id": "0fe87736",
   "metadata": {},
   "outputs": [
    {
     "data": {
      "text/html": [
       "<div>\n",
       "<style scoped>\n",
       "    .dataframe tbody tr th:only-of-type {\n",
       "        vertical-align: middle;\n",
       "    }\n",
       "\n",
       "    .dataframe tbody tr th {\n",
       "        vertical-align: top;\n",
       "    }\n",
       "\n",
       "    .dataframe thead th {\n",
       "        text-align: right;\n",
       "    }\n",
       "</style>\n",
       "<table border=\"1\" class=\"dataframe\">\n",
       "  <thead>\n",
       "    <tr style=\"text-align: right;\">\n",
       "      <th>Symbols</th>\n",
       "      <th>^NSEI</th>\n",
       "      <th>MARUTI.NS</th>\n",
       "      <th>RELIANCE.NS</th>\n",
       "      <th>APOLLOHOSP.NS</th>\n",
       "      <th>KOTAKBANK.NS</th>\n",
       "    </tr>\n",
       "    <tr>\n",
       "      <th>Symbols</th>\n",
       "      <th></th>\n",
       "      <th></th>\n",
       "      <th></th>\n",
       "      <th></th>\n",
       "      <th></th>\n",
       "    </tr>\n",
       "  </thead>\n",
       "  <tbody>\n",
       "    <tr>\n",
       "      <th>^NSEI</th>\n",
       "      <td>0.000180</td>\n",
       "      <td>0.000193</td>\n",
       "      <td>0.000193</td>\n",
       "      <td>0.000141</td>\n",
       "      <td>0.000193</td>\n",
       "    </tr>\n",
       "    <tr>\n",
       "      <th>MARUTI.NS</th>\n",
       "      <td>0.000193</td>\n",
       "      <td>0.000483</td>\n",
       "      <td>0.000196</td>\n",
       "      <td>0.000161</td>\n",
       "      <td>0.000195</td>\n",
       "    </tr>\n",
       "    <tr>\n",
       "      <th>RELIANCE.NS</th>\n",
       "      <td>0.000193</td>\n",
       "      <td>0.000196</td>\n",
       "      <td>0.000439</td>\n",
       "      <td>0.000130</td>\n",
       "      <td>0.000167</td>\n",
       "    </tr>\n",
       "    <tr>\n",
       "      <th>APOLLOHOSP.NS</th>\n",
       "      <td>0.000141</td>\n",
       "      <td>0.000161</td>\n",
       "      <td>0.000130</td>\n",
       "      <td>0.000588</td>\n",
       "      <td>0.000142</td>\n",
       "    </tr>\n",
       "    <tr>\n",
       "      <th>KOTAKBANK.NS</th>\n",
       "      <td>0.000193</td>\n",
       "      <td>0.000195</td>\n",
       "      <td>0.000167</td>\n",
       "      <td>0.000142</td>\n",
       "      <td>0.000409</td>\n",
       "    </tr>\n",
       "  </tbody>\n",
       "</table>\n",
       "</div>"
      ],
      "text/plain": [
       "Symbols           ^NSEI  MARUTI.NS  RELIANCE.NS  APOLLOHOSP.NS  KOTAKBANK.NS\n",
       "Symbols                                                                     \n",
       "^NSEI          0.000180   0.000193     0.000193       0.000141      0.000193\n",
       "MARUTI.NS      0.000193   0.000483     0.000196       0.000161      0.000195\n",
       "RELIANCE.NS    0.000193   0.000196     0.000439       0.000130      0.000167\n",
       "APOLLOHOSP.NS  0.000141   0.000161     0.000130       0.000588      0.000142\n",
       "KOTAKBANK.NS   0.000193   0.000195     0.000167       0.000142      0.000409"
      ]
     },
     "execution_count": 15,
     "metadata": {},
     "output_type": "execute_result"
    }
   ],
   "source": [
    "log_ret.cov()"
   ]
  },
  {
   "cell_type": "code",
   "execution_count": 16,
   "id": "c76cb807",
   "metadata": {},
   "outputs": [
    {
     "data": {
      "text/html": [
       "<div>\n",
       "<style scoped>\n",
       "    .dataframe tbody tr th:only-of-type {\n",
       "        vertical-align: middle;\n",
       "    }\n",
       "\n",
       "    .dataframe tbody tr th {\n",
       "        vertical-align: top;\n",
       "    }\n",
       "\n",
       "    .dataframe thead th {\n",
       "        text-align: right;\n",
       "    }\n",
       "</style>\n",
       "<table border=\"1\" class=\"dataframe\">\n",
       "  <thead>\n",
       "    <tr style=\"text-align: right;\">\n",
       "      <th>Symbols</th>\n",
       "      <th>^NSEI</th>\n",
       "      <th>MARUTI.NS</th>\n",
       "      <th>RELIANCE.NS</th>\n",
       "      <th>APOLLOHOSP.NS</th>\n",
       "      <th>KOTAKBANK.NS</th>\n",
       "    </tr>\n",
       "    <tr>\n",
       "      <th>Symbols</th>\n",
       "      <th></th>\n",
       "      <th></th>\n",
       "      <th></th>\n",
       "      <th></th>\n",
       "      <th></th>\n",
       "    </tr>\n",
       "  </thead>\n",
       "  <tbody>\n",
       "    <tr>\n",
       "      <th>^NSEI</th>\n",
       "      <td>0.045445</td>\n",
       "      <td>0.048579</td>\n",
       "      <td>0.048557</td>\n",
       "      <td>0.035644</td>\n",
       "      <td>0.048694</td>\n",
       "    </tr>\n",
       "    <tr>\n",
       "      <th>MARUTI.NS</th>\n",
       "      <td>0.048579</td>\n",
       "      <td>0.121595</td>\n",
       "      <td>0.049381</td>\n",
       "      <td>0.040666</td>\n",
       "      <td>0.049074</td>\n",
       "    </tr>\n",
       "    <tr>\n",
       "      <th>RELIANCE.NS</th>\n",
       "      <td>0.048557</td>\n",
       "      <td>0.049381</td>\n",
       "      <td>0.110666</td>\n",
       "      <td>0.032737</td>\n",
       "      <td>0.042118</td>\n",
       "    </tr>\n",
       "    <tr>\n",
       "      <th>APOLLOHOSP.NS</th>\n",
       "      <td>0.035644</td>\n",
       "      <td>0.040666</td>\n",
       "      <td>0.032737</td>\n",
       "      <td>0.148075</td>\n",
       "      <td>0.035668</td>\n",
       "    </tr>\n",
       "    <tr>\n",
       "      <th>KOTAKBANK.NS</th>\n",
       "      <td>0.048694</td>\n",
       "      <td>0.049074</td>\n",
       "      <td>0.042118</td>\n",
       "      <td>0.035668</td>\n",
       "      <td>0.103094</td>\n",
       "    </tr>\n",
       "  </tbody>\n",
       "</table>\n",
       "</div>"
      ],
      "text/plain": [
       "Symbols           ^NSEI  MARUTI.NS  RELIANCE.NS  APOLLOHOSP.NS  KOTAKBANK.NS\n",
       "Symbols                                                                     \n",
       "^NSEI          0.045445   0.048579     0.048557       0.035644      0.048694\n",
       "MARUTI.NS      0.048579   0.121595     0.049381       0.040666      0.049074\n",
       "RELIANCE.NS    0.048557   0.049381     0.110666       0.032737      0.042118\n",
       "APOLLOHOSP.NS  0.035644   0.040666     0.032737       0.148075      0.035668\n",
       "KOTAKBANK.NS   0.048694   0.049074     0.042118       0.035668      0.103094"
      ]
     },
     "execution_count": 16,
     "metadata": {},
     "output_type": "execute_result"
    }
   ],
   "source": [
    "log_ret.cov()*252"
   ]
  },
  {
   "cell_type": "code",
   "execution_count": 17,
   "id": "28cdf7f1",
   "metadata": {},
   "outputs": [
    {
     "name": "stdout",
     "output_type": "stream",
     "text": [
      "Stocks : Index(['^NSEI', 'MARUTI.NS', 'RELIANCE.NS', 'APOLLOHOSP.NS', 'KOTAKBANK.NS'], dtype='object', name='Symbols')\n",
      "\n",
      "Creating Random Weights : [0.47840227 0.3107802  0.18898249 0.87148663 0.41730722]\n",
      "\n",
      "Rebalance to sum to 1.0 : [0.21103263 0.13709124 0.08336388 0.38442985 0.1840824 ]\n",
      "\n",
      "Expected Portfolio Return : 0.2088687674401757\n",
      "\n",
      "Expected Volatility : 0.2467230277178224\n",
      "\n",
      "Sharpe Ratio : 0.8465718395733183\n"
     ]
    }
   ],
   "source": [
    "np.random.seed()\n",
    "print('Stocks :',data.columns)\n",
    "weights = np.array(np.random.random(5))\n",
    "print('\\nCreating Random Weights :',weights)\n",
    "weights = weights / np.sum(weights)\n",
    "print('\\nRebalance to sum to 1.0 :',weights)\n",
    "exp_ret = np.sum(log_ret.mean() * weights) *252\n",
    "print('\\nExpected Portfolio Return :',exp_ret)\n",
    "exp_vol = np.sqrt(np.dot(weights.T, np.dot(log_ret.cov() * 252, weights)))\n",
    "print('\\nExpected Volatility :',exp_vol)\n",
    "sr = exp_ret/exp_vol\n",
    "print('\\nSharpe Ratio :',sr)\n"
   ]
  },
  {
   "cell_type": "code",
   "execution_count": 39,
   "id": "31811db8",
   "metadata": {},
   "outputs": [],
   "source": [
    "num_ports = 1000\n",
    "\n",
    "all_weights = np.zeros((num_ports,len(data.columns)))\n",
    "ret_arr = np.zeros(num_ports)\n",
    "vol_arr = np.zeros(num_ports)\n",
    "sharpe_arr = np.zeros(num_ports)\n",
    "\n",
    "for ind in range(num_ports):\n",
    "    weights = np.array(np.random.random(5))\n",
    "    weights = weights / np.sum(weights)    \n",
    "    all_weights[ind,:] = weights\n",
    "    ret_arr[ind] = np.sum((log_ret.mean() * weights) *252)\n",
    "    vol_arr[ind] = np.sqrt(np.dot(weights.T, np.dot(log_ret.cov() * 252, weights)))\n",
    "    sharpe_arr[ind] = ret_arr[ind]/vol_arr[ind]"
   ]
  },
  {
   "cell_type": "code",
   "execution_count": 40,
   "id": "2f9fe729",
   "metadata": {},
   "outputs": [
    {
     "data": {
      "text/plain": [
       "0.9847225562288372"
      ]
     },
     "execution_count": 40,
     "metadata": {},
     "output_type": "execute_result"
    }
   ],
   "source": [
    "sharpe_arr.max()"
   ]
  },
  {
   "cell_type": "code",
   "execution_count": 41,
   "id": "54d20ddc",
   "metadata": {},
   "outputs": [
    {
     "data": {
      "text/plain": [
       "177"
      ]
     },
     "execution_count": 41,
     "metadata": {},
     "output_type": "execute_result"
    }
   ],
   "source": [
    "sharpe_arr.argmax()"
   ]
  },
  {
   "cell_type": "code",
   "execution_count": 42,
   "id": "2101bfe7",
   "metadata": {},
   "outputs": [
    {
     "data": {
      "text/plain": [
       "array([0.07858747, 0.0081936 , 0.4040011 , 0.45286681, 0.05635102])"
      ]
     },
     "execution_count": 42,
     "metadata": {},
     "output_type": "execute_result"
    }
   ],
   "source": [
    "all_weights[sharpe_arr.argmax(),:]"
   ]
  },
  {
   "cell_type": "code",
   "execution_count": 43,
   "id": "e464d0b0",
   "metadata": {},
   "outputs": [],
   "source": [
    "max_sr_ret = ret_arr[sharpe_arr.argmax()]\n",
    "max_sr_vol = vol_arr[sharpe_arr.argmax()]"
   ]
  },
  {
   "cell_type": "code",
   "execution_count": 44,
   "id": "c3ce7b26",
   "metadata": {},
   "outputs": [
    {
     "data": {
      "text/plain": [
       "<matplotlib.collections.PathCollection at 0x7faf0198bdc0>"
      ]
     },
     "execution_count": 44,
     "metadata": {},
     "output_type": "execute_result"
    },
    {
     "data": {
      "image/png": "[encoded data removed]",
      "text/plain": [
       "<Figure size 864x576 with 2 Axes>"
      ]
     },
     "metadata": {
      "needs_background": "light"
     },
     "output_type": "display_data"
    }
   ],
   "source": [
    "plt.figure(figsize=(12,8))\n",
    "plt.scatter(vol_arr,ret_arr,c=sharpe_arr,cmap='plasma')\n",
    "plt.colorbar(label='Sharpe Ratio')\n",
    "plt.xlabel('Volatility')\n",
    "plt.ylabel('Return')\n",
    "plt.scatter(max_sr_vol,max_sr_ret,c='red',s=50,edgecolors='black')"
   ]
  },
  {
   "cell_type": "code",
   "execution_count": 45,
   "id": "273b094e",
   "metadata": {},
   "outputs": [],
   "source": [
    "def get_ret_vol_sr(weights):\n",
    "    weights = np.array(weights)\n",
    "    ret = np.sum(log_ret.mean() * weights) * 252\n",
    "    vol = np.sqrt(np.dot(weights.T, np.dot(log_ret.cov() * 252, weights)))\n",
    "    sr = ret/vol\n",
    "    return np.array([ret,vol,sr])"
   ]
  },
  {
   "cell_type": "code",
   "execution_count": 46,
   "id": "5028135f",
   "metadata": {},
   "outputs": [],
   "source": [
    "from scipy.optimize import minimize"
   ]
  },
  {
   "cell_type": "code",
   "execution_count": 47,
   "id": "9d87c578",
   "metadata": {},
   "outputs": [],
   "source": [
    "def neg_sharpe(weights):\n",
    "    return  get_ret_vol_sr(weights)[2] * -1"
   ]
  },
  {
   "cell_type": "code",
   "execution_count": 48,
   "id": "82f2b089",
   "metadata": {},
   "outputs": [],
   "source": [
    "def check_sum(weights):\n",
    "    return np.sum(weights) - 1"
   ]
  },
  {
   "cell_type": "code",
   "execution_count": 49,
   "id": "728547a2",
   "metadata": {},
   "outputs": [],
   "source": [
    "cons = ({'type':'eq','fun': check_sum})"
   ]
  },
  {
   "cell_type": "code",
   "execution_count": 50,
   "id": "e09cca94",
   "metadata": {},
   "outputs": [],
   "source": [
    "bounds = ((0, 1), (0, 1), (0, 1), (0, 1),(0, 1))"
   ]
  },
  {
   "cell_type": "code",
   "execution_count": 51,
   "id": "d9187840",
   "metadata": {},
   "outputs": [],
   "source": [
    "init_guess = [0.25,0.25,0.25,0.25,0.25]"
   ]
  },
  {
   "cell_type": "code",
   "execution_count": 52,
   "id": "9724b57e",
   "metadata": {},
   "outputs": [],
   "source": [
    "opt_results = minimize(neg_sharpe,init_guess,method='SLSQP',bounds=bounds,constraints=cons)"
   ]
  },
  {
   "cell_type": "code",
   "execution_count": 53,
   "id": "fe008062",
   "metadata": {},
   "outputs": [
    {
     "data": {
      "text/plain": [
       "     fun: -1.004764027865728\n",
       "     jac: array([ 0.0441379 ,  0.25871667,  0.00072889, -0.00053491,  0.0675641 ])\n",
       " message: 'Optimization terminated successfully'\n",
       "    nfev: 30\n",
       "     nit: 5\n",
       "    njev: 5\n",
       "  status: 0\n",
       " success: True\n",
       "       x: array([0.       , 0.       , 0.4232575, 0.5767425, 0.       ])"
      ]
     },
     "execution_count": 53,
     "metadata": {},
     "output_type": "execute_result"
    }
   ],
   "source": [
    "opt_results"
   ]
  },
  {
   "cell_type": "code",
   "execution_count": 54,
   "id": "65aeb690",
   "metadata": {},
   "outputs": [
    {
     "data": {
      "text/plain": [
       "array([0.       , 0.       , 0.4232575, 0.5767425, 0.       ])"
      ]
     },
     "execution_count": 54,
     "metadata": {},
     "output_type": "execute_result"
    }
   ],
   "source": [
    "opt_results.x"
   ]
  },
  {
   "cell_type": "code",
   "execution_count": 55,
   "id": "7b0aa8e3",
   "metadata": {},
   "outputs": [
    {
     "data": {
      "text/plain": [
       "array([0.2930448 , 0.29165535, 1.00476403])"
      ]
     },
     "execution_count": 55,
     "metadata": {},
     "output_type": "execute_result"
    }
   ],
   "source": [
    "get_ret_vol_sr(opt_results.x)"
   ]
  },
  {
   "cell_type": "code",
   "execution_count": 56,
   "id": "196c79fe",
   "metadata": {},
   "outputs": [],
   "source": [
    "frontier_y = np.linspace(0,0.3,100)"
   ]
  },
  {
   "cell_type": "code",
   "execution_count": 57,
   "id": "312ac51d",
   "metadata": {},
   "outputs": [],
   "source": [
    "def minimize_volatility(weights):\n",
    "    return  get_ret_vol_sr(weights)[1] "
   ]
  },
  {
   "cell_type": "code",
   "execution_count": 58,
   "id": "579757cb",
   "metadata": {},
   "outputs": [],
   "source": [
    "frontier_volatility = []\n",
    "\n",
    "for possible_return in frontier_y:\n",
    "    cons = ({'type':'eq','fun': check_sum},\n",
    "            {'type':'eq','fun': lambda w: get_ret_vol_sr(w)[0] - possible_return})\n",
    "    \n",
    "    result = minimize(minimize_volatility,init_guess,method='SLSQP',bounds=bounds,constraints=cons)\n",
    "    \n",
    "    frontier_volatility.append(result['fun'])"
   ]
  },
  {
   "cell_type": "code",
   "execution_count": 59,
   "id": "236f35a2",
   "metadata": {
    "scrolled": true
   },
   "outputs": [
    {
     "data": {
      "text/plain": [
       "[<matplotlib.lines.Line2D at 0x7faf018314c0>]"
      ]
     },
     "execution_count": 59,
     "metadata": {},
     "output_type": "execute_result"
    },
    {
     "data": {
      "image/png": "[encoded data removed]",
      "text/plain": [
       "<Figure size 864x576 with 2 Axes>"
      ]
     },
     "metadata": {
      "needs_background": "light"
     },
     "output_type": "display_data"
    }
   ],
   "source": [
    "plt.figure(figsize=(12,8))\n",
    "plt.scatter(vol_arr,ret_arr,c=sharpe_arr,cmap='plasma')\n",
    "plt.colorbar(label='Sharpe Ratio')\n",
    "plt.xlabel('Volatility')\n",
    "plt.ylabel('Return')\n",
    "plt.plot(frontier_volatility,frontier_y,'g--',linewidth=3)"
   ]
  },
  {
   "cell_type": "code",
   "execution_count": null,
   "id": "d2af7e61",
   "metadata": {},
   "outputs": [],
   "source": []
  },
  {
   "cell_type": "code",
   "execution_count": null,
   "id": "0faac321",
   "metadata": {},
   "outputs": [],
   "source": []
  }
 ],
 "metadata": {
  "kernelspec": {
   "display_name": "Python 3 (ipykernel)",
   "language": "python",
   "name": "python3"
  },
  "language_info": {
   "codemirror_mode": {
    "name": "ipython",
    "version": 3
   },
   "file_extension": ".py",
   "mimetype": "text/x-python",
   "name": "python",
   "nbconvert_exporter": "python",
   "pygments_lexer": "ipython3",
   "version": "3.9.12"
  }
 },
 "nbformat": 4,
 "nbformat_minor": 5
}

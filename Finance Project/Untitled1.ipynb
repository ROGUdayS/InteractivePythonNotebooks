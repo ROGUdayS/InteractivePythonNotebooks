{
 "cells": [
  {
   "cell_type": "code",
   "execution_count": 7,
   "id": "d056e671",
   "metadata": {},
   "outputs": [],
   "source": [
    "import pandas as pd\n",
    "from pandas_datareader import data as pdr\n",
    "import yfinance as yf\n",
    "import numpy as np\n",
    "import datetime as dt\n",
    "import matplotlib.pyplot as plt\n",
    "plt.style.use('seaborn-colorblind')"
   ]
  },
  {
   "cell_type": "code",
   "execution_count": 10,
   "id": "b2b5ad14",
   "metadata": {},
   "outputs": [],
   "source": [
    "tickers=['SBUX','AMZN','TSLA','AAPL','META']"
   ]
  },
  {
   "cell_type": "code",
   "execution_count": 11,
   "id": "631f27f0",
   "metadata": {},
   "outputs": [],
   "source": [
    "weights = np.array([0.2,0.2,0.2,0.2,0.2])"
   ]
  },
  {
   "cell_type": "code",
   "execution_count": 13,
   "id": "5ecc0f01",
   "metadata": {},
   "outputs": [],
   "source": [
    "data = pdr.get_data_yahoo(tickers, start=\"2018-01-01\",end=dt.date.today())['Adj Close']"
   ]
  },
  {
   "cell_type": "code",
   "execution_count": 14,
   "id": "ae453617",
   "metadata": {},
   "outputs": [
    {
     "data": {
      "text/html": [
       "<div>\n",
       "<style scoped>\n",
       "    .dataframe tbody tr th:only-of-type {\n",
       "        vertical-align: middle;\n",
       "    }\n",
       "\n",
       "    .dataframe tbody tr th {\n",
       "        vertical-align: top;\n",
       "    }\n",
       "\n",
       "    .dataframe thead th {\n",
       "        text-align: right;\n",
       "    }\n",
       "</style>\n",
       "<table border=\"1\" class=\"dataframe\">\n",
       "  <thead>\n",
       "    <tr style=\"text-align: right;\">\n",
       "      <th>Symbols</th>\n",
       "      <th>SBUX</th>\n",
       "      <th>AMZN</th>\n",
       "      <th>TSLA</th>\n",
       "      <th>AAPL</th>\n",
       "      <th>META</th>\n",
       "    </tr>\n",
       "    <tr>\n",
       "      <th>Date</th>\n",
       "      <th></th>\n",
       "      <th></th>\n",
       "      <th></th>\n",
       "      <th></th>\n",
       "      <th></th>\n",
       "    </tr>\n",
       "  </thead>\n",
       "  <tbody>\n",
       "    <tr>\n",
       "      <th>2018-01-02</th>\n",
       "      <td>52.350155</td>\n",
       "      <td>59.450500</td>\n",
       "      <td>21.368668</td>\n",
       "      <td>41.018425</td>\n",
       "      <td>181.419998</td>\n",
       "    </tr>\n",
       "    <tr>\n",
       "      <th>2018-01-03</th>\n",
       "      <td>53.331200</td>\n",
       "      <td>60.209999</td>\n",
       "      <td>21.150000</td>\n",
       "      <td>41.011288</td>\n",
       "      <td>184.669998</td>\n",
       "    </tr>\n",
       "    <tr>\n",
       "      <th>2018-01-04</th>\n",
       "      <td>53.531052</td>\n",
       "      <td>60.479500</td>\n",
       "      <td>20.974667</td>\n",
       "      <td>41.201775</td>\n",
       "      <td>184.330002</td>\n",
       "    </tr>\n",
       "    <tr>\n",
       "      <th>2018-01-05</th>\n",
       "      <td>54.148754</td>\n",
       "      <td>61.457001</td>\n",
       "      <td>21.105333</td>\n",
       "      <td>41.670868</td>\n",
       "      <td>186.850006</td>\n",
       "    </tr>\n",
       "    <tr>\n",
       "      <th>2018-01-08</th>\n",
       "      <td>53.876236</td>\n",
       "      <td>62.343498</td>\n",
       "      <td>22.427334</td>\n",
       "      <td>41.516102</td>\n",
       "      <td>188.279999</td>\n",
       "    </tr>\n",
       "    <tr>\n",
       "      <th>...</th>\n",
       "      <td>...</td>\n",
       "      <td>...</td>\n",
       "      <td>...</td>\n",
       "      <td>...</td>\n",
       "      <td>...</td>\n",
       "    </tr>\n",
       "    <tr>\n",
       "      <th>2022-10-24</th>\n",
       "      <td>83.760002</td>\n",
       "      <td>119.820000</td>\n",
       "      <td>211.250000</td>\n",
       "      <td>149.449997</td>\n",
       "      <td>129.720001</td>\n",
       "    </tr>\n",
       "    <tr>\n",
       "      <th>2022-10-25</th>\n",
       "      <td>85.209999</td>\n",
       "      <td>120.599998</td>\n",
       "      <td>222.419998</td>\n",
       "      <td>152.339996</td>\n",
       "      <td>137.509995</td>\n",
       "    </tr>\n",
       "    <tr>\n",
       "      <th>2022-10-26</th>\n",
       "      <td>85.889999</td>\n",
       "      <td>115.660004</td>\n",
       "      <td>224.639999</td>\n",
       "      <td>149.350006</td>\n",
       "      <td>129.820007</td>\n",
       "    </tr>\n",
       "    <tr>\n",
       "      <th>2022-10-27</th>\n",
       "      <td>85.279999</td>\n",
       "      <td>110.959999</td>\n",
       "      <td>225.089996</td>\n",
       "      <td>144.800003</td>\n",
       "      <td>97.940002</td>\n",
       "    </tr>\n",
       "    <tr>\n",
       "      <th>2022-10-28</th>\n",
       "      <td>87.099998</td>\n",
       "      <td>103.410004</td>\n",
       "      <td>228.520004</td>\n",
       "      <td>155.740005</td>\n",
       "      <td>99.199997</td>\n",
       "    </tr>\n",
       "  </tbody>\n",
       "</table>\n",
       "<p>1216 rows × 5 columns</p>\n",
       "</div>"
      ],
      "text/plain": [
       "Symbols          SBUX        AMZN        TSLA        AAPL        META\n",
       "Date                                                                 \n",
       "2018-01-02  52.350155   59.450500   21.368668   41.018425  181.419998\n",
       "2018-01-03  53.331200   60.209999   21.150000   41.011288  184.669998\n",
       "2018-01-04  53.531052   60.479500   20.974667   41.201775  184.330002\n",
       "2018-01-05  54.148754   61.457001   21.105333   41.670868  186.850006\n",
       "2018-01-08  53.876236   62.343498   22.427334   41.516102  188.279999\n",
       "...               ...         ...         ...         ...         ...\n",
       "2022-10-24  83.760002  119.820000  211.250000  149.449997  129.720001\n",
       "2022-10-25  85.209999  120.599998  222.419998  152.339996  137.509995\n",
       "2022-10-26  85.889999  115.660004  224.639999  149.350006  129.820007\n",
       "2022-10-27  85.279999  110.959999  225.089996  144.800003   97.940002\n",
       "2022-10-28  87.099998  103.410004  228.520004  155.740005   99.199997\n",
       "\n",
       "[1216 rows x 5 columns]"
      ]
     },
     "execution_count": 14,
     "metadata": {},
     "output_type": "execute_result"
    }
   ],
   "source": [
    " data"
   ]
  },
  {
   "cell_type": "code",
   "execution_count": 15,
   "id": "24ef5734",
   "metadata": {},
   "outputs": [
    {
     "data": {
      "image/png": "[encoded data removed]",
      "text/plain": [
       "<Figure size 432x288 with 1 Axes>"
      ]
     },
     "metadata": {
      "needs_background": "light"
     },
     "output_type": "display_data"
    }
   ],
   "source": [
    "title = 'Portfolio Adj. close Price History'\n",
    "my_stocks = data\n",
    "for c in my_stocks.columns.values:\n",
    "    plt.plot(my_stocks[c], label=c)\n",
    "\n",
    "plt.title(title)\n",
    "plt.xlabel('Date', fontsize = 18)\n",
    "plt.ylabel('Adj. Price USD ($)')\n",
    "plt.legend(my_stocks.columns.values, loc='upper left')\n",
    "plt.show()"
   ]
  },
  {
   "cell_type": "code",
   "execution_count": 17,
   "id": "b5dfec22",
   "metadata": {},
   "outputs": [
    {
     "data": {
      "text/html": [
       "<div>\n",
       "<style scoped>\n",
       "    .dataframe tbody tr th:only-of-type {\n",
       "        vertical-align: middle;\n",
       "    }\n",
       "\n",
       "    .dataframe tbody tr th {\n",
       "        vertical-align: top;\n",
       "    }\n",
       "\n",
       "    .dataframe thead th {\n",
       "        text-align: right;\n",
       "    }\n",
       "</style>\n",
       "<table border=\"1\" class=\"dataframe\">\n",
       "  <thead>\n",
       "    <tr style=\"text-align: right;\">\n",
       "      <th>Symbols</th>\n",
       "      <th>SBUX</th>\n",
       "      <th>AMZN</th>\n",
       "      <th>TSLA</th>\n",
       "      <th>AAPL</th>\n",
       "      <th>META</th>\n",
       "    </tr>\n",
       "    <tr>\n",
       "      <th>Date</th>\n",
       "      <th></th>\n",
       "      <th></th>\n",
       "      <th></th>\n",
       "      <th></th>\n",
       "      <th></th>\n",
       "    </tr>\n",
       "  </thead>\n",
       "  <tbody>\n",
       "    <tr>\n",
       "      <th>2018-01-02</th>\n",
       "      <td>NaN</td>\n",
       "      <td>NaN</td>\n",
       "      <td>NaN</td>\n",
       "      <td>NaN</td>\n",
       "      <td>NaN</td>\n",
       "    </tr>\n",
       "    <tr>\n",
       "      <th>2018-01-03</th>\n",
       "      <td>0.018740</td>\n",
       "      <td>0.012775</td>\n",
       "      <td>-0.010233</td>\n",
       "      <td>-0.000174</td>\n",
       "      <td>0.017914</td>\n",
       "    </tr>\n",
       "    <tr>\n",
       "      <th>2018-01-04</th>\n",
       "      <td>0.003747</td>\n",
       "      <td>0.004476</td>\n",
       "      <td>-0.008290</td>\n",
       "      <td>0.004645</td>\n",
       "      <td>-0.001841</td>\n",
       "    </tr>\n",
       "    <tr>\n",
       "      <th>2018-01-05</th>\n",
       "      <td>0.011539</td>\n",
       "      <td>0.016163</td>\n",
       "      <td>0.006230</td>\n",
       "      <td>0.011385</td>\n",
       "      <td>0.013671</td>\n",
       "    </tr>\n",
       "    <tr>\n",
       "      <th>2018-01-08</th>\n",
       "      <td>-0.005033</td>\n",
       "      <td>0.014425</td>\n",
       "      <td>0.062638</td>\n",
       "      <td>-0.003714</td>\n",
       "      <td>0.007653</td>\n",
       "    </tr>\n",
       "    <tr>\n",
       "      <th>...</th>\n",
       "      <td>...</td>\n",
       "      <td>...</td>\n",
       "      <td>...</td>\n",
       "      <td>...</td>\n",
       "      <td>...</td>\n",
       "    </tr>\n",
       "    <tr>\n",
       "      <th>2022-10-24</th>\n",
       "      <td>-0.054734</td>\n",
       "      <td>0.004190</td>\n",
       "      <td>-0.014876</td>\n",
       "      <td>0.014803</td>\n",
       "      <td>-0.002231</td>\n",
       "    </tr>\n",
       "    <tr>\n",
       "      <th>2022-10-25</th>\n",
       "      <td>0.017311</td>\n",
       "      <td>0.006510</td>\n",
       "      <td>0.052876</td>\n",
       "      <td>0.019338</td>\n",
       "      <td>0.060052</td>\n",
       "    </tr>\n",
       "    <tr>\n",
       "      <th>2022-10-26</th>\n",
       "      <td>0.007980</td>\n",
       "      <td>-0.040962</td>\n",
       "      <td>0.009981</td>\n",
       "      <td>-0.019627</td>\n",
       "      <td>-0.055923</td>\n",
       "    </tr>\n",
       "    <tr>\n",
       "      <th>2022-10-27</th>\n",
       "      <td>-0.007102</td>\n",
       "      <td>-0.040636</td>\n",
       "      <td>0.002003</td>\n",
       "      <td>-0.030465</td>\n",
       "      <td>-0.245571</td>\n",
       "    </tr>\n",
       "    <tr>\n",
       "      <th>2022-10-28</th>\n",
       "      <td>0.021341</td>\n",
       "      <td>-0.068042</td>\n",
       "      <td>0.015238</td>\n",
       "      <td>0.075553</td>\n",
       "      <td>0.012865</td>\n",
       "    </tr>\n",
       "  </tbody>\n",
       "</table>\n",
       "<p>1216 rows × 5 columns</p>\n",
       "</div>"
      ],
      "text/plain": [
       "Symbols         SBUX      AMZN      TSLA      AAPL      META\n",
       "Date                                                        \n",
       "2018-01-02       NaN       NaN       NaN       NaN       NaN\n",
       "2018-01-03  0.018740  0.012775 -0.010233 -0.000174  0.017914\n",
       "2018-01-04  0.003747  0.004476 -0.008290  0.004645 -0.001841\n",
       "2018-01-05  0.011539  0.016163  0.006230  0.011385  0.013671\n",
       "2018-01-08 -0.005033  0.014425  0.062638 -0.003714  0.007653\n",
       "...              ...       ...       ...       ...       ...\n",
       "2022-10-24 -0.054734  0.004190 -0.014876  0.014803 -0.002231\n",
       "2022-10-25  0.017311  0.006510  0.052876  0.019338  0.060052\n",
       "2022-10-26  0.007980 -0.040962  0.009981 -0.019627 -0.055923\n",
       "2022-10-27 -0.007102 -0.040636  0.002003 -0.030465 -0.245571\n",
       "2022-10-28  0.021341 -0.068042  0.015238  0.075553  0.012865\n",
       "\n",
       "[1216 rows x 5 columns]"
      ]
     },
     "execution_count": 17,
     "metadata": {},
     "output_type": "execute_result"
    }
   ],
   "source": [
    "returns = data.pct_change()\n",
    "returns"
   ]
  },
  {
   "cell_type": "code",
   "execution_count": 18,
   "id": "f6a13dbe",
   "metadata": {},
   "outputs": [
    {
     "data": {
      "text/html": [
       "<div>\n",
       "<style scoped>\n",
       "    .dataframe tbody tr th:only-of-type {\n",
       "        vertical-align: middle;\n",
       "    }\n",
       "\n",
       "    .dataframe tbody tr th {\n",
       "        vertical-align: top;\n",
       "    }\n",
       "\n",
       "    .dataframe thead th {\n",
       "        text-align: right;\n",
       "    }\n",
       "</style>\n",
       "<table border=\"1\" class=\"dataframe\">\n",
       "  <thead>\n",
       "    <tr style=\"text-align: right;\">\n",
       "      <th>Symbols</th>\n",
       "      <th>SBUX</th>\n",
       "      <th>AMZN</th>\n",
       "      <th>TSLA</th>\n",
       "      <th>AAPL</th>\n",
       "      <th>META</th>\n",
       "    </tr>\n",
       "    <tr>\n",
       "      <th>Symbols</th>\n",
       "      <th></th>\n",
       "      <th></th>\n",
       "      <th></th>\n",
       "      <th></th>\n",
       "      <th></th>\n",
       "    </tr>\n",
       "  </thead>\n",
       "  <tbody>\n",
       "    <tr>\n",
       "      <th>SBUX</th>\n",
       "      <td>0.095739</td>\n",
       "      <td>0.048236</td>\n",
       "      <td>0.071320</td>\n",
       "      <td>0.055413</td>\n",
       "      <td>0.060704</td>\n",
       "    </tr>\n",
       "    <tr>\n",
       "      <th>AMZN</th>\n",
       "      <td>0.048236</td>\n",
       "      <td>0.124507</td>\n",
       "      <td>0.098947</td>\n",
       "      <td>0.075186</td>\n",
       "      <td>0.092468</td>\n",
       "    </tr>\n",
       "    <tr>\n",
       "      <th>TSLA</th>\n",
       "      <td>0.071320</td>\n",
       "      <td>0.098947</td>\n",
       "      <td>0.425503</td>\n",
       "      <td>0.100754</td>\n",
       "      <td>0.096567</td>\n",
       "    </tr>\n",
       "    <tr>\n",
       "      <th>AAPL</th>\n",
       "      <td>0.055413</td>\n",
       "      <td>0.075186</td>\n",
       "      <td>0.100754</td>\n",
       "      <td>0.110680</td>\n",
       "      <td>0.082856</td>\n",
       "    </tr>\n",
       "    <tr>\n",
       "      <th>META</th>\n",
       "      <td>0.060704</td>\n",
       "      <td>0.092468</td>\n",
       "      <td>0.096567</td>\n",
       "      <td>0.082856</td>\n",
       "      <td>0.182949</td>\n",
       "    </tr>\n",
       "  </tbody>\n",
       "</table>\n",
       "</div>"
      ],
      "text/plain": [
       "Symbols      SBUX      AMZN      TSLA      AAPL      META\n",
       "Symbols                                                  \n",
       "SBUX     0.095739  0.048236  0.071320  0.055413  0.060704\n",
       "AMZN     0.048236  0.124507  0.098947  0.075186  0.092468\n",
       "TSLA     0.071320  0.098947  0.425503  0.100754  0.096567\n",
       "AAPL     0.055413  0.075186  0.100754  0.110680  0.082856\n",
       "META     0.060704  0.092468  0.096567  0.082856  0.182949"
      ]
     },
     "execution_count": 18,
     "metadata": {},
     "output_type": "execute_result"
    }
   ],
   "source": [
    "cov_matrix_annual = returns.cov()*252\n",
    "cov_matrix_annual"
   ]
  },
  {
   "cell_type": "code",
   "execution_count": 19,
   "id": "ae4abcf1",
   "metadata": {},
   "outputs": [
    {
     "data": {
      "text/plain": [
       "0.10017117048723623"
      ]
     },
     "execution_count": 19,
     "metadata": {},
     "output_type": "execute_result"
    }
   ],
   "source": [
    "port_variance = np.dot(weights.T, np.dot(cov_matrix_annual, weights))\n",
    "port_variance"
   ]
  },
  {
   "cell_type": "code",
   "execution_count": 20,
   "id": "ef5c38dd",
   "metadata": {},
   "outputs": [
    {
     "data": {
      "text/plain": [
       "0.3164982946039934"
      ]
     },
     "execution_count": 20,
     "metadata": {},
     "output_type": "execute_result"
    }
   ],
   "source": [
    "port_volatility=np.sqrt(port_variance)\n",
    "port_volatility"
   ]
  },
  {
   "cell_type": "code",
   "execution_count": 21,
   "id": "3d3f931b",
   "metadata": {},
   "outputs": [
    {
     "data": {
      "text/plain": [
       "0.267240225606304"
      ]
     },
     "execution_count": 21,
     "metadata": {},
     "output_type": "execute_result"
    }
   ],
   "source": [
    "portfolio_simple_annual_return = np.sum(returns.mean()*weights)*252\n",
    "portfolio_simple_annual_return"
   ]
  },
  {
   "cell_type": "code",
   "execution_count": 22,
   "id": "4dd00ff7",
   "metadata": {},
   "outputs": [
    {
     "name": "stdout",
     "output_type": "stream",
     "text": [
      "Expected annual return :27.0%\n",
      "Annual volatility / risk :32.0%\n",
      "Annual variance :10.0%\n"
     ]
    }
   ],
   "source": [
    "percent_var = str(round(port_variance, 2)*100)+\"%\"\n",
    "percent_vols = str(round(port_volatility, 2)*100)+\"%\"\n",
    "percent_ret = str(round(portfolio_simple_annual_return, 2)*100)+\"%\"\n",
    "\n",
    "print('Expected annual return :'+percent_ret)\n",
    "print('Annual volatility / risk :'+percent_vols)\n",
    "print('Annual variance :'+percent_var)"
   ]
  },
  {
   "cell_type": "code",
   "execution_count": 23,
   "id": "045e1c9f",
   "metadata": {},
   "outputs": [
    {
     "name": "stdout",
     "output_type": "stream",
     "text": [
      "Collecting PyPortfolioOpt\n",
      "  Downloading pyportfolioopt-1.5.3-py3-none-any.whl (61 kB)\n",
      "\u001b[K     |████████████████████████████████| 61 kB 820 kB/s eta 0:00:011\n",
      "\u001b[?25hRequirement already satisfied: scipy<2.0,>=1.3 in /opt/anaconda3/lib/python3.9/site-packages (from PyPortfolioOpt) (1.7.3)\n",
      "Requirement already satisfied: pandas>=0.19 in /opt/anaconda3/lib/python3.9/site-packages (from PyPortfolioOpt) (1.4.2)\n",
      "Collecting numpy<2.0.0,>=1.22.4\n",
      "  Downloading numpy-1.23.4-cp39-cp39-macosx_10_9_x86_64.whl (18.1 MB)\n",
      "\u001b[K     |████████████████████████████████| 18.1 MB 15.2 MB/s eta 0:00:01\n",
      "\u001b[?25hCollecting cvxpy<2.0.0,>=1.1.10\n",
      "  Downloading cvxpy-1.2.1-1-cp39-cp39-macosx_10_9_x86_64.whl (880 kB)\n",
      "\u001b[K     |████████████████████████████████| 880 kB 14.1 MB/s eta 0:00:01\n",
      "\u001b[?25hCollecting scs>=1.1.6\n",
      "  Downloading scs-3.2.0-cp39-cp39-macosx_10_9_x86_64.whl (11.4 MB)\n",
      "\u001b[K     |████████████████████████████████| 11.4 MB 13.8 MB/s eta 0:00:01\n",
      "\u001b[?25hCollecting ecos>=2\n",
      "  Downloading ecos-2.0.10-cp39-cp39-macosx_10_9_x86_64.whl (88 kB)\n",
      "\u001b[K     |████████████████████████████████| 88 kB 7.8 MB/s eta 0:00:011\n",
      "\u001b[?25hCollecting osqp>=0.4.1\n",
      "  Downloading osqp-0.6.2.post5-cp39-cp39-macosx_10_9_x86_64.whl (249 kB)\n",
      "\u001b[K     |████████████████████████████████| 249 kB 10.7 MB/s eta 0:00:01\n",
      "\u001b[?25hCollecting qdldl\n",
      "  Downloading qdldl-0.1.5.post2-cp39-cp39-macosx_10_9_x86_64.whl (98 kB)\n",
      "\u001b[K     |████████████████████████████████| 98 kB 9.8 MB/s  eta 0:00:01\n",
      "\u001b[?25hRequirement already satisfied: python-dateutil>=2.8.1 in /opt/anaconda3/lib/python3.9/site-packages (from pandas>=0.19->PyPortfolioOpt) (2.8.2)\n",
      "Requirement already satisfied: pytz>=2020.1 in /opt/anaconda3/lib/python3.9/site-packages (from pandas>=0.19->PyPortfolioOpt) (2021.3)\n",
      "Requirement already satisfied: six>=1.5 in /opt/anaconda3/lib/python3.9/site-packages (from python-dateutil>=2.8.1->pandas>=0.19->PyPortfolioOpt) (1.16.0)\n",
      "Collecting numpy<2.0.0,>=1.22.4\n",
      "  Downloading numpy-1.22.4-cp39-cp39-macosx_10_15_x86_64.whl (17.7 MB)\n",
      "\u001b[K     |████████████████████████████████| 17.7 MB 12.9 MB/s eta 0:00:01\n",
      "\u001b[?25hInstalling collected packages: numpy, qdldl, scs, osqp, ecos, cvxpy, PyPortfolioOpt\n",
      "  Attempting uninstall: numpy\n",
      "    Found existing installation: numpy 1.21.5\n",
      "    Uninstalling numpy-1.21.5:\n",
      "      Successfully uninstalled numpy-1.21.5\n",
      "\u001b[31mERROR: pip's dependency resolver does not currently take into account all the packages that are installed. This behaviour is the source of the following dependency conflicts.\n",
      "daal4py 2021.5.0 requires daal==2021.4.0, which is not installed.\n",
      "numba 0.55.1 requires numpy<1.22,>=1.18, but you have numpy 1.22.4 which is incompatible.\u001b[0m\n",
      "Successfully installed PyPortfolioOpt-1.5.3 cvxpy-1.2.1 ecos-2.0.10 numpy-1.22.4 osqp-0.6.2.post5 qdldl-0.1.5.post2 scs-3.2.0\n",
      "Note: you may need to restart the kernel to use updated packages.\n"
     ]
    }
   ],
   "source": [
    "pip install PyPortfolioOpt"
   ]
  },
  {
   "cell_type": "code",
   "execution_count": null,
   "id": "e605f30e",
   "metadata": {},
   "outputs": [],
   "source": []
  }
 ],
 "metadata": {
  "kernelspec": {
   "display_name": "Python 3 (ipykernel)",
   "language": "python",
   "name": "python3"
  },
  "language_info": {
   "codemirror_mode": {
    "name": "ipython",
    "version": 3
   },
   "file_extension": ".py",
   "mimetype": "text/x-python",
   "name": "python",
   "nbconvert_exporter": "python",
   "pygments_lexer": "ipython3",
   "version": "3.9.12"
  }
 },
 "nbformat": 4,
 "nbformat_minor": 5
}
